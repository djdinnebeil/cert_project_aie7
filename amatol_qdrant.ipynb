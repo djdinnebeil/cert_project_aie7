{
 "cells": [
  {
   "cell_type": "code",
   "execution_count": 2,
   "id": "6dfd08a7",
   "metadata": {},
   "outputs": [],
   "source": [
    "import os\n",
    "import getpass\n",
    "\n",
    "os.environ[\"OPENAI_API_KEY\"] = getpass.getpass(\"Enter your OpenAI API Key:\")"
   ]
  },
  {
   "cell_type": "code",
   "execution_count": 4,
   "id": "f433024c",
   "metadata": {},
   "outputs": [
    {
     "name": "stderr",
     "output_type": "stream",
     "text": [
      "Loading files: 100%|██████████| 66/66 [00:00<00:00, 7332.89it/s]\n"
     ]
    },
    {
     "name": "stdout",
     "output_type": "stream",
     "text": [
      "✅ Stored 428 chunks in collection 'historical_docs'\n"
     ]
    }
   ],
   "source": [
    "import os\n",
    "from pathlib import Path\n",
    "from langchain.document_loaders import TextLoader\n",
    "from langchain.text_splitter import RecursiveCharacterTextSplitter\n",
    "from langchain.embeddings import OpenAIEmbeddings\n",
    "from langchain.vectorstores import Qdrant\n",
    "from qdrant_client import QdrantClient\n",
    "from tqdm import tqdm\n",
    "\n",
    "# --- Settings ---\n",
    "COLLECTION_NAME = \"historical_docs\"\n",
    "ROOT_DIR = \"./data\"  # Modify this as needed\n",
    "\n",
    "# --- Step 1: Recursively find all .txt files ---\n",
    "def find_txt_files(root_dir: str) -> list[Path]:\n",
    "    return [p for p in Path(root_dir).rglob(\"*.txt\")]\n",
    "\n",
    "# --- Step 2: Load files and attach metadata ---\n",
    "def load_documents(paths: list[Path], root_dir: str) -> list:\n",
    "    all_docs = []\n",
    "    for path in tqdm(paths, desc=\"Loading files\"):\n",
    "        loader = TextLoader(str(path), encoding=\"utf-8\")\n",
    "        docs = loader.load()\n",
    "        for doc in docs:\n",
    "            doc.metadata[\"source\"] = str(path.relative_to(root_dir))\n",
    "        all_docs.extend(docs)\n",
    "    return all_docs\n",
    "\n",
    "# --- Step 3: Chunk into 500 tokens with 50 overlap ---\n",
    "def chunk_documents(docs: list) -> list:\n",
    "    splitter = RecursiveCharacterTextSplitter(chunk_size=500, chunk_overlap=50)\n",
    "    return splitter.split_documents(docs)\n",
    "\n",
    "# --- Step 4: Embed and upload to Qdrant ---\n",
    "def embed_and_store(chunks: list, collection_name: str):\n",
    "    embeddings = OpenAIEmbeddings()\n",
    "    client = QdrantClient(host=\"localhost\", port=6333)\n",
    "\n",
    "    vectorstore = Qdrant.from_documents(\n",
    "        documents=chunks,\n",
    "        embedding=embeddings,\n",
    "        host=\"localhost\",\n",
    "        port=6333,\n",
    "        collection_name=collection_name,\n",
    "    )\n",
    "\n",
    "    print(f\"✅ Stored {len(chunks)} chunks in collection '{collection_name}'\")\n",
    "\n",
    "\n",
    "txt_paths = find_txt_files(ROOT_DIR)\n",
    "raw_docs = load_documents(txt_paths, ROOT_DIR)\n",
    "chunks = chunk_documents(raw_docs)\n",
    "embed_and_store(chunks, COLLECTION_NAME)\n"
   ]
  },
  {
   "cell_type": "code",
   "execution_count": null,
   "id": "bfab59c7",
   "metadata": {},
   "outputs": [],
   "source": []
  }
 ],
 "metadata": {
  "kernelspec": {
   "display_name": ".venv",
   "language": "python",
   "name": "python3"
  },
  "language_info": {
   "codemirror_mode": {
    "name": "ipython",
    "version": 3
   },
   "file_extension": ".py",
   "mimetype": "text/x-python",
   "name": "python",
   "nbconvert_exporter": "python",
   "pygments_lexer": "ipython3",
   "version": "3.12.11"
  }
 },
 "nbformat": 4,
 "nbformat_minor": 5
}

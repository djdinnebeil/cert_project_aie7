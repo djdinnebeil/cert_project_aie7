{
  "cells": [
    {
      "cell_type": "code",
      "execution_count": 1,
      "metadata": {
        "colab": {
          "base_uri": "https://localhost:8080/"
        },
        "id": "7LttlDQUYgSI",
        "outputId": "9dca95ab-4d02-4adf-ec3f-cb831326dc54"
      },
      "outputs": [],
      "source": [
        "import os\n",
        "import getpass\n",
        "\n",
        "os.environ[\"OPENAI_API_KEY\"] = getpass.getpass(\"Enter your OpenAI API Key:\")"
      ]
    },
    {
      "cell_type": "code",
      "execution_count": 2,
      "metadata": {},
      "outputs": [],
      "source": [
        "os.environ[\"COHERE_API_KEY\"] = getpass.getpass(\"Cohere API Key:\")\n",
        "os.environ[\"TAVILY_API_KEY\"] = getpass.getpass(\"Tavily API Key:\")"
      ]
    },
    {
      "cell_type": "code",
      "execution_count": 3,
      "metadata": {},
      "outputs": [],
      "source": [
        "from uuid import uuid4\n",
        "\n",
        "os.environ[\"LANGCHAIN_TRACING_V2\"] = \"true\"\n",
        "os.environ[\"LANGCHAIN_PROJECT\"] = f\"AIE7 - Certification Challenge - {uuid4().hex[0:8]}\"\n",
        "os.environ[\"LANGCHAIN_API_KEY\"] = getpass.getpass(\"LangSmith API Key: \")"
      ]
    },
    {
      "cell_type": "code",
      "execution_count": 4,
      "metadata": {},
      "outputs": [
        {
          "name": "stderr",
          "output_type": "stream",
          "text": [
            "/tmp/ipykernel_84610/1911882425.py:3: LangChainDeprecationWarning: The class `TavilySearchResults` was deprecated in LangChain 0.3.25 and will be removed in 1.0. An updated version of the class exists in the :class:`~langchain-tavily package and should be used instead. To use it run `pip install -U :class:`~langchain-tavily` and import as `from :class:`~langchain_tavily import TavilySearch``.\n",
            "  tavily_tool = TavilySearchResults(max_results=5)\n"
          ]
        }
      ],
      "source": [
        "from langchain_community.tools.tavily_search import TavilySearchResults\n",
        "\n",
        "tavily_tool = TavilySearchResults(max_results=5)"
      ]
    },
    {
      "cell_type": "code",
      "execution_count": 5,
      "metadata": {},
      "outputs": [],
      "source": [
        "from langchain_community.document_loaders import DirectoryLoader\n",
        "from langchain_community.document_loaders import TextLoader\n",
        "\n",
        "path = \"data/\"\n",
        "loader = DirectoryLoader(path, glob=\"*.txt\", loader_cls=TextLoader, recursive=True)\n",
        "historical_docs = loader.load()"
      ]
    },
    {
      "cell_type": "code",
      "execution_count": 6,
      "metadata": {},
      "outputs": [
        {
          "data": {
            "text/plain": [
              "66"
            ]
          },
          "execution_count": 6,
          "metadata": {},
          "output_type": "execute_result"
        }
      ],
      "source": [
        "len(historical_docs)"
      ]
    },
    {
      "cell_type": "code",
      "execution_count": 7,
      "metadata": {
        "colab": {
          "base_uri": "https://localhost:8080/"
        },
        "id": "PkUkCf7DaMiq",
        "outputId": "e90bd5da-1d87-423b-838a-cb6efc16b199"
      },
      "outputs": [
        {
          "data": {
            "text/plain": [
              "Document(metadata={'source': 'data/newspaper_articles_1918/1918-03-07, 1, Tuckerton Beacon, new site selected.txt'}, page_content='```markdown PEOPLE ARISE TO DISCOVER EVIDENCES OF GOVERNMENT’S WAR ACTIVITIES \\n\\n**GREAT TRACT TAKEN OVER** *Elwood Stores and Homes Under Lease and Residents Prepare To Leave.*\\n\\nAtlantic City, March 3.—Transformed over-night from a peaceful Atlantic County hamlet into the nucleus of a great $11,000,000 shell-loading plant, Elwood, 25 miles from the resort, has been figuratively rubbing its eyes all day. When Elwoodians retired to rest last night they were surrounded by the quiet and calm that have characterized their community since the coming of the first settler.\\n\\nWhen they awoke today a large force of strangers had landed in their midst; their eyes beheld on the little-used side-track of the West Jersey & Seashore Railroad a half hundred freight cars bearing the legend, “Ordnance Department, U. S. A.,” and heavy motor trucks similarly decorated, chugged noisily about the quiet streets. ```\\n\\n```markdown Amazed at the transformation, and, with few exceptions entirely ignorant of its cause, the people immediately began diligent inquiries and were amazed to learn that their town had been chosen as the directing center of a great industrial project, the construction of which will begin tomorrow morning.\\n\\nThey learned that the strangers were made up of real estate men, whose work in securing the huge tract on which a shell-loading plant will stand has been practically completed; of construction workers in the employ of the Atlantic Loading Company, of New York, to which has been awarded the work of erecting the plant; and a force of engineers attached to the War Department. ```\\n\\n```markdown The Government representatives, they found, had come to talk business, and an hour after they had located Arthur Walker, proprietor of the Griswold Garden Tea Room, a favorite haunt for automobilists, they had bought the building and had begun the work of transforming it into a central office.\\n\\nDaniel B. Frazier, owner of a great part of the tract on which the new war industry will stand, worked diligently with J. B. Manly, of Somers Point, as his agent, among the few owners of the property who were holding out for bigger prices. They had practically completed their task before the day closed, and the word went out tonight that work on the great plant will positively begin tomorrow.\\n\\nTwo hundred men will arrive late tonight and this number will be increased to at least 1000 before tomorrow night. ```\\n\\n```markdown Options have been secured on the entire town of Elwood, including stores and residences, and the whole hamlet will in all probability be purchased by the big steel company behind the project for housing its thousands of employees during the construction of the plant.\\n\\nBuilding contractors visited the hamlet during the day, picking out the most desirable sites for barracks for workmen and other structures which will be used while the work of erection is going on.\\n\\nThe space on which the plant will be erected, made up for the most part of the Frazier and Jarmlusky tracts, is bounded in triangle shape by Hammonton, Elwood and Indian Mills, comprising several thousand acres. ```')"
            ]
          },
          "execution_count": 7,
          "metadata": {},
          "output_type": "execute_result"
        }
      ],
      "source": [
        "historical_docs[65]"
      ]
    },
    {
      "cell_type": "code",
      "execution_count": 8,
      "metadata": {},
      "outputs": [
        {
          "data": {
            "text/plain": [
              "388"
            ]
          },
          "execution_count": 8,
          "metadata": {},
          "output_type": "execute_result"
        }
      ],
      "source": [
        "from langchain.text_splitter import RecursiveCharacterTextSplitter\n",
        "\n",
        "text_splitter = RecursiveCharacterTextSplitter(chunk_size = 550, chunk_overlap = 50)\n",
        "split_documents = text_splitter.split_documents(historical_docs)\n",
        "len(split_documents)"
      ]
    },
    {
      "cell_type": "code",
      "execution_count": 9,
      "metadata": {},
      "outputs": [],
      "source": [
        "from langchain_openai.embeddings import OpenAIEmbeddings\n",
        "\n",
        "embedding_model = OpenAIEmbeddings(model=\"text-embedding-3-small\")"
      ]
    },
    {
      "cell_type": "code",
      "execution_count": 10,
      "metadata": {
        "id": "NT8ihRJbYmMT"
      },
      "outputs": [],
      "source": [
        "from langchain_qdrant import QdrantVectorStore\n",
        "from qdrant_client import QdrantClient\n",
        "from qdrant_client.http.models import Distance, VectorParams\n",
        "\n",
        "client = QdrantClient(':memory:')\n",
        "\n",
        "client.create_collection(\n",
        "    collection_name='amatol_data',\n",
        "    vectors_config=VectorParams(size=1536, distance=Distance.COSINE),\n",
        ")\n",
        "\n",
        "vector_store = QdrantVectorStore(\n",
        "    client=client,\n",
        "    collection_name='amatol_data',\n",
        "    embedding=embedding_model\n",
        ")"
      ]
    },
    {
      "cell_type": "code",
      "execution_count": 11,
      "metadata": {},
      "outputs": [],
      "source": [
        "_ = vector_store.add_documents(documents=split_documents)"
      ]
    },
    {
      "cell_type": "code",
      "execution_count": 12,
      "metadata": {
        "id": "GFDPrNBtb72o"
      },
      "outputs": [],
      "source": [
        "naive_retriever = vector_store.as_retriever(search_kwargs={\"k\" : 15})"
      ]
    },
    {
      "cell_type": "code",
      "execution_count": 13,
      "metadata": {},
      "outputs": [],
      "source": [
        "def retrieve(state):\n",
        "    retrieved_docs = naive_retriever.invoke(state[\"question\"])\n",
        "    return {\"context\": retrieved_docs}"
      ]
    },
    {
      "cell_type": "code",
      "execution_count": 14,
      "metadata": {
        "id": "7uSz-Dbqcoki"
      },
      "outputs": [],
      "source": [
        "from langchain_core.prompts import ChatPromptTemplate\n",
        "\n",
        "RAG_TEMPLATE = \"\"\"\\\n",
        "You are a historical assistant. Use the context provided below to answer the question.\n",
        "\n",
        "If you do not know the answer, or are unsure, say you don't know.\n",
        "\n",
        "Query:\n",
        "{question}\n",
        "\n",
        "Context:\n",
        "{context}\n",
        "\"\"\"\n",
        "\n",
        "rag_prompt = ChatPromptTemplate.from_template(RAG_TEMPLATE)"
      ]
    },
    {
      "cell_type": "code",
      "execution_count": 15,
      "metadata": {
        "id": "c-1t9H60dJLg"
      },
      "outputs": [],
      "source": [
        "from langchain_openai import ChatOpenAI\n",
        "\n",
        "llm = ChatOpenAI(model=\"gpt-4.1-nano\")"
      ]
    },
    {
      "cell_type": "code",
      "execution_count": 16,
      "metadata": {},
      "outputs": [],
      "source": [
        "def generate(state):\n",
        "    docs_content = \"\\n\\n\".join(doc.page_content for doc in state[\"context\"])\n",
        "    messages = rag_prompt.format_messages(question=state[\"question\"], context=docs_content)\n",
        "    response = llm.invoke(messages)\n",
        "    return {\"response\": response.content} "
      ]
    },
    {
      "cell_type": "code",
      "execution_count": 17,
      "metadata": {},
      "outputs": [],
      "source": [
        "from langgraph.graph import START, StateGraph\n",
        "from typing_extensions import TypedDict\n",
        "from langchain_core.documents import Document\n",
        "\n",
        "class State(TypedDict):\n",
        "    question: str\n",
        "    context: list[Document]\n",
        "    response: str\n",
        "\n",
        "graph_builder = StateGraph(State).add_sequence([retrieve, generate])\n",
        "graph_builder.add_edge(START, \"retrieve\")\n",
        "graph = graph_builder.compile()"
      ]
    },
    {
      "cell_type": "code",
      "execution_count": 18,
      "metadata": {},
      "outputs": [
        {
          "name": "stdout",
          "output_type": "stream",
          "text": [
            "Colonel Hawkins said that it was very hard to get people to work at the Amatol plant because of the danger associated with it. He explained that they had to build attractive accommodations to encourage workers to stay there, especially after the explosion at the Morgan, N.J. plant on October 4th, which made people more hesitant to work in such dangerous conditions. Hawkins also described the town of Amatol as a substantial safety zone, with the plant and town situated at a significant distance from each other—about two miles apart—to minimize risk to residents in case of an accident.\n"
          ]
        }
      ],
      "source": [
        "response = graph.invoke({\"question\": \"What did Colonel Hawkins say about the town and plant of Amatol, NJ?\"})\n",
        "print(response[\"response\"])"
      ]
    },
    {
      "cell_type": "code",
      "execution_count": 21,
      "metadata": {},
      "outputs": [
        {
          "name": "stdout",
          "output_type": "stream",
          "text": [
            "Chunk  1\n",
            "as we could in order to get people to stay there; particularly in view of the knowledge of most people of the danger.” Being situated between Atlantic City and Philadelphia, Amatol was conveniently located for ease of access to the Jersey Shore and a great metropolitan city. In addition to town amenities, Lieutenant Colonel Hawkins also explained that the size of Amatol—6,000 acres—was meant as a “substantial safety zone.”\n",
            "data/amatol_sojourn/amatol_sojourn_article.txt\n",
            "Chunk  2\n",
            "Amatol--The Town\n",
            "by Editorial Staff--SouthJersey.com | Aug 11, 2014\n",
            "Amatol--The Town\n",
            "Did you know that there used to be a town, just outside of Hammonton, called Amatol, that contained a munitions plant and the residences of the plant's workers? There was also a \"Speedway\" there. Today, if you look closely, you can still see parts of Amatol...\n",
            "data/amatol_misc/2014-4-11_amatol_the_town_south_jersey_editorial_2014.txt\n",
            "Chunk  3\n",
            "COL. HAWKINS. Speaking first about the loading plant at Amatol, 25 miles from Atlantic City, we could not get people to go out there. We had to build rather attractive accommodations for them to get them there. It was very hard to get any there. We had to make it just as attractive as we could in order to get people to stay there; particularly in view of the knowledge of most people of the danger. The Morgan, N.J., plant blew all to pieces on the 4th of October, and we had all sorts of trouble getting people to work from that time on. And we\n",
            "data/war_expenditures_interview/1919-08-20 War Expenditures p 511.txt\n",
            "Chunk  4\n",
            "Little remains of Amatol today. After a hike through the Pine Barrens, remnants of the munitions plant, town, and racetrack can be found at the former site of Amatol. Of the many buildings and homes that were constructed, only two still remain: the now-abandoned State Police barracks outside of Hammonton and one house, which was moved to the White Horse Pike, where it is still occupied. During the 1980s, the Amatol site was considered for a landfill, but the proposal was shot down due to environmental concerns and an opposition by local\n",
            "data/amatol_sojourn/amatol_sojourn_article.txt\n",
            "Chunk  5\n",
            "Amatol, New Jersey, was built on 6,000 acres of land in the Pine Barrens. The planned community was short lived: After World War I ended that same year, Amatol became a vacant town. The homes were deserted and the plant shut down. Because most of the buildings were built to be temporary, they were dismantled and little was left behind. The factory was eventually demolished.\n",
            "data/amatol_misc/2018-10-16_amatol_article.txt\n",
            "Chunk  6\n",
            "THE TOWN OF AMATOL\n",
            "\n",
            "The town of Amatol, which is named after one of the explosives used in the plant, covers a tract of about 350 acres lying to the northeast of the plant. A distance of upward of two miles separates the closest points between town and plant.\n",
            "data/amatol_book/p-181b.txt\n",
            "Chunk  7\n",
            "A detailed description of the construction is recorded by Victor F. Hammel in the Construction and Operation of a Shell Loading Plant and the Town of Amatol, New Jersey, commonly known as the “Amatol book”. In total, 1,600 acres had to be cleared for the plant, and 38 acres had to be cleared and 255 acres trimmed for the town. This was no easy task. The land was mostly wooded with some acres of swamp and was difficult to clear due to a “dense, tangled nature of growth.” The initial workforce included forty men, and within the first week, the\n",
            "data/amatol_sojourn/amatol_sojourn_article.txt\n",
            "Chunk  8\n",
            "HAMMONTON, N. J., Dec. 13.— That the big plant at Amatol will be retained by the government is indicated by the fact that Captain E. H. Nash, who is in charge, has requested permission of the Atlantic County Board of Freeholders to lay two sets of additional tracks across the county boulevard. According to a member of the Board of Freeholders, condemnation proceedings have been started on some of the lands close to the plant. The recent visit of War Department officials, said to have included Secretary Newton D. Baker, is believed to have\n",
            "data/newspaper_articles_1918/1918-12-14, 2, Philadelphia Inquirer, work of some sort to still continue.txt\n",
            "Chunk  9\n",
            "Amatol Munitions Factory\n",
            "Amatol is an abandoned munitions factory and\n",
            "associated company town, located just a few\n",
            "miles east of Hammonton. Constructed by the\n",
            "Atlantic Shell Loading Company, Amatol\n",
            "derives its name from the explosive loaded into\n",
            "the shell as an accelerant for the projectile.\n",
            "data/amatol_misc/2015-10-12_amatol_munitions_noyes_musuem_2015.txt\n",
            "Chunk  10\n",
            "Shell Loading at Amatol, N.J.  (150 scanned pages) is a rare, oversize book that documented the building of a bomb making facility at the tail end of World War I.  Amatol was an extensive and attractive \"company town\" to support the ordnance facility. That town of 10,000 disappeared very quickly.  However, unlike so many New Jersey \"ghost towns\", this one was fully documented by the company that built it.  For anyone familiar with the site Amatol, and later, the wood board Atlantic City Speedway occupied, it is a shock to learn that there had\n",
            "data/amatol_misc/2016-10-13_amatol_lost_history_summary.txt\n",
            "Chunk  11\n",
            "Amatol ruins   57butler / Atlas Obscura User\n",
            "About\n",
            "During the last years of World War I, a new explosive was invented to help stretch the depleting stores of TNT. It was called Amatol, and in 1918, shortly after the United States entered the war, a munitions plant and adjacent factory town were established in New Jersey named after the explosive they manufactured.\n",
            "data/amatol_misc/2018-10-16_amatol_article.txt\n",
            "Chunk  12\n",
            "As a result of America’s entry into World War I, Atlantic County received a great expansion of its industrial economic base. The largest result of this expansion was the construction of Amatol, a planned shell-loading munitions plant and workers’ village that once occupied a tract of 6,000 acres between East Hammonton and Elwood. What is fascinating about Amatol and other planned communities is the speed in which they were completed. In just nine months’ time, the new town and manufactory were completed reaching a population of 7,000. Today,\n",
            "data/amatol_sojourn/amatol_sojourn_article.txt\n",
            "Chunk  13\n",
            "Amatol: A  former World War I munitions factory,  located   in Mullica Township, NJ\n",
            "\n",
            "The Book\n",
            "data/amatol_misc/2016-10-13_amatol_lost_history_summary.txt\n",
            "Chunk  14\n",
            "Amatol, New Jersey\n",
            "January, 1919\n",
            "data/amatol_book/p-07.txt\n",
            "Chunk  15\n",
            "In 1917, the US entered the War. Then, in 1918, the US built a plant to supply munitions to the armed forces. It purchased 6000 acres of land a few miles east of Hammonton, NJ, and built a munitions plant and a town to house the 10,000-20,000 plant workers. The plant made munitions of many different types and sizes, and was called Amatol.\n",
            "\n",
            "The town of Amatol was built two miles away. This distance was to protect the workers and families in the event of an accident at the plant.\n",
            "data/amatol_misc/2014-4-11_amatol_the_town_south_jersey_editorial_2014.txt\n"
          ]
        }
      ],
      "source": [
        "for i, doc in enumerate(response[\"context\"]):\n",
        "    print('Chunk ', i + 1)\n",
        "    print(doc.page_content)\n",
        "    print(doc.metadata['source'])"
      ]
    },
    {
      "cell_type": "code",
      "execution_count": 22,
      "metadata": {},
      "outputs": [],
      "source": [
        "from langchain_core.tools import tool\n",
        "from langchain_core.messages import HumanMessage\n",
        "\n",
        "@tool\n",
        "def historical_rag_tool(question: str) -> str:\n",
        "\t\"\"\"Useful for when you need to answer questions about history. Input should be a fully formed question.\"\"\"\n",
        "\tresponse = graph.invoke({\"question\": question})\n",
        "\treturn {\n",
        "\t\t\"messages\": [HumanMessage(content=response[\"response\"])],\n",
        "\t\t\"context\": response[\"context\"]\n",
        "    }"
      ]
    },
    {
      "cell_type": "code",
      "execution_count": 23,
      "metadata": {},
      "outputs": [],
      "source": [
        "tool_belt = [\n",
        "    tavily_tool,\n",
        "    historical_rag_tool\n",
        "]"
      ]
    },
    {
      "cell_type": "code",
      "execution_count": 24,
      "metadata": {},
      "outputs": [],
      "source": [
        "from langchain_openai import ChatOpenAI\n",
        "\n",
        "model = ChatOpenAI(model=\"gpt-4.1-nano\", temperature=0)"
      ]
    },
    {
      "cell_type": "code",
      "execution_count": 25,
      "metadata": {},
      "outputs": [],
      "source": [
        "model = model.bind_tools(tool_belt)"
      ]
    },
    {
      "cell_type": "code",
      "execution_count": 26,
      "metadata": {},
      "outputs": [],
      "source": [
        "from typing import TypedDict, Annotated\n",
        "from langgraph.graph.message import add_messages\n",
        "import operator\n",
        "from langchain_core.messages import BaseMessage\n",
        "from langchain_core.documents import Document\n",
        "\n",
        "class AgentState(TypedDict):\n",
        "  messages: Annotated[list, add_messages]\n",
        "  context: list[Document]"
      ]
    },
    {
      "cell_type": "code",
      "execution_count": 27,
      "metadata": {},
      "outputs": [],
      "source": [
        "from langgraph.prebuilt import ToolNode\n",
        "\n",
        "def call_model(state):\n",
        "    messages = state[\"messages\"]\n",
        "    response = model.invoke(messages)\n",
        "    return {\n",
        "        \"messages\": [response],\n",
        "        \"context\": state.get(\"context\", [])\n",
        "    }\n",
        "\n",
        "tool_node = ToolNode(tool_belt)"
      ]
    },
    {
      "cell_type": "code",
      "execution_count": 28,
      "metadata": {},
      "outputs": [
        {
          "data": {
            "text/plain": [
              "<langgraph.graph.state.StateGraph at 0x780eb94b4440>"
            ]
          },
          "execution_count": 28,
          "metadata": {},
          "output_type": "execute_result"
        }
      ],
      "source": [
        "from langgraph.graph import StateGraph, END\n",
        "\n",
        "uncompiled_graph = StateGraph(AgentState)\n",
        "\n",
        "uncompiled_graph.add_node(\"agent\", call_model)\n",
        "uncompiled_graph.add_node(\"action\", tool_node)"
      ]
    },
    {
      "cell_type": "code",
      "execution_count": 30,
      "metadata": {},
      "outputs": [
        {
          "data": {
            "text/plain": [
              "<langgraph.graph.state.StateGraph at 0x780eb94b4440>"
            ]
          },
          "execution_count": 30,
          "metadata": {},
          "output_type": "execute_result"
        }
      ],
      "source": [
        "uncompiled_graph.set_entry_point(\"agent\")\n"
      ]
    },
    {
      "cell_type": "code",
      "execution_count": 31,
      "metadata": {},
      "outputs": [
        {
          "data": {
            "text/plain": [
              "<langgraph.graph.state.StateGraph at 0x780eb94b4440>"
            ]
          },
          "execution_count": 31,
          "metadata": {},
          "output_type": "execute_result"
        }
      ],
      "source": [
        "def should_continue(state):\n",
        "  last_message = state[\"messages\"][-1]\n",
        "\n",
        "  if last_message.tool_calls:\n",
        "    return \"action\"\n",
        "\n",
        "  return END\n",
        "\n",
        "uncompiled_graph.add_conditional_edges(\n",
        "    \"agent\",\n",
        "    should_continue\n",
        ")"
      ]
    },
    {
      "cell_type": "code",
      "execution_count": 32,
      "metadata": {},
      "outputs": [
        {
          "data": {
            "text/plain": [
              "<langgraph.graph.state.StateGraph at 0x780eb94b4440>"
            ]
          },
          "execution_count": 32,
          "metadata": {},
          "output_type": "execute_result"
        }
      ],
      "source": [
        "uncompiled_graph.add_edge(\"action\", \"agent\")\n"
      ]
    },
    {
      "cell_type": "code",
      "execution_count": 33,
      "metadata": {},
      "outputs": [],
      "source": [
        "compiled_graph = uncompiled_graph.compile()\n"
      ]
    },
    {
      "cell_type": "code",
      "execution_count": 34,
      "metadata": {},
      "outputs": [
        {
          "data": {
            "image/png": "[encoded data removed]",
            "text/plain": [
              "<langgraph.graph.state.CompiledStateGraph object at 0x780eb94d7620>"
            ]
          },
          "execution_count": 34,
          "metadata": {},
          "output_type": "execute_result"
        }
      ],
      "source": [
        "compiled_graph"
      ]
    },
    {
      "cell_type": "code",
      "execution_count": 38,
      "metadata": {},
      "outputs": [
        {
          "name": "stdout",
          "output_type": "stream",
          "text": [
            "Receiving update from node: 'agent'\n",
            "[AIMessage(content='', additional_kwargs={'tool_calls': [{'id': 'call_Ju7rBX4wEEn1Ja1xtwzmxJjm', 'function': {'arguments': '{\"question\":\"What did Colonel Hawkins say about the town of Amatol, NJ?\"}', 'name': 'historical_rag_tool'}, 'type': 'function'}], 'refusal': None}, response_metadata={'token_usage': {'completion_tokens': 31, 'prompt_tokens': 129, 'total_tokens': 160, 'completion_tokens_details': {'accepted_prediction_tokens': 0, 'audio_tokens': 0, 'reasoning_tokens': 0, 'rejected_prediction_tokens': 0}, 'prompt_tokens_details': {'audio_tokens': 0, 'cached_tokens': 0}}, 'model_name': 'gpt-4.1-nano-2025-04-14', 'system_fingerprint': 'fp_f12167b370', 'id': 'chatcmpl-C0wwsPcFW3uRLBtqnHZz2O2IsAlFl', 'service_tier': 'default', 'finish_reason': 'tool_calls', 'logprobs': None}, id='run--acca28c2-a76c-4b9b-ba00-f3238c9a6ff6-0', tool_calls=[{'name': 'historical_rag_tool', 'args': {'question': 'What did Colonel Hawkins say about the town of Amatol, NJ?'}, 'id': 'call_Ju7rBX4wEEn1Ja1xtwzmxJjm', 'type': 'tool_call'}], usage_metadata={'input_tokens': 129, 'output_tokens': 31, 'total_tokens': 160, 'input_token_details': {'audio': 0, 'cache_read': 0}, 'output_token_details': {'audio': 0, 'reasoning': 0}})]\n",
            "\n",
            "\n",
            "\n",
            "Receiving update from node: 'action'\n",
            "Tool used: historical_rag_tool\n",
            "[ToolMessage(content='{\\'messages\\': [HumanMessage(content=\\'Colonel Hawkins said that at the loading plant at Amatol, it was very difficult to get people to work there because of the danger associated with the site. He mentioned that they had to build attractive accommodations to encourage people to stay and work in Amatol. Specifically, he stated, \"we could not get people to go out there. We had to make it just as attractive as we could in order to get people to stay there; particularly in view of the knowledge of most people of the danger.\" This indicates that fear of the hazards involved in working at the munitions plant was a significant obstacle, and efforts were made to address this by making the living and working conditions as appealing as possible.\\', additional_kwargs={}, response_metadata={})], \\'context\\': [Document(metadata={\\'source\\': \\'data/amatol_sojourn/amatol_sojourn_article.txt\\', \\'_id\\': \\'3e7e71675e4c4631bdbfdf6d04217860\\', \\'_collection_name\\': \\'amatol_data\\'}, page_content=\\'as we could in order to get people to stay there; particularly in view of the knowledge of most people of the danger.” Being situated between Atlantic City and Philadelphia, Amatol was conveniently located for ease of access to the Jersey Shore and a great metropolitan city. In addition to town amenities, Lieutenant Colonel Hawkins also explained that the size of Amatol—6,000 acres—was meant as a “substantial safety zone.”\\'), Document(metadata={\\'source\\': \\'data/amatol_misc/2014-4-11_amatol_the_town_south_jersey_editorial_2014.txt\\', \\'_id\\': \\'73cdf7fda1264d1cbb9b638f4cb0e55e\\', \\'_collection_name\\': \\'amatol_data\\'}, page_content=\\'Amatol--The Town\\\\nby Editorial Staff--SouthJersey.com | Aug 11, 2014\\\\nAmatol--The Town\\\\nDid you know that there used to be a town, just outside of Hammonton, called Amatol, that contained a munitions plant and the residences of the plant\\\\\\'s workers? There was also a \"Speedway\" there. Today, if you look closely, you can still see parts of Amatol...\\'), Document(metadata={\\'source\\': \\'data/amatol_sojourn/amatol_sojourn_article.txt\\', \\'_id\\': \\'56ab4419ca0d4c1587d5744f5617f1fb\\', \\'_collection_name\\': \\'amatol_data\\'}, page_content=\\'Little remains of Amatol today. After a hike through the Pine Barrens, remnants of the munitions plant, town, and racetrack can be found at the former site of Amatol. Of the many buildings and homes that were constructed, only two still remain: the now-abandoned State Police barracks outside of Hammonton and one house, which was moved to the White Horse Pike, where it is still occupied. During the 1980s, the Amatol site was considered for a landfill, but the proposal was shot down due to environmental concerns and an opposition by local\\'), Document(metadata={\\'source\\': \\'data/amatol_misc/2018-10-16_amatol_article.txt\\', \\'_id\\': \\'086481bc306d429f9e47ad9016e6e51a\\', \\'_collection_name\\': \\'amatol_data\\'}, page_content=\\'Amatol, New Jersey, was built on 6,000 acres of land in the Pine Barrens. The planned community was short lived: After World War I ended that same year, Amatol became a vacant town. The homes were deserted and the plant shut down. Because most of the buildings were built to be temporary, they were dismantled and little was left behind. The factory was eventually demolished.\\'), Document(metadata={\\'source\\': \\'data/amatol_book/p-07.txt\\', \\'_id\\': \\'3ab6f7b4761d42da979e4927e4437608\\', \\'_collection_name\\': \\'amatol_data\\'}, page_content=\\'Amatol, New Jersey\\\\nJanuary, 1919\\'), Document(metadata={\\'source\\': \\'data/war_expenditures_interview/1919-08-20 War Expenditures p 511.txt\\', \\'_id\\': \\'279ec0be343645b4b30feacdb0718d69\\', \\'_collection_name\\': \\'amatol_data\\'}, page_content=\\'COL. HAWKINS. Speaking first about the loading plant at Amatol, 25 miles from Atlantic City, we could not get people to go out there. We had to build rather attractive accommodations for them to get them there. It was very hard to get any there. We had to make it just as attractive as we could in order to get people to stay there; particularly in view of the knowledge of most people of the danger. The Morgan, N.J., plant blew all to pieces on the 4th of October, and we had all sorts of trouble getting people to work from that time on. And we\\'), Document(metadata={\\'source\\': \\'data/amatol_misc/2015-10-12_amatol_munitions_noyes_musuem_2015.txt\\', \\'_id\\': \\'d97c6e3859f4427db56253328e8c0bb9\\', \\'_collection_name\\': \\'amatol_data\\'}, page_content=\\'Amatol Munitions Factory\\\\nAmatol is an abandoned munitions factory and\\\\nassociated company town, located just a few\\\\nmiles east of Hammonton. Constructed by the\\\\nAtlantic Shell Loading Company, Amatol\\\\nderives its name from the explosive loaded into\\\\nthe shell as an accelerant for the projectile.\\'), Document(metadata={\\'source\\': \\'data/amatol_misc/2016-10-13_amatol_lost_history_summary.txt\\', \\'_id\\': \\'3d8611661f9944c8b5d9cc83617f7f7e\\', \\'_collection_name\\': \\'amatol_data\\'}, page_content=\\'Shell Loading at Amatol, N.J.  (150 scanned pages) is a rare, oversize book that documented the building of a bomb making facility at the tail end of World War I.  Amatol was an extensive and attractive \"company town\" to support the ordnance facility. That town of 10,000 disappeared very quickly.  However, unlike so many New Jersey \"ghost towns\", this one was fully documented by the company that built it.  For anyone familiar with the site Amatol, and later, the wood board Atlantic City Speedway occupied, it is a shock to learn that there had\\'), Document(metadata={\\'source\\': \\'data/newspaper_articles_1918/1918-08-25_Amatol_advertisement_Philadelphia_Inquirer.txt\\', \\'_id\\': \\'0c635cb7d24f4b68ba8046653a5dbc79\\', \\'_collection_name\\': \\'amatol_data\\'}, page_content=\\'A city with all modern improvements, located three miles from plant, with electric lights, fire department, police department, modern sewage system, modern water plant, Y. M. C. A. auditorium, recreation halls, bowling alleys, etc.\\\\n\\\\nIt is estimated that the permanent population of the town of Amatol will be over 10,000 people.\\\\n\\\\nFor further particulars, apply Renting Agent.\\\\n\\\\nATLANTIC LOADING CO. Hammonton, N.J.\\'), Document(metadata={\\'source\\': \\'data/newspaper_articles_1918/1918-06-05, 13, Philadelphia Inquirer, new train service and population size.txt\\', \\'_id\\': \\'981f3b5b32c54f29aff52dbf1efcf0be\\', \\'_collection_name\\': \\'amatol_data\\'}, page_content=\\'HAMMONTON, N. J., June 4—The West Jersey and Seashore Railroad has just inaugurated a train service to Amatol, the new town built by and for the Atlantic Loading Company, the new munition concern whose plant is located several miles from this place. Amatol is now a hustling community of nearly two thousand people. The new service makes one trip a day between Berlin and Amatol, and two trips a day between this place and Amatol. Hundreds of employees patronized the service yesterday, the initial day of the project.\\'), Document(metadata={\\'source\\': \\'data/amatol_misc/2018-10-16_amatol_article.txt\\', \\'_id\\': \\'47e1c9524111463dbb3887c31b18578c\\', \\'_collection_name\\': \\'amatol_data\\'}, page_content=\\'Amatol ruins   57butler / Atlas Obscura User\\\\nAbout\\\\nDuring the last years of World War I, a new explosive was invented to help stretch the depleting stores of TNT. It was called Amatol, and in 1918, shortly after the United States entered the war, a munitions plant and adjacent factory town were established in New Jersey named after the explosive they manufactured.\\'), Document(metadata={\\'source\\': \\'data/amatol_misc/2016-10-13_amatol_lost_history_summary.txt\\', \\'_id\\': \\'5f1aa78b067c40aca6f75ddae91cad8a\\', \\'_collection_name\\': \\'amatol_data\\'}, page_content=\\'Amatol: A  former World War I munitions factory,  located   in Mullica Township, NJ\\\\n\\\\nThe Book\\'), Document(metadata={\\'source\\': \\'data/amatol_misc/2019-10-15_amatol_article.txt\\', \\'_id\\': \\'ba0a1cbe73c8413f949610d52845fc94\\', \\'_collection_name\\': \\'amatol_data\\'}, page_content=\\'Only two buildings from Amatol are still standing: the administration building became the now-abandoned State Police barracks outside Hammonton, and one of the houses was moved to the White Horse Pike, where it’s still occupied.\\\\n\\\\nInterestingly, many of Amatol’s buildings were designed to be temporary. The privately owned forest land behind the township’s recreational fields are strewn with bits of brick, concrete, and terra cotta — the materials used to construct these temporary structures.\\'), Document(metadata={\\'source\\': \\'data/amatol_book/p-181b.txt\\', \\'_id\\': \\'265ab27d6bc344d1b2fa38dedc4e68b3\\', \\'_collection_name\\': \\'amatol_data\\'}, page_content=\\'THE TOWN OF AMATOL\\\\n\\\\nThe town of Amatol, which is named after one of the explosives used in the plant, covers a tract of about 350 acres lying to the northeast of the plant. A distance of upward of two miles separates the closest points between town and plant.\\'), Document(metadata={\\'source\\': \\'data/amatol_sojourn/amatol_sojourn_article.txt\\', \\'_id\\': \\'8dca2e7ffd0048d5badd8333f3556972\\', \\'_collection_name\\': \\'amatol_data\\'}, page_content=\\'As a result of America’s entry into World War I, Atlantic County received a great expansion of its industrial economic base. The largest result of this expansion was the construction of Amatol, a planned shell-loading munitions plant and workers’ village that once occupied a tract of 6,000 acres between East Hammonton and Elwood. What is fascinating about Amatol and other planned communities is the speed in which they were completed. In just nine months’ time, the new town and manufactory were completed reaching a population of 7,000. Today,\\')]}', name='historical_rag_tool', id='cfdf891d-0b3f-4400-b6a5-d63e0c182bff', tool_call_id='call_Ju7rBX4wEEn1Ja1xtwzmxJjm')]\n",
            "\n",
            "\n",
            "\n",
            "Receiving update from node: 'agent'\n",
            "[AIMessage(content='Colonel Hawkins said that at the loading plant at Amatol, it was very difficult to get people to work there because of the danger associated with the site. He mentioned that they had to build attractive accommodations to encourage people to stay and work in Amatol. Specifically, he stated, \"we could not get people to go out there. We had to make it just as attractive as we could in order to get people to stay there; particularly in view of the knowledge of most people of the danger.\" This indicates that fear of the hazards involved in working at the munitions plant was a significant obstacle, and efforts were made to address this by making the living and working conditions as appealing as possible.', additional_kwargs={'refusal': None}, response_metadata={'token_usage': {'completion_tokens': 144, 'prompt_tokens': 2618, 'total_tokens': 2762, 'completion_tokens_details': {'accepted_prediction_tokens': 0, 'audio_tokens': 0, 'reasoning_tokens': 0, 'rejected_prediction_tokens': 0}, 'prompt_tokens_details': {'audio_tokens': 0, 'cached_tokens': 0}}, 'model_name': 'gpt-4.1-nano-2025-04-14', 'system_fingerprint': 'fp_f12167b370', 'id': 'chatcmpl-C0wwwhRzCFYXXuhfbSOflaknHQKGH', 'service_tier': 'default', 'finish_reason': 'stop', 'logprobs': None}, id='run--a1e56136-a082-4b4f-8472-2fc5677d081d-0', usage_metadata={'input_tokens': 2618, 'output_tokens': 144, 'total_tokens': 2762, 'input_token_details': {'audio': 0, 'cache_read': 0}, 'output_token_details': {'audio': 0, 'reasoning': 0}})]\n",
            "\n",
            "\n",
            "\n"
          ]
        }
      ],
      "source": [
        "from langchain_core.messages import HumanMessage\n",
        "\n",
        "inputs = {\"messages\" : [HumanMessage(content=\"What did Colonel Hawkins say about the town of Amatol, NJ?\")]}\n",
        "\n",
        "async for chunk in compiled_graph.astream(inputs, stream_mode=\"updates\"):\n",
        "    for node, values in chunk.items():\n",
        "        print(f\"Receiving update from node: '{node}'\")\n",
        "        if node == \"action\":\n",
        "            print(f\"Tool used: {values['messages'][0].name}\")\n",
        "        print(values[\"messages\"])\n",
        "        print(\"\\n\\n\")"
      ]
    },
    {
      "cell_type": "code",
      "execution_count": 39,
      "metadata": {},
      "outputs": [
        {
          "name": "stdout",
          "output_type": "stream",
          "text": [
            "Receiving update from node: 'agent'\n",
            "[AIMessage(content='', additional_kwargs={'tool_calls': [{'id': 'call_BxJqL0e4e1K9oa3zK0FEDZKK', 'function': {'arguments': '{\"question\":\"What was the motto of Amatol, NJ during construction?\"}', 'name': 'historical_rag_tool'}, 'type': 'function'}], 'refusal': None}, response_metadata={'token_usage': {'completion_tokens': 29, 'prompt_tokens': 127, 'total_tokens': 156, 'completion_tokens_details': {'accepted_prediction_tokens': 0, 'audio_tokens': 0, 'reasoning_tokens': 0, 'rejected_prediction_tokens': 0}, 'prompt_tokens_details': {'audio_tokens': 0, 'cached_tokens': 0}}, 'model_name': 'gpt-4.1-nano-2025-04-14', 'system_fingerprint': 'fp_f12167b370', 'id': 'chatcmpl-C0wxzjr9ERrDITBwBqLIcRbadXA2o', 'service_tier': 'default', 'finish_reason': 'tool_calls', 'logprobs': None}, id='run--cb49eef1-2e5a-4eb7-8d82-9a0035ad3156-0', tool_calls=[{'name': 'historical_rag_tool', 'args': {'question': 'What was the motto of Amatol, NJ during construction?'}, 'id': 'call_BxJqL0e4e1K9oa3zK0FEDZKK', 'type': 'tool_call'}], usage_metadata={'input_tokens': 127, 'output_tokens': 29, 'total_tokens': 156, 'input_token_details': {'audio': 0, 'cache_read': 0}, 'output_token_details': {'audio': 0, 'reasoning': 0}})]\n",
            "\n",
            "\n",
            "\n",
            "Receiving update from node: 'action'\n",
            "Tool used: historical_rag_tool\n",
            "[ToolMessage(content='{\\'messages\\': [HumanMessage(content=\\'The provided context does not include any information about the motto of Amatol, NJ during its construction. Therefore, I do not know the motto.\\', additional_kwargs={}, response_metadata={})], \\'context\\': [Document(metadata={\\'source\\': \\'data/amatol_book/p-07.txt\\', \\'_id\\': \\'3ab6f7b4761d42da979e4927e4437608\\', \\'_collection_name\\': \\'amatol_data\\'}, page_content=\\'Amatol, New Jersey\\\\nJanuary, 1919\\'), Document(metadata={\\'source\\': \\'data/amatol_misc/2018-10-16_amatol_article.txt\\', \\'_id\\': \\'086481bc306d429f9e47ad9016e6e51a\\', \\'_collection_name\\': \\'amatol_data\\'}, page_content=\\'Amatol, New Jersey, was built on 6,000 acres of land in the Pine Barrens. The planned community was short lived: After World War I ended that same year, Amatol became a vacant town. The homes were deserted and the plant shut down. Because most of the buildings were built to be temporary, they were dismantled and little was left behind. The factory was eventually demolished.\\'), Document(metadata={\\'source\\': \\'data/amatol_misc/2014-4-11_amatol_the_town_south_jersey_editorial_2014.txt\\', \\'_id\\': \\'73cdf7fda1264d1cbb9b638f4cb0e55e\\', \\'_collection_name\\': \\'amatol_data\\'}, page_content=\\'Amatol--The Town\\\\nby Editorial Staff--SouthJersey.com | Aug 11, 2014\\\\nAmatol--The Town\\\\nDid you know that there used to be a town, just outside of Hammonton, called Amatol, that contained a munitions plant and the residences of the plant\\\\\\'s workers? There was also a \"Speedway\" there. Today, if you look closely, you can still see parts of Amatol...\\'), Document(metadata={\\'source\\': \\'data/amatol_sojourn/amatol_sojourn_article.txt\\', \\'_id\\': \\'4af871ac4bfa4098aea67266df4a5d21\\', \\'_collection_name\\': \\'amatol_data\\'}, page_content=\\'All Aboard for Amatol, NJ\\'), Document(metadata={\\'source\\': \\'data/amatol_misc/2016-10-13_amatol_lost_history_summary.txt\\', \\'_id\\': \\'3d8611661f9944c8b5d9cc83617f7f7e\\', \\'_collection_name\\': \\'amatol_data\\'}, page_content=\\'Shell Loading at Amatol, N.J.  (150 scanned pages) is a rare, oversize book that documented the building of a bomb making facility at the tail end of World War I.  Amatol was an extensive and attractive \"company town\" to support the ordnance facility. That town of 10,000 disappeared very quickly.  However, unlike so many New Jersey \"ghost towns\", this one was fully documented by the company that built it.  For anyone familiar with the site Amatol, and later, the wood board Atlantic City Speedway occupied, it is a shock to learn that there had\\'), Document(metadata={\\'source\\': \\'data/amatol_misc/2019-10-15_amatol_article.txt\\', \\'_id\\': \\'ba0a1cbe73c8413f949610d52845fc94\\', \\'_collection_name\\': \\'amatol_data\\'}, page_content=\\'Only two buildings from Amatol are still standing: the administration building became the now-abandoned State Police barracks outside Hammonton, and one of the houses was moved to the White Horse Pike, where it’s still occupied.\\\\n\\\\nInterestingly, many of Amatol’s buildings were designed to be temporary. The privately owned forest land behind the township’s recreational fields are strewn with bits of brick, concrete, and terra cotta — the materials used to construct these temporary structures.\\'), Document(metadata={\\'source\\': \\'data/newspaper_articles_1918/1918-06-05, 13, Philadelphia Inquirer, new train service and population size.txt\\', \\'_id\\': \\'981f3b5b32c54f29aff52dbf1efcf0be\\', \\'_collection_name\\': \\'amatol_data\\'}, page_content=\\'HAMMONTON, N. J., June 4—The West Jersey and Seashore Railroad has just inaugurated a train service to Amatol, the new town built by and for the Atlantic Loading Company, the new munition concern whose plant is located several miles from this place. Amatol is now a hustling community of nearly two thousand people. The new service makes one trip a day between Berlin and Amatol, and two trips a day between this place and Amatol. Hundreds of employees patronized the service yesterday, the initial day of the project.\\'), Document(metadata={\\'source\\': \\'data/amatol_sojourn/amatol_sojourn_article.txt\\', \\'_id\\': \\'8dca2e7ffd0048d5badd8333f3556972\\', \\'_collection_name\\': \\'amatol_data\\'}, page_content=\\'As a result of America’s entry into World War I, Atlantic County received a great expansion of its industrial economic base. The largest result of this expansion was the construction of Amatol, a planned shell-loading munitions plant and workers’ village that once occupied a tract of 6,000 acres between East Hammonton and Elwood. What is fascinating about Amatol and other planned communities is the speed in which they were completed. In just nine months’ time, the new town and manufactory were completed reaching a population of 7,000. Today,\\'), Document(metadata={\\'source\\': \\'data/amatol_misc/2016-10-13_amatol_lost_history_summary.txt\\', \\'_id\\': \\'5f1aa78b067c40aca6f75ddae91cad8a\\', \\'_collection_name\\': \\'amatol_data\\'}, page_content=\\'Amatol: A  former World War I munitions factory,  located   in Mullica Township, NJ\\\\n\\\\nThe Book\\'), Document(metadata={\\'source\\': \\'data/amatol_misc/2018-10-16_amatol_article.txt\\', \\'_id\\': \\'47e1c9524111463dbb3887c31b18578c\\', \\'_collection_name\\': \\'amatol_data\\'}, page_content=\\'Amatol ruins   57butler / Atlas Obscura User\\\\nAbout\\\\nDuring the last years of World War I, a new explosive was invented to help stretch the depleting stores of TNT. It was called Amatol, and in 1918, shortly after the United States entered the war, a munitions plant and adjacent factory town were established in New Jersey named after the explosive they manufactured.\\'), Document(metadata={\\'source\\': \\'data/amatol_misc/2016-10-13_amatol_lost_history_summary.txt\\', \\'_id\\': \\'94ffbd1756a04093ab10019a328f0ac3\\', \\'_collection_name\\': \\'amatol_data\\'}, page_content=\\'Village near Camden, New Jersey was also built during World War. They attempted to combine the best features of the town and the country.  Comparison with similar installations suggests the designers of Amatol were familiar with the principles of town planning used by the major architects of the time.  Great pains were taken to build a town that workers would find attractive and stimulating.\\'), Document(metadata={\\'source\\': \\'data/amatol_sojourn/amatol_sojourn_article.txt\\', \\'_id\\': \\'3e7e71675e4c4631bdbfdf6d04217860\\', \\'_collection_name\\': \\'amatol_data\\'}, page_content=\\'as we could in order to get people to stay there; particularly in view of the knowledge of most people of the danger.” Being situated between Atlantic City and Philadelphia, Amatol was conveniently located for ease of access to the Jersey Shore and a great metropolitan city. In addition to town amenities, Lieutenant Colonel Hawkins also explained that the size of Amatol—6,000 acres—was meant as a “substantial safety zone.”\\'), Document(metadata={\\'source\\': \\'data/amatol_sojourn/amatol_sojourn_article.txt\\', \\'_id\\': \\'56ab4419ca0d4c1587d5744f5617f1fb\\', \\'_collection_name\\': \\'amatol_data\\'}, page_content=\\'Little remains of Amatol today. After a hike through the Pine Barrens, remnants of the munitions plant, town, and racetrack can be found at the former site of Amatol. Of the many buildings and homes that were constructed, only two still remain: the now-abandoned State Police barracks outside of Hammonton and one house, which was moved to the White Horse Pike, where it is still occupied. During the 1980s, the Amatol site was considered for a landfill, but the proposal was shot down due to environmental concerns and an opposition by local\\'), Document(metadata={\\'source\\': \\'data/amatol_sojourn/amatol_sojourn_article.txt\\', \\'_id\\': \\'cb836f29a2a94bf2827276bb324efab8\\', \\'_collection_name\\': \\'amatol_data\\'}, page_content=\\'The history of Amatol begins in December 1917 with the incorporation of the Atlantic Loading Company. Acting as an agent of the United States Government, the Atlantic Loading Company was contracted to construct a large munitions plant and an accompanying town to house the workers. In early 1918, the Atlantic Loading Company planned to build the munitions plant and town near Camp Dix, but because of concerns over water pollution, another location had to be selected. In addition, there were also concerns over the safety of soldiers at Camp Dix\\'), Document(metadata={\\'source\\': \\'data/amatol_misc/2015-10-12_amatol_munitions_noyes_musuem_2015.txt\\', \\'_id\\': \\'a43893349495468a94ee38f99b15d7ee\\', \\'_collection_name\\': \\'amatol_data\\'}, page_content=\\'served as a New Jersey State Police barracks.\\\\nAmatol received a second chance when Charles Schwab bought the land in 1926 to construct a “wooden\\\\nbowl” speedway. The wooden and oval track measured one and one-half miles long. Although it received\\\\nhigh attendance at the opening, the racetrack only remained open for two years. Schwab leased the site as a\\\\ntest track to automobile companies after losing interest in racing.\\')]}', name='historical_rag_tool', id='18014e94-3f76-41ad-a8a4-8d852ef7044a', tool_call_id='call_BxJqL0e4e1K9oa3zK0FEDZKK')]\n",
            "\n",
            "\n",
            "\n",
            "Receiving update from node: 'agent'\n",
            "[AIMessage(content='The provided information does not include any details about the motto of Amatol, NJ during its construction. Therefore, I do not know the motto.', additional_kwargs={'refusal': None}, response_metadata={'token_usage': {'completion_tokens': 31, 'prompt_tokens': 2404, 'total_tokens': 2435, 'completion_tokens_details': {'accepted_prediction_tokens': 0, 'audio_tokens': 0, 'reasoning_tokens': 0, 'rejected_prediction_tokens': 0}, 'prompt_tokens_details': {'audio_tokens': 0, 'cached_tokens': 0}}, 'model_name': 'gpt-4.1-nano-2025-04-14', 'system_fingerprint': 'fp_f12167b370', 'id': 'chatcmpl-C0wy1f3vlVLCOdxUF5XMlwJAeYju6', 'service_tier': 'default', 'finish_reason': 'stop', 'logprobs': None}, id='run--60c5e9ab-d081-42f8-bc1b-49c0036b7b45-0', usage_metadata={'input_tokens': 2404, 'output_tokens': 31, 'total_tokens': 2435, 'input_token_details': {'audio': 0, 'cache_read': 0}, 'output_token_details': {'audio': 0, 'reasoning': 0}})]\n",
            "\n",
            "\n",
            "\n"
          ]
        }
      ],
      "source": [
        "from langchain_core.messages import HumanMessage\n",
        "\n",
        "inputs = {\"messages\" : [HumanMessage(content=\"What was the motto of Amatol, NJ during construction?\")]}\n",
        "\n",
        "async for chunk in compiled_graph.astream(inputs, stream_mode=\"updates\"):\n",
        "    for node, values in chunk.items():\n",
        "        print(f\"Receiving update from node: '{node}'\")\n",
        "        if node == \"action\":\n",
        "            print(f\"Tool used: {values['messages'][0].name}\")\n",
        "        print(values[\"messages\"])\n",
        "        print(\"\\n\\n\")"
      ]
    },
    {
      "cell_type": "code",
      "execution_count": 42,
      "metadata": {},
      "outputs": [],
      "source": [
        "from ragas.llms import LangchainLLMWrapper\n",
        "from ragas.embeddings import LangchainEmbeddingsWrapper\n",
        "from langchain_openai import ChatOpenAI, OpenAIEmbeddings\n",
        "\n",
        "generator_llm = LangchainLLMWrapper(ChatOpenAI(model=\"gpt-4.1-mini\", verbose=True))\n",
        "generator_embeddings = LangchainEmbeddingsWrapper(OpenAIEmbeddings())"
      ]
    },
    {
      "cell_type": "code",
      "execution_count": 46,
      "metadata": {},
      "outputs": [
        {
          "name": "stderr",
          "output_type": "stream",
          "text": [
            "Applying CustomNodeFilter:   0%|          | 0/20 [00:00<?, ?it/s]       Node b0fd82e9-8f9e-49c0-83b1-ae8613f513e7 does not have a summary. Skipping filtering.\n",
            "Node 2ad894e2-4e99-49d6-8998-909abb0f9e74 does not have a summary. Skipping filtering.\n",
            "Node 54ef7d86-b721-4ad1-85ea-3015ea6bc051 does not have a summary. Skipping filtering.\n",
            "Node f3c6c9a4-ac34-43b4-bbe1-bed7c62dc02c does not have a summary. Skipping filtering.\n",
            "Node f81aa78f-c850-47b4-bfca-6c328c6e1e5a does not have a summary. Skipping filtering.\n",
            "Node 41fad82f-de80-4505-bc56-4ec2dcf9d840 does not have a summary. Skipping filtering.\n",
            "Node 4b42649f-a311-496e-957f-33f7048cbc87 does not have a summary. Skipping filtering.\n",
            "Node 30de3437-473b-4159-b4d6-cc4ef2544480 does not have a summary. Skipping filtering.\n",
            "Node 168b3c86-20c1-41c5-b9d0-98bebe74d5a4 does not have a summary. Skipping filtering.\n",
            "Node 0f332c53-88cf-447a-b604-5e26b7ed305a does not have a summary. Skipping filtering.\n",
            "Node 6157ac46-7ac5-4649-8e1f-f4bd8efce178 does not have a summary. Skipping filtering.\n",
            "Node 8b75d1a1-7899-4d5e-9c46-41ccef1b94f3 does not have a summary. Skipping filtering.\n",
            "Node 5c38372f-18eb-4db9-b9ed-9713063af260 does not have a summary. Skipping filtering.\n",
            "Generating personas: 100%|██████████| 3/3 [00:01<00:00,  2.70it/s]                                           \n",
            "Generating Scenarios: 100%|██████████| 3/3 [00:02<00:00,  1.29it/s]\n",
            "Generating Samples: 100%|██████████| 3/3 [00:02<00:00,  1.13it/s]\n"
          ]
        }
      ],
      "source": [
        "from ragas.testset import TestsetGenerator\n",
        "\n",
        "generator = TestsetGenerator(llm=generator_llm, embedding_model=generator_embeddings)\n",
        "dataset = generator.generate_with_langchain_docs(split_documents[:20], testset_size=3)"
      ]
    },
    {
      "cell_type": "code",
      "execution_count": 47,
      "metadata": {},
      "outputs": [
        {
          "data": {
            "text/html": [
              "<div>\n",
              "<style scoped>\n",
              "    .dataframe tbody tr th:only-of-type {\n",
              "        vertical-align: middle;\n",
              "    }\n",
              "\n",
              "    .dataframe tbody tr th {\n",
              "        vertical-align: top;\n",
              "    }\n",
              "\n",
              "    .dataframe thead th {\n",
              "        text-align: right;\n",
              "    }\n",
              "</style>\n",
              "<table border=\"1\" class=\"dataframe\">\n",
              "  <thead>\n",
              "    <tr style=\"text-align: right;\">\n",
              "      <th></th>\n",
              "      <th>user_input</th>\n",
              "      <th>reference_contexts</th>\n",
              "      <th>reference</th>\n",
              "      <th>synthesizer_name</th>\n",
              "    </tr>\n",
              "  </thead>\n",
              "  <tbody>\n",
              "    <tr>\n",
              "      <th>0</th>\n",
              "      <td>Can you provide detales on the budget preperat...</td>\n",
              "      <td>[Amatol Arsenal Prepares Budget  \\nSpecial to ...</td>\n",
              "      <td>According to a statement issued by Major C. E....</td>\n",
              "      <td>single_hop_specifc_query_synthesizer</td>\n",
              "    </tr>\n",
              "    <tr>\n",
              "      <th>1</th>\n",
              "      <td>How did the doubling of guards at Amatol Arsen...</td>\n",
              "      <td>[&lt;1-hop&gt;\\n\\nIn connection with the development...</td>\n",
              "      <td>Amatol Arsenal was held in a stand-by conditio...</td>\n",
              "      <td>multi_hop_abstract_query_synthesizer</td>\n",
              "    </tr>\n",
              "    <tr>\n",
              "      <th>2</th>\n",
              "      <td>How did the quick response to the brush fire m...</td>\n",
              "      <td>[&lt;1-hop&gt;\\n\\nARSENAL OUT OF DANGER FROM BUSH FI...</td>\n",
              "      <td>The quick and efficient work to extinguish the...</td>\n",
              "      <td>multi_hop_specific_query_synthesizer</td>\n",
              "    </tr>\n",
              "  </tbody>\n",
              "</table>\n",
              "</div>"
            ],
            "text/plain": [
              "                                          user_input  \\\n",
              "0  Can you provide detales on the budget preperat...   \n",
              "1  How did the doubling of guards at Amatol Arsen...   \n",
              "2  How did the quick response to the brush fire m...   \n",
              "\n",
              "                                  reference_contexts  \\\n",
              "0  [Amatol Arsenal Prepares Budget  \\nSpecial to ...   \n",
              "1  [<1-hop>\\n\\nIn connection with the development...   \n",
              "2  [<1-hop>\\n\\nARSENAL OUT OF DANGER FROM BUSH FI...   \n",
              "\n",
              "                                           reference  \\\n",
              "0  According to a statement issued by Major C. E....   \n",
              "1  Amatol Arsenal was held in a stand-by conditio...   \n",
              "2  The quick and efficient work to extinguish the...   \n",
              "\n",
              "                       synthesizer_name  \n",
              "0  single_hop_specifc_query_synthesizer  \n",
              "1  multi_hop_abstract_query_synthesizer  \n",
              "2  multi_hop_specific_query_synthesizer  "
            ]
          },
          "execution_count": 47,
          "metadata": {},
          "output_type": "execute_result"
        }
      ],
      "source": [
        "dataset.to_pandas()"
      ]
    },
    {
      "cell_type": "code",
      "execution_count": 111,
      "metadata": {},
      "outputs": [],
      "source": [
        "import copy\n",
        "\n",
        "dataset_baseline = copy.deepcopy(dataset)"
      ]
    },
    {
      "cell_type": "code",
      "execution_count": 112,
      "metadata": {},
      "outputs": [],
      "source": [
        "import re\n",
        "from langchain_core.messages.tool import ToolMessage\n",
        "from langchain_core.messages.base import BaseMessage\n",
        "\n",
        "def extract_page_contents_from_tool_msg(msg: BaseMessage) -> list[str]:\n",
        "    \"\"\"\n",
        "    Safely extract page_content text blocks from a ToolMessage or other LangGraph message.\n",
        "\n",
        "    Returns [] if:\n",
        "    - The message is not a ToolMessage (e.g., Tavily or a direct response)\n",
        "    - No page_content is found\n",
        "    - Malformed or irrelevant content\n",
        "    \"\"\"\n",
        "    if not isinstance(msg, ToolMessage):\n",
        "        return []\n",
        "\n",
        "    content = getattr(msg, 'content', '')\n",
        "    if not content:\n",
        "        return []\n",
        "\n",
        "    pattern = r\"page_content='(.*?)'\"\n",
        "    matches = re.findall(pattern, content, flags=re.DOTALL)\n",
        "    return [m.strip() for m in matches if m.strip()]\n"
      ]
    },
    {
      "cell_type": "code",
      "execution_count": 113,
      "metadata": {},
      "outputs": [],
      "source": [
        "for test_row in dataset_baseline:\n",
        "    inputs = {\"messages\": [HumanMessage(content=test_row.eval_sample.user_input)]}\n",
        "    response = compiled_graph.invoke(inputs)\n",
        "\n",
        "    # Model response (always last message)\n",
        "    test_row.eval_sample.response = response[\"messages\"][-1].content\n",
        "\n",
        "    # Safely extract context from second-to-last message\n",
        "    if len(response[\"messages\"]) >= 2:\n",
        "        tool_msg = response[\"messages\"][-2]\n",
        "        test_row.eval_sample.retrieved_contexts = extract_page_contents_from_tool_msg(tool_msg)\n",
        "    else:\n",
        "        test_row.eval_sample.retrieved_contexts = []\n"
      ]
    },
    {
      "cell_type": "code",
      "execution_count": 114,
      "metadata": {},
      "outputs": [
        {
          "data": {
            "text/html": [
              "<div>\n",
              "<style scoped>\n",
              "    .dataframe tbody tr th:only-of-type {\n",
              "        vertical-align: middle;\n",
              "    }\n",
              "\n",
              "    .dataframe tbody tr th {\n",
              "        vertical-align: top;\n",
              "    }\n",
              "\n",
              "    .dataframe thead th {\n",
              "        text-align: right;\n",
              "    }\n",
              "</style>\n",
              "<table border=\"1\" class=\"dataframe\">\n",
              "  <thead>\n",
              "    <tr style=\"text-align: right;\">\n",
              "      <th></th>\n",
              "      <th>user_input</th>\n",
              "      <th>retrieved_contexts</th>\n",
              "      <th>reference_contexts</th>\n",
              "      <th>response</th>\n",
              "      <th>reference</th>\n",
              "      <th>synthesizer_name</th>\n",
              "    </tr>\n",
              "  </thead>\n",
              "  <tbody>\n",
              "    <tr>\n",
              "      <th>0</th>\n",
              "      <td>Can you provide detales on the budget preperat...</td>\n",
              "      <td>[The Army’s Ordnance Department took over the ...</td>\n",
              "      <td>[Amatol Arsenal Prepares Budget  \\nSpecial to ...</td>\n",
              "      <td>The Amatol Arsenal, which was initially opened...</td>\n",
              "      <td>According to a statement issued by Major C. E....</td>\n",
              "      <td>single_hop_specifc_query_synthesizer</td>\n",
              "    </tr>\n",
              "    <tr>\n",
              "      <th>1</th>\n",
              "      <td>How did the doubling of guards at Amatol Arsen...</td>\n",
              "      <td>[FEAR BOMB PLOT Amatol Munition Works Under He...</td>\n",
              "      <td>[&lt;1-hop&gt;\\n\\nIn connection with the development...</td>\n",
              "      <td>The doubling of guards at Amatol Arsenal was d...</td>\n",
              "      <td>Amatol Arsenal was held in a stand-by conditio...</td>\n",
              "      <td>multi_hop_abstract_query_synthesizer</td>\n",
              "    </tr>\n",
              "    <tr>\n",
              "      <th>2</th>\n",
              "      <td>How did the quick response to the brush fire m...</td>\n",
              "      <td>[Shell Loading to Continue Special to The Inqu...</td>\n",
              "      <td>[&lt;1-hop&gt;\\n\\nARSENAL OUT OF DANGER FROM BUSH FI...</td>\n",
              "      <td>The quick response to the brush fire menace ne...</td>\n",
              "      <td>The quick and efficient work to extinguish the...</td>\n",
              "      <td>multi_hop_specific_query_synthesizer</td>\n",
              "    </tr>\n",
              "  </tbody>\n",
              "</table>\n",
              "</div>"
            ],
            "text/plain": [
              "                                          user_input  \\\n",
              "0  Can you provide detales on the budget preperat...   \n",
              "1  How did the doubling of guards at Amatol Arsen...   \n",
              "2  How did the quick response to the brush fire m...   \n",
              "\n",
              "                                  retrieved_contexts  \\\n",
              "0  [The Army’s Ordnance Department took over the ...   \n",
              "1  [FEAR BOMB PLOT Amatol Munition Works Under He...   \n",
              "2  [Shell Loading to Continue Special to The Inqu...   \n",
              "\n",
              "                                  reference_contexts  \\\n",
              "0  [Amatol Arsenal Prepares Budget  \\nSpecial to ...   \n",
              "1  [<1-hop>\\n\\nIn connection with the development...   \n",
              "2  [<1-hop>\\n\\nARSENAL OUT OF DANGER FROM BUSH FI...   \n",
              "\n",
              "                                            response  \\\n",
              "0  The Amatol Arsenal, which was initially opened...   \n",
              "1  The doubling of guards at Amatol Arsenal was d...   \n",
              "2  The quick response to the brush fire menace ne...   \n",
              "\n",
              "                                           reference  \\\n",
              "0  According to a statement issued by Major C. E....   \n",
              "1  Amatol Arsenal was held in a stand-by conditio...   \n",
              "2  The quick and efficient work to extinguish the...   \n",
              "\n",
              "                       synthesizer_name  \n",
              "0  single_hop_specifc_query_synthesizer  \n",
              "1  multi_hop_abstract_query_synthesizer  \n",
              "2  multi_hop_specific_query_synthesizer  "
            ]
          },
          "execution_count": 114,
          "metadata": {},
          "output_type": "execute_result"
        }
      ],
      "source": [
        "dataset_baseline.to_pandas()"
      ]
    },
    {
      "cell_type": "code",
      "execution_count": 115,
      "metadata": {},
      "outputs": [],
      "source": [
        "from ragas import EvaluationDataset\n",
        "\n",
        "evaluation_dataset = EvaluationDataset.from_pandas(dataset_baseline.to_pandas())"
      ]
    },
    {
      "cell_type": "code",
      "execution_count": 116,
      "metadata": {},
      "outputs": [],
      "source": [
        "from ragas import evaluate\n",
        "from ragas.llms import LangchainLLMWrapper\n",
        "\n",
        "evaluator_llm = LangchainLLMWrapper(ChatOpenAI(model=\"gpt-4.1-nano\"))"
      ]
    },
    {
      "cell_type": "code",
      "execution_count": 117,
      "metadata": {},
      "outputs": [
        {
          "name": "stderr",
          "output_type": "stream",
          "text": [
            "Evaluating: 100%|██████████| 9/9 [00:26<00:00,  2.92s/it]\n"
          ]
        },
        {
          "data": {
            "text/plain": [
              "{'context_recall': 0.8889, 'faithfulness': 0.8542, 'context_entity_recall': 0.3611}"
            ]
          },
          "execution_count": 117,
          "metadata": {},
          "output_type": "execute_result"
        }
      ],
      "source": [
        "from ragas.metrics import LLMContextRecall, Faithfulness, FactualCorrectness, ResponseRelevancy, ContextEntityRecall, NoiseSensitivity\n",
        "from ragas import evaluate, RunConfig\n",
        "\n",
        "custom_run_config = RunConfig(timeout=360)\n",
        "\n",
        "result = evaluate(\n",
        "    dataset=evaluation_dataset,\n",
        "    metrics=[\n",
        "        LLMContextRecall(),\n",
        "        Faithfulness(),\n",
        "        ContextEntityRecall(), \n",
        "        # FactualCorrectness(),\n",
        "        # ResponseRelevancy(),\n",
        "        # NoiseSensitivity()\n",
        "        ],\n",
        "    llm=evaluator_llm,\n",
        "    run_config=custom_run_config\n",
        ")\n",
        "result"
      ]
    },
    {
      "cell_type": "code",
      "execution_count": 144,
      "metadata": {},
      "outputs": [],
      "source": [
        "from langchain.retrievers.contextual_compression import ContextualCompressionRetriever\n",
        "from langchain_cohere import CohereRerank\n",
        "\n",
        "def retrieve_adjusted(state):\n",
        "  compressor = CohereRerank(model=\"rerank-v3.5\", top_n=10)\n",
        "  compression_retriever = ContextualCompressionRetriever(\n",
        "    base_compressor=compressor, base_retriever=naive_retriever)\n",
        "  retrieved_docs = compression_retriever.invoke(state[\"question\"])\n",
        "  return {\"context\" : retrieved_docs}"
      ]
    },
    {
      "cell_type": "code",
      "execution_count": 145,
      "metadata": {},
      "outputs": [],
      "source": [
        "from langchain_core.prompts import ChatPromptTemplate\n",
        "\n",
        "RAG_TEMPLATE = \"\"\"\\\n",
        "You are a historical assistant. Use the context provided below to answer the question.\n",
        "\n",
        "If you do not know the answer, or are unsure, say you don't know.\n",
        "\n",
        "Query:\n",
        "{question}\n",
        "\n",
        "Context:\n",
        "{context}\n",
        "\"\"\"\n",
        "\n",
        "rag_prompt = ChatPromptTemplate.from_template(RAG_TEMPLATE)"
      ]
    },
    {
      "cell_type": "code",
      "execution_count": 146,
      "metadata": {},
      "outputs": [],
      "source": [
        "from langchain_openai import ChatOpenAI\n",
        "\n",
        "llm = ChatOpenAI(model=\"gpt-4.1-nano\")"
      ]
    },
    {
      "cell_type": "code",
      "execution_count": 147,
      "metadata": {},
      "outputs": [],
      "source": [
        "def generate(state):\n",
        "    docs_content = \"\\n\\n\".join(doc.page_content for doc in state[\"context\"])\n",
        "    messages = rag_prompt.format_messages(question=state[\"question\"], context=docs_content)\n",
        "    response = llm.invoke(messages)\n",
        "    return {\"response\": response.content} "
      ]
    },
    {
      "cell_type": "code",
      "execution_count": 148,
      "metadata": {},
      "outputs": [],
      "source": [
        "from langgraph.graph import START, StateGraph\n",
        "from typing_extensions import TypedDict\n",
        "from langchain_core.documents import Document\n",
        "\n",
        "class State(TypedDict):\n",
        "    question: str\n",
        "    context: list[Document]\n",
        "    response: str"
      ]
    },
    {
      "cell_type": "code",
      "execution_count": 149,
      "metadata": {},
      "outputs": [],
      "source": [
        "graph_builder = StateGraph(State).add_sequence([retrieve_adjusted, generate])\n",
        "graph_builder.add_edge(START, \"retrieve_adjusted\")\n",
        "graph = graph_builder.compile()"
      ]
    },
    {
      "cell_type": "code",
      "execution_count": 150,
      "metadata": {},
      "outputs": [
        {
          "name": "stdout",
          "output_type": "stream",
          "text": [
            "Colonel Hawkins said that the town of Amatol and its plant were difficult to staff initially because people were reluctant to go there due to the danger involved. To address this, they had to build attractive accommodations to persuade workers to stay. He noted that because of the inherent dangers, particularly after the plant at Morgan, N.J., exploded on October 4th, it was challenging to get and retain workers. Additionally, he mentioned that Amatol was situated between Atlantic City and Philadelphia, making it conveniently located, and it was built on a substantial safety zone of about 6,000 acres to protect the workers and the town from potential accidents at the plant.\n"
          ]
        }
      ],
      "source": [
        "response = graph.invoke({\"question\": \"What did Colonel Hawkins say about the town and plant of Amatol, NJ?\"})\n",
        "print(response[\"response\"])"
      ]
    },
    {
      "cell_type": "code",
      "execution_count": 151,
      "metadata": {},
      "outputs": [],
      "source": [
        "from langchain_core.tools import tool\n",
        "from langchain_core.messages import HumanMessage\n",
        "\n",
        "@tool\n",
        "def historical_rag_tool(question: str) -> str:\n",
        "\t\"\"\"Useful for when you need to answer questions about history. Input should be a fully formed question.\"\"\"\n",
        "\tresponse = graph.invoke({\"question\": question})\n",
        "\treturn {\n",
        "\t\t\"messages\": [HumanMessage(content=response[\"response\"])],\n",
        "\t\t\"context\": response[\"context\"]\n",
        "    }"
      ]
    },
    {
      "cell_type": "code",
      "execution_count": 152,
      "metadata": {},
      "outputs": [],
      "source": [
        "tool_belt = [\n",
        "    tavily_tool,\n",
        "    historical_rag_tool\n",
        "]"
      ]
    },
    {
      "cell_type": "code",
      "execution_count": 153,
      "metadata": {},
      "outputs": [],
      "source": [
        "from langchain_openai import ChatOpenAI\n",
        "\n",
        "model = ChatOpenAI(model=\"gpt-4.1-nano\", temperature=0)"
      ]
    },
    {
      "cell_type": "code",
      "execution_count": 154,
      "metadata": {},
      "outputs": [],
      "source": [
        "model = model.bind_tools(tool_belt)"
      ]
    },
    {
      "cell_type": "code",
      "execution_count": 155,
      "metadata": {},
      "outputs": [],
      "source": [
        "from typing import TypedDict, Annotated\n",
        "from langgraph.graph.message import add_messages\n",
        "import operator\n",
        "from langchain_core.messages import BaseMessage\n",
        "from langchain_core.documents import Document\n",
        "\n",
        "class AgentState(TypedDict):\n",
        "  messages: Annotated[list, add_messages]\n",
        "  context: list[Document]"
      ]
    },
    {
      "cell_type": "code",
      "execution_count": 156,
      "metadata": {},
      "outputs": [],
      "source": [
        "from langgraph.prebuilt import ToolNode\n",
        "\n",
        "def call_model(state):\n",
        "    messages = state[\"messages\"]\n",
        "    response = model.invoke(messages)\n",
        "    return {\n",
        "        \"messages\": [response],\n",
        "        \"context\": state.get(\"context\", [])\n",
        "    }\n",
        "\n",
        "tool_node = ToolNode(tool_belt)"
      ]
    },
    {
      "cell_type": "code",
      "execution_count": 157,
      "metadata": {},
      "outputs": [
        {
          "data": {
            "text/plain": [
              "<langgraph.graph.state.StateGraph at 0x780eaf7ed700>"
            ]
          },
          "execution_count": 157,
          "metadata": {},
          "output_type": "execute_result"
        }
      ],
      "source": [
        "from langgraph.graph import StateGraph, END\n",
        "\n",
        "uncompiled_graph = StateGraph(AgentState)\n",
        "\n",
        "uncompiled_graph.add_node(\"agent\", call_model)\n",
        "uncompiled_graph.add_node(\"action\", tool_node)"
      ]
    },
    {
      "cell_type": "code",
      "execution_count": 158,
      "metadata": {},
      "outputs": [
        {
          "data": {
            "text/plain": [
              "<langgraph.graph.state.StateGraph at 0x780eaf7ed700>"
            ]
          },
          "execution_count": 158,
          "metadata": {},
          "output_type": "execute_result"
        }
      ],
      "source": [
        "uncompiled_graph.set_entry_point(\"agent\")\n"
      ]
    },
    {
      "cell_type": "code",
      "execution_count": 159,
      "metadata": {},
      "outputs": [
        {
          "data": {
            "text/plain": [
              "<langgraph.graph.state.StateGraph at 0x780eaf7ed700>"
            ]
          },
          "execution_count": 159,
          "metadata": {},
          "output_type": "execute_result"
        }
      ],
      "source": [
        "def should_continue(state):\n",
        "  last_message = state[\"messages\"][-1]\n",
        "\n",
        "  if last_message.tool_calls:\n",
        "    return \"action\"\n",
        "\n",
        "  return END\n",
        "\n",
        "uncompiled_graph.add_conditional_edges(\n",
        "    \"agent\",\n",
        "    should_continue\n",
        ")"
      ]
    },
    {
      "cell_type": "code",
      "execution_count": 160,
      "metadata": {},
      "outputs": [
        {
          "data": {
            "text/plain": [
              "<langgraph.graph.state.StateGraph at 0x780eaf7ed700>"
            ]
          },
          "execution_count": 160,
          "metadata": {},
          "output_type": "execute_result"
        }
      ],
      "source": [
        "uncompiled_graph.add_edge(\"action\", \"agent\")\n"
      ]
    },
    {
      "cell_type": "code",
      "execution_count": 161,
      "metadata": {},
      "outputs": [],
      "source": [
        "compiled_graph_w_embeddings = uncompiled_graph.compile()\n"
      ]
    },
    {
      "cell_type": "code",
      "execution_count": 162,
      "metadata": {},
      "outputs": [],
      "source": [
        "import copy\n",
        "\n",
        "dataset_w_embeddings = copy.deepcopy(dataset)"
      ]
    },
    {
      "cell_type": "code",
      "execution_count": 163,
      "metadata": {},
      "outputs": [],
      "source": [
        "for test_row in dataset_w_embeddings:\n",
        "    inputs = {\"messages\": [HumanMessage(content=test_row.eval_sample.user_input)]}\n",
        "    response = compiled_graph.invoke(inputs)\n",
        "\n",
        "    # Model response (always last message)\n",
        "    test_row.eval_sample.response = response[\"messages\"][-1].content\n",
        "\n",
        "    # Safely extract context from second-to-last message\n",
        "    if len(response[\"messages\"]) >= 2:\n",
        "        tool_msg = response[\"messages\"][-2]\n",
        "        test_row.eval_sample.retrieved_contexts = extract_page_contents_from_tool_msg(tool_msg)\n",
        "    else:\n",
        "        test_row.eval_sample.retrieved_contexts = []\n"
      ]
    },
    {
      "cell_type": "code",
      "execution_count": 164,
      "metadata": {},
      "outputs": [
        {
          "data": {
            "text/html": [
              "<div>\n",
              "<style scoped>\n",
              "    .dataframe tbody tr th:only-of-type {\n",
              "        vertical-align: middle;\n",
              "    }\n",
              "\n",
              "    .dataframe tbody tr th {\n",
              "        vertical-align: top;\n",
              "    }\n",
              "\n",
              "    .dataframe thead th {\n",
              "        text-align: right;\n",
              "    }\n",
              "</style>\n",
              "<table border=\"1\" class=\"dataframe\">\n",
              "  <thead>\n",
              "    <tr style=\"text-align: right;\">\n",
              "      <th></th>\n",
              "      <th>user_input</th>\n",
              "      <th>retrieved_contexts</th>\n",
              "      <th>reference_contexts</th>\n",
              "      <th>response</th>\n",
              "      <th>reference</th>\n",
              "      <th>synthesizer_name</th>\n",
              "    </tr>\n",
              "  </thead>\n",
              "  <tbody>\n",
              "    <tr>\n",
              "      <th>0</th>\n",
              "      <td>Can you provide detales on the budget preperat...</td>\n",
              "      <td>[Amatol Arsenal Prepares Budget  \\nSpecial to ...</td>\n",
              "      <td>[Amatol Arsenal Prepares Budget  \\nSpecial to ...</td>\n",
              "      <td>Based on the available information, here are t...</td>\n",
              "      <td>According to a statement issued by Major C. E....</td>\n",
              "      <td>single_hop_specifc_query_synthesizer</td>\n",
              "    </tr>\n",
              "    <tr>\n",
              "      <th>1</th>\n",
              "      <td>How did the doubling of guards at Amatol Arsen...</td>\n",
              "      <td>[ATLANTIC CITY, N. J., Feb. 14.— The scare at ...</td>\n",
              "      <td>[&lt;1-hop&gt;\\n\\nIn connection with the development...</td>\n",
              "      <td>The doubling of guards at Amatol Arsenal was a...</td>\n",
              "      <td>Amatol Arsenal was held in a stand-by conditio...</td>\n",
              "      <td>multi_hop_abstract_query_synthesizer</td>\n",
              "    </tr>\n",
              "    <tr>\n",
              "      <th>2</th>\n",
              "      <td>How did the quick response to the brush fire m...</td>\n",
              "      <td>[Shell Loading to Continue Special to The Inqu...</td>\n",
              "      <td>[&lt;1-hop&gt;\\n\\nARSENAL OUT OF DANGER FROM BUSH FI...</td>\n",
              "      <td>The quick response to the brush fire near Hamm...</td>\n",
              "      <td>The quick and efficient work to extinguish the...</td>\n",
              "      <td>multi_hop_specific_query_synthesizer</td>\n",
              "    </tr>\n",
              "  </tbody>\n",
              "</table>\n",
              "</div>"
            ],
            "text/plain": [
              "                                          user_input  \\\n",
              "0  Can you provide detales on the budget preperat...   \n",
              "1  How did the doubling of guards at Amatol Arsen...   \n",
              "2  How did the quick response to the brush fire m...   \n",
              "\n",
              "                                  retrieved_contexts  \\\n",
              "0  [Amatol Arsenal Prepares Budget  \\nSpecial to ...   \n",
              "1  [ATLANTIC CITY, N. J., Feb. 14.— The scare at ...   \n",
              "2  [Shell Loading to Continue Special to The Inqu...   \n",
              "\n",
              "                                  reference_contexts  \\\n",
              "0  [Amatol Arsenal Prepares Budget  \\nSpecial to ...   \n",
              "1  [<1-hop>\\n\\nIn connection with the development...   \n",
              "2  [<1-hop>\\n\\nARSENAL OUT OF DANGER FROM BUSH FI...   \n",
              "\n",
              "                                            response  \\\n",
              "0  Based on the available information, here are t...   \n",
              "1  The doubling of guards at Amatol Arsenal was a...   \n",
              "2  The quick response to the brush fire near Hamm...   \n",
              "\n",
              "                                           reference  \\\n",
              "0  According to a statement issued by Major C. E....   \n",
              "1  Amatol Arsenal was held in a stand-by conditio...   \n",
              "2  The quick and efficient work to extinguish the...   \n",
              "\n",
              "                       synthesizer_name  \n",
              "0  single_hop_specifc_query_synthesizer  \n",
              "1  multi_hop_abstract_query_synthesizer  \n",
              "2  multi_hop_specific_query_synthesizer  "
            ]
          },
          "execution_count": 164,
          "metadata": {},
          "output_type": "execute_result"
        }
      ],
      "source": [
        "dataset_w_embeddings.to_pandas()"
      ]
    },
    {
      "cell_type": "code",
      "execution_count": 165,
      "metadata": {},
      "outputs": [],
      "source": [
        "from ragas import EvaluationDataset\n",
        "\n",
        "evaluation_dataset = EvaluationDataset.from_pandas(dataset_w_embeddings.to_pandas())"
      ]
    },
    {
      "cell_type": "code",
      "execution_count": 166,
      "metadata": {},
      "outputs": [],
      "source": [
        "from ragas import evaluate\n",
        "from ragas.llms import LangchainLLMWrapper\n",
        "\n",
        "evaluator_llm = LangchainLLMWrapper(ChatOpenAI(model=\"gpt-4.1-nano\"))"
      ]
    },
    {
      "cell_type": "code",
      "execution_count": 167,
      "metadata": {},
      "outputs": [
        {
          "name": "stderr",
          "output_type": "stream",
          "text": [
            "Evaluating: 100%|██████████| 9/9 [00:16<00:00,  1.87s/it]\n"
          ]
        },
        {
          "data": {
            "text/plain": [
              "{'context_recall': 0.7222, 'faithfulness': 0.7348, 'context_entity_recall': 0.5556}"
            ]
          },
          "execution_count": 167,
          "metadata": {},
          "output_type": "execute_result"
        }
      ],
      "source": [
        "from ragas.metrics import LLMContextRecall, Faithfulness, FactualCorrectness, ResponseRelevancy, ContextEntityRecall, NoiseSensitivity\n",
        "from ragas import evaluate, RunConfig\n",
        "\n",
        "custom_run_config = RunConfig(timeout=360)\n",
        "\n",
        "result = evaluate(\n",
        "    dataset=evaluation_dataset,\n",
        "    metrics=[\n",
        "        LLMContextRecall(),\n",
        "        Faithfulness(),\n",
        "        ContextEntityRecall(), \n",
        "        # FactualCorrectness(),\n",
        "        # ResponseRelevancy(),\n",
        "        # NoiseSensitivity()\n",
        "        ],\n",
        "    llm=evaluator_llm,\n",
        "    run_config=custom_run_config\n",
        ")\n",
        "result"
      ]
    }
  ],
  "metadata": {
    "colab": {
      "provenance": [],
      "toc_visible": true
    },
    "kernelspec": {
      "display_name": ".venv",
      "language": "python",
      "name": "python3"
    },
    "language_info": {
      "codemirror_mode": {
        "name": "ipython",
        "version": 3
      },
      "file_extension": ".py",
      "mimetype": "text/x-python",
      "name": "python",
      "nbconvert_exporter": "python",
      "pygments_lexer": "ipython3",
      "version": "3.12.11"
    }
  },
  "nbformat": 4,
  "nbformat_minor": 0
}

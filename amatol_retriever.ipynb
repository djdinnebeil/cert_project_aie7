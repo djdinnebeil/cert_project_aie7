{
  "cells": [
    {
      "cell_type": "code",
      "execution_count": null,
      "metadata": {
        "colab": {
          "base_uri": "https://localhost:8080/"
        },
        "id": "7LttlDQUYgSI",
        "outputId": "9dca95ab-4d02-4adf-ec3f-cb831326dc54"
      },
      "outputs": [],
      "source": [
        "import os\n",
        "import getpass\n",
        "\n",
        "os.environ[\"OPENAI_API_KEY\"] = getpass.getpass(\"Enter your OpenAI API Key:\")\n",
        "os.environ[\"COHERE_API_KEY\"] = getpass.getpass(\"Cohere API Key:\")"
      ]
    },
    {
      "cell_type": "code",
      "execution_count": 24,
      "metadata": {},
      "outputs": [
        {
          "data": {
            "text/plain": [
              "66"
            ]
          },
          "execution_count": 24,
          "metadata": {},
          "output_type": "execute_result"
        }
      ],
      "source": [
        "from langchain_community.document_loaders import DirectoryLoader\n",
        "from langchain_community.document_loaders import TextLoader\n",
        "\n",
        "path = \"data/\"\n",
        "loader = DirectoryLoader(path, glob=\"*.txt\", loader_cls=TextLoader, recursive=True)\n",
        "historical_docs = loader.load()\n",
        "len(historical_docs)"
      ]
    },
    {
      "cell_type": "code",
      "execution_count": 25,
      "metadata": {},
      "outputs": [
        {
          "data": {
            "text/plain": [
              "388"
            ]
          },
          "execution_count": 25,
          "metadata": {},
          "output_type": "execute_result"
        }
      ],
      "source": [
        "from langchain.text_splitter import RecursiveCharacterTextSplitter\n",
        "\n",
        "text_splitter = RecursiveCharacterTextSplitter(chunk_size = 550, chunk_overlap = 50)\n",
        "split_documents = text_splitter.split_documents(historical_docs)\n",
        "len(split_documents)"
      ]
    },
    {
      "cell_type": "code",
      "execution_count": 26,
      "metadata": {
        "id": "NT8ihRJbYmMT"
      },
      "outputs": [],
      "source": [
        "from langchain_community.vectorstores import Qdrant\n",
        "from langchain_openai import OpenAIEmbeddings\n",
        "\n",
        "embeddings = OpenAIEmbeddings(model=\"text-embedding-3-small\")\n",
        "\n",
        "vectorstore = Qdrant.from_documents(\n",
        "    split_documents,\n",
        "    embeddings,\n",
        "    location=\":memory:\",\n",
        "    collection_name=\"AmatolDocs\"\n",
        ")"
      ]
    },
    {
      "cell_type": "code",
      "execution_count": 27,
      "metadata": {
        "id": "GFDPrNBtb72o"
      },
      "outputs": [],
      "source": [
        "naive_retriever = vectorstore.as_retriever(search_kwargs={\"k\" : 15})"
      ]
    },
    {
      "cell_type": "code",
      "execution_count": 28,
      "metadata": {
        "id": "7uSz-Dbqcoki"
      },
      "outputs": [],
      "source": [
        "from langchain_core.prompts import ChatPromptTemplate\n",
        "\n",
        "RAG_TEMPLATE = \"\"\"\\\n",
        "You are a helpful and kind assistant. Use the context provided below to answer the question.\n",
        "\n",
        "If you do not know the answer, or are unsure, say you don't know.\n",
        "\n",
        "Query:\n",
        "{question}\n",
        "\n",
        "Context:\n",
        "{context}\n",
        "\"\"\"\n",
        "\n",
        "rag_prompt = ChatPromptTemplate.from_template(RAG_TEMPLATE)"
      ]
    },
    {
      "cell_type": "code",
      "execution_count": 29,
      "metadata": {
        "id": "c-1t9H60dJLg"
      },
      "outputs": [],
      "source": [
        "from langchain_openai import ChatOpenAI\n",
        "\n",
        "chat_model = ChatOpenAI(model=\"gpt-4.1-nano\")"
      ]
    },
    {
      "cell_type": "code",
      "execution_count": 30,
      "metadata": {
        "id": "0bvstS7mdOW3"
      },
      "outputs": [],
      "source": [
        "from langchain_core.runnables import RunnablePassthrough\n",
        "from operator import itemgetter\n",
        "from langchain_core.output_parsers import StrOutputParser\n",
        "\n",
        "naive_retrieval_chain = (\n",
        "    {\"context\": itemgetter(\"question\") | naive_retriever, \"question\": itemgetter(\"question\")}\n",
        "    | RunnablePassthrough.assign(context=itemgetter(\"context\"))\n",
        "    | {\"response\": rag_prompt | chat_model, \"context\": itemgetter(\"context\")}\n",
        ")"
      ]
    },
    {
      "cell_type": "code",
      "execution_count": 31,
      "metadata": {
        "colab": {
          "base_uri": "https://localhost:8080/",
          "height": 36
        },
        "id": "LI-5ueEddku9",
        "outputId": "7f3cec18-5f4e-41bb-cf71-51ba0be5388e"
      },
      "outputs": [
        {
          "data": {
            "text/plain": [
              "'Colonel Hawkins said that in order to get people to stay at the Amatol plant, which was located 25 miles from Atlantic City, they had to build attractive accommodations because it was very hard to get people to go out there, especially given the knowledge of the danger involved. He explained that the size of Amatol—6,000 acres—was intended as a “substantial safety zone.”'"
            ]
          },
          "execution_count": 31,
          "metadata": {},
          "output_type": "execute_result"
        }
      ],
      "source": [
        "naive_retrieval_chain.invoke({\"question\" : \"What did Colonel Hawkins say about the town and plant of Amatol, NJ?\"})[\"response\"].content"
      ]
    },
    {
      "cell_type": "markdown",
      "metadata": {
        "id": "Ft1vt8HPR16w"
      },
      "source": [
        "## Best-Matching 25 (BM25) Retriever"
      ]
    },
    {
      "cell_type": "code",
      "execution_count": 33,
      "metadata": {
        "id": "qdF4wuj5R-cG"
      },
      "outputs": [],
      "source": [
        "from langchain_community.retrievers import BM25Retriever\n",
        "\n",
        "bm25_retriever = BM25Retriever.from_documents(split_documents)"
      ]
    },
    {
      "cell_type": "code",
      "execution_count": 34,
      "metadata": {
        "id": "WR15EQG7SLuw"
      },
      "outputs": [],
      "source": [
        "bm25_retrieval_chain = (\n",
        "    {\"context\": itemgetter(\"question\") | bm25_retriever, \"question\": itemgetter(\"question\")}\n",
        "    | RunnablePassthrough.assign(context=itemgetter(\"context\"))\n",
        "    | {\"response\": rag_prompt | chat_model, \"context\": itemgetter(\"context\")}\n",
        ")"
      ]
    },
    {
      "cell_type": "markdown",
      "metadata": {
        "id": "0Gi-yXCDdvJk"
      },
      "source": [
        "Let's look at the responses!"
      ]
    },
    {
      "cell_type": "code",
      "execution_count": 35,
      "metadata": {
        "colab": {
          "base_uri": "https://localhost:8080/",
          "height": 53
        },
        "id": "oY9qzmm3SOrF",
        "outputId": "4d4f450f-5978-460f-f242-b32407868353"
      },
      "outputs": [
        {
          "data": {
            "text/plain": [
              "'Colonel Hawkins stated that Camp Dix was not selected because the commanding officer there did not want it nearby. He also explained that the town of Amatol was designed to be attractive and served as a safety zone, covering 6,000 acres, to ensure safety for workers and residents. Additionally, he mentioned that Amatol was conveniently located between Atlantic City and Philadelphia, and that its size was intended to provide a substantial safety zone.'"
            ]
          },
          "execution_count": 35,
          "metadata": {},
          "output_type": "execute_result"
        }
      ],
      "source": [
        "bm25_retrieval_chain.invoke({\"question\" : \"What did Colonel Hawkins say about the town and plant of Amatol, NJ?\"})[\"response\"].content"
      ]
    },
    {
      "cell_type": "markdown",
      "metadata": {
        "id": "Q-dcbFn2vpZF"
      },
      "source": [
        "## Contextual Compression (Using Reranking)"
      ]
    },
    {
      "cell_type": "code",
      "execution_count": 68,
      "metadata": {
        "id": "psHvO2K1v_ZQ"
      },
      "outputs": [],
      "source": [
        "from langchain.retrievers.contextual_compression import ContextualCompressionRetriever\n",
        "from langchain_cohere import CohereRerank\n",
        "\n",
        "compressor = CohereRerank(model=\"rerank-v3.5\")\n",
        "compression_retriever = ContextualCompressionRetriever(\n",
        "    base_compressor=compressor, base_retriever=naive_retriever, top_k=12\n",
        ")"
      ]
    },
    {
      "cell_type": "code",
      "execution_count": 69,
      "metadata": {
        "id": "1BXqmxvHwX6T"
      },
      "outputs": [],
      "source": [
        "contextual_compression_retrieval_chain = (\n",
        "    {\"context\": itemgetter(\"question\") | compression_retriever, \"question\": itemgetter(\"question\")}\n",
        "    | RunnablePassthrough.assign(context=itemgetter(\"context\"))\n",
        "    | {\"response\": rag_prompt | chat_model, \"context\": itemgetter(\"context\")}\n",
        ")"
      ]
    },
    {
      "cell_type": "code",
      "execution_count": 70,
      "metadata": {
        "colab": {
          "base_uri": "https://localhost:8080/",
          "height": 36
        },
        "id": "V3iGpokswcBb",
        "outputId": "f15d2aa1-5e8b-417d-f623-eb835d072e59"
      },
      "outputs": [
        {
          "data": {
            "text/plain": [
              "'Colonel Hawkins said that at the loading plant at Amatol, 25 miles from Atlantic City, it was very difficult to get people to go out there because of the danger associated with the site. They had to build attractive accommodations to encourage workers to stay, especially since the knowledge of the danger made it hard to recruit and retain staff. He also mentioned that after the plant in Morgan, N.J., blew up on October 4th, they faced all sorts of trouble in getting people to work at Amatol from that time on.'"
            ]
          },
          "execution_count": 70,
          "metadata": {},
          "output_type": "execute_result"
        }
      ],
      "source": [
        "contextual_compression_retrieval_chain.invoke({\"question\" : \"What did Colonel Hawkins say about the town and plant of Amatol, NJ?\"})[\"response\"].content"
      ]
    },
    {
      "cell_type": "markdown",
      "metadata": {
        "id": "qqbghrBEQNn5"
      },
      "source": [
        "## Multi-Query Retriever"
      ]
    },
    {
      "cell_type": "code",
      "execution_count": 39,
      "metadata": {
        "id": "pfM26ReXQjzU"
      },
      "outputs": [],
      "source": [
        "from langchain.retrievers.multi_query import MultiQueryRetriever\n",
        "\n",
        "multi_query_retriever = MultiQueryRetriever.from_llm(\n",
        "    retriever=naive_retriever, llm=chat_model\n",
        ")"
      ]
    },
    {
      "cell_type": "code",
      "execution_count": 40,
      "metadata": {
        "id": "1vRc129jQ5WW"
      },
      "outputs": [],
      "source": [
        "multi_query_retrieval_chain = (\n",
        "    {\"context\": itemgetter(\"question\") | multi_query_retriever, \"question\": itemgetter(\"question\")}\n",
        "    | RunnablePassthrough.assign(context=itemgetter(\"context\"))\n",
        "    | {\"response\": rag_prompt | chat_model, \"context\": itemgetter(\"context\")}\n",
        ")"
      ]
    },
    {
      "cell_type": "code",
      "execution_count": 42,
      "metadata": {
        "colab": {
          "base_uri": "https://localhost:8080/",
          "height": 53
        },
        "id": "CGgNuOb3Q3M9",
        "outputId": "c5273ecf-da35-40b8-fbdb-0f8beab425f7"
      },
      "outputs": [
        {
          "data": {
            "text/plain": [
              "'Colonel Hawkins said that the town of Amatol was built as a safety measure, covering about 350 acres, and was intended to accommodate approximately 20,000 people. He explained that they constructed the town with houses and amenities such as movie theaters, sewerage, waterworks, and lights. The purpose of building such a town was to support the shell-loading plant and its workers, providing a planned community close to the plant. However, he also mentioned that the town of Amatol was short-lived; after World War I ended, it became a vacant town with most buildings dismantled and little left today.'"
            ]
          },
          "execution_count": 42,
          "metadata": {},
          "output_type": "execute_result"
        }
      ],
      "source": [
        "multi_query_retrieval_chain.invoke({\"question\" : \"What did Colonel Hawkins say about the town and plant of Amatol, NJ?\"})[\"response\"].content"
      ]
    },
    {
      "cell_type": "code",
      "execution_count": 43,
      "metadata": {},
      "outputs": [
        {
          "name": "stdout",
          "output_type": "stream",
          "text": [
            "🔁 Reformulated Queries:\n",
            "- 1. What are Colonel Hawkins' remarks regarding the town of Amatol, NJ, and its associated plant?  \n",
            "- 2. Can you provide information on Colonel Hawkins' comments about Amatol, NJ, and its industrial facilities?  \n",
            "- 3. What insights did Colonel Hawkins share concerning the town of Amatol and the Amatol plant in New Jersey?\n"
          ]
        }
      ],
      "source": [
        "from langchain_core.callbacks import CallbackManagerForRetrieverRun\n",
        "\n",
        "# You must pass a dummy run manager\n",
        "run_manager = CallbackManagerForRetrieverRun.get_noop_manager()\n",
        "\n",
        "query = \"What did Colonel Hawkins say about the town and plant of Amatol, NJ?\"\n",
        "reformulated_queries = multi_query_retriever.generate_queries(query, run_manager)\n",
        "\n",
        "print(\"🔁 Reformulated Queries:\")\n",
        "for q in reformulated_queries:\n",
        "    print(\"-\", q)"
      ]
    },
    {
      "cell_type": "markdown",
      "metadata": {},
      "source": [
        "#Semantic Retriever"
      ]
    },
    {
      "cell_type": "code",
      "execution_count": 44,
      "metadata": {},
      "outputs": [
        {
          "data": {
            "text/plain": [
              "'Colonel Hawkins said that the plant at Hammonton, which is called Amatol, was situated between Atlantic City and Philadelphia to be conveniently located, and that the size of Amatol—6,000 acres—was intended as a \"substantial safety zone.\" Additionally, he mentioned that \"We had to build rather attractive accommodations at Amatol. We had to make it just as attractive as we could in order to get people to stay there; particularly in view of the knowledge of most people of the danger.\"'"
            ]
          },
          "execution_count": 44,
          "metadata": {},
          "output_type": "execute_result"
        }
      ],
      "source": [
        "from langchain_experimental.text_splitter import SemanticChunker\n",
        "\n",
        "semantic_chunker = SemanticChunker(\n",
        "    embeddings,\n",
        "    breakpoint_threshold_type=\"percentile\"\n",
        ")\n",
        "\n",
        "semantic_documents = semantic_chunker.split_documents(historical_docs)\n",
        "\n",
        "semantic_vectorstore = Qdrant.from_documents(\n",
        "    semantic_documents,\n",
        "    embeddings,\n",
        "    location=\":memory:\",\n",
        "    collection_name=\"AmatolDocsSemantic\"\n",
        ")\n",
        "\n",
        "semantic_retriever = semantic_vectorstore.as_retriever(search_kwargs={\"k\" : 10})\n",
        "\n",
        "semantic_retrieval_chain = (\n",
        "    {\"context\": itemgetter(\"question\") | semantic_retriever, \"question\": itemgetter(\"question\")}\n",
        "    | RunnablePassthrough.assign(context=itemgetter(\"context\"))\n",
        "    | {\"response\": rag_prompt | chat_model, \"context\": itemgetter(\"context\")}\n",
        ")\n",
        "\n",
        "semantic_retrieval_chain.invoke({\"question\" : \"What did Colonel Hawkins say about the town and plant of Amatol, NJ?\"})[\"response\"].content"
      ]
    },
    {
      "cell_type": "markdown",
      "metadata": {
        "id": "VUrIBKl_TwS9"
      },
      "source": [
        "## Ensemble Retriever"
      ]
    },
    {
      "cell_type": "code",
      "execution_count": 45,
      "metadata": {
        "id": "8j7jpZsKTxic"
      },
      "outputs": [],
      "source": [
        "from langchain.retrievers import EnsembleRetriever\n",
        "\n",
        "retriever_list = [bm25_retriever, naive_retriever, semantic_retriever, multi_query_retriever]\n",
        "equal_weighting = [1/len(retriever_list)] * len(retriever_list)\n",
        "\n",
        "ensemble_retriever = EnsembleRetriever(\n",
        "    retrievers=retriever_list, weights=equal_weighting\n",
        ")"
      ]
    },
    {
      "cell_type": "code",
      "execution_count": 46,
      "metadata": {
        "id": "KZ__EZwpUKkd"
      },
      "outputs": [],
      "source": [
        "ensemble_retrieval_chain = (\n",
        "    {\"context\": itemgetter(\"question\") | ensemble_retriever, \"question\": itemgetter(\"question\")}\n",
        "    | RunnablePassthrough.assign(context=itemgetter(\"context\"))\n",
        "    | {\"response\": rag_prompt | chat_model, \"context\": itemgetter(\"context\")}\n",
        ")"
      ]
    },
    {
      "cell_type": "code",
      "execution_count": 47,
      "metadata": {
        "colab": {
          "base_uri": "https://localhost:8080/",
          "height": 70
        },
        "id": "0lMvqL88UQI-",
        "outputId": "d86dd5f7-0a13-4836-c0ce-cc4c431fd889"
      },
      "outputs": [
        {
          "data": {
            "text/plain": [
              "'Colonel Hawkins said that he had to build attractive accommodations at Amatol to get people to stay there, especially considering that most people were aware of the dangers associated with the plant. He mentioned that the size of Amatol—6,000 acres—was intended as a “substantial safety zone” to protect the workers and the surrounding area.'"
            ]
          },
          "execution_count": 47,
          "metadata": {},
          "output_type": "execute_result"
        }
      ],
      "source": [
        "ensemble_retrieval_chain.invoke({\"question\" : \"What did Colonel Hawkins say about the town and plant of Amatol, NJ?\"})[\"response\"].content"
      ]
    },
    {
      "cell_type": "markdown",
      "metadata": {},
      "source": [
        "# Ensemble + Cohere"
      ]
    },
    {
      "cell_type": "code",
      "execution_count": 48,
      "metadata": {},
      "outputs": [],
      "source": [
        "from langchain.retrievers.contextual_compression import ContextualCompressionRetriever\n",
        "from langchain_cohere import CohereRerank\n",
        "\n",
        "compressor = CohereRerank(model=\"rerank-v3.5\")\n",
        "\n",
        "compressed_ensemble_retriever = ContextualCompressionRetriever(\n",
        "    base_compressor=compressor,\n",
        "    base_retriever=ensemble_retriever,\n",
        "    top_k=15\n",
        ")\n",
        "\n",
        "ensemble_compressed_chain = (\n",
        "    {\"context\": itemgetter(\"question\") | compressed_ensemble_retriever, \"question\": itemgetter(\"question\")}\n",
        "    | RunnablePassthrough.assign(context=itemgetter(\"context\"))\n",
        "    | {\"response\": rag_prompt | chat_model, \"context\": itemgetter(\"context\")}\n",
        ")\n"
      ]
    },
    {
      "cell_type": "code",
      "execution_count": 49,
      "metadata": {
        "colab": {
          "base_uri": "https://localhost:8080/",
          "height": 53
        },
        "id": "MNFWLYECURI1",
        "outputId": "b17973b5-66a9-4481-97d5-880b5754b5c5"
      },
      "outputs": [
        {
          "data": {
            "text/plain": [
              "\"Colonel Hawkins said that the town and plant of Amatol, NJ, were constructed rapidly, within nine months, to serve as a shell-loading munitions plant and workers' village during World War I. He described the town as a planned community that was made attractive in order to encourage workers to stay, despite the awareness of the dangers involved. Hawkins also mentioned that the size of Amatol, covering 6,000 acres, was intended as a substantial safety zone. Additionally, he noted that there were difficulties in attracting workers to the site due to safety concerns, and efforts had to be made to make accommodations appealing enough to draw and retain personnel.\""
            ]
          },
          "execution_count": 49,
          "metadata": {},
          "output_type": "execute_result"
        }
      ],
      "source": [
        "ensemble_compressed_chain.invoke({\"question\" : \"What did Colonel Hawkins say about the town and plant of Amatol, NJ?\"})[\"response\"].content"
      ]
    },
    {
      "cell_type": "markdown",
      "metadata": {},
      "source": [
        "# RAGAS"
      ]
    },
    {
      "cell_type": "code",
      "execution_count": 50,
      "metadata": {
        "id": "tgDICngKXLGK"
      },
      "outputs": [],
      "source": [
        "os.environ[\"LANGCHAIN_TRACING_V2\"] = \"true\"\n",
        "os.environ[\"LANGCHAIN_PROJECT\"] = f\"Session 11 - Retrieval Pipelines\"\n",
        "os.environ[\"LANGCHAIN_API_KEY\"] = getpass.getpass(\"LangSmith API Key: \")"
      ]
    },
    {
      "cell_type": "code",
      "execution_count": 51,
      "metadata": {},
      "outputs": [
        {
          "name": "stderr",
          "output_type": "stream",
          "text": [
            "/home/djdinnebeil/cert_project_aie7/.venv/lib/python3.12/site-packages/tqdm/auto.py:21: TqdmWarning: IProgress not found. Please update jupyter and ipywidgets. See https://ipywidgets.readthedocs.io/en/stable/user_install.html\n",
            "  from .autonotebook import tqdm as notebook_tqdm\n"
          ]
        },
        {
          "name": "stdout",
          "output_type": "stream",
          "text": [
            "Generating synthetic dataset...\n"
          ]
        },
        {
          "name": "stderr",
          "output_type": "stream",
          "text": [
            "Applying HeadlineSplitter:   0%|          | 0/66 [00:00<?, ?it/s]           unable to apply transformation: 'headlines' property not found in this node\n",
            "unable to apply transformation: 'headlines' property not found in this node\n",
            "unable to apply transformation: 'headlines' property not found in this node\n",
            "unable to apply transformation: 'headlines' property not found in this node\n",
            "unable to apply transformation: 'headlines' property not found in this node\n",
            "unable to apply transformation: 'headlines' property not found in this node\n",
            "unable to apply transformation: 'headlines' property not found in this node\n",
            "unable to apply transformation: 'headlines' property not found in this node\n",
            "unable to apply transformation: 'headlines' property not found in this node\n",
            "unable to apply transformation: 'headlines' property not found in this node\n",
            "unable to apply transformation: 'headlines' property not found in this node\n",
            "unable to apply transformation: 'headlines' property not found in this node\n",
            "unable to apply transformation: 'headlines' property not found in this node\n",
            "unable to apply transformation: 'headlines' property not found in this node\n",
            "unable to apply transformation: 'headlines' property not found in this node\n",
            "unable to apply transformation: 'headlines' property not found in this node\n",
            "unable to apply transformation: 'headlines' property not found in this node\n",
            "unable to apply transformation: 'headlines' property not found in this node\n",
            "unable to apply transformation: 'headlines' property not found in this node\n",
            "unable to apply transformation: 'headlines' property not found in this node\n",
            "unable to apply transformation: 'headlines' property not found in this node\n",
            "unable to apply transformation: 'headlines' property not found in this node\n",
            "unable to apply transformation: 'headlines' property not found in this node\n",
            "unable to apply transformation: 'headlines' property not found in this node\n",
            "unable to apply transformation: 'headlines' property not found in this node\n",
            "unable to apply transformation: 'headlines' property not found in this node\n",
            "unable to apply transformation: 'headlines' property not found in this node\n",
            "unable to apply transformation: 'headlines' property not found in this node\n",
            "unable to apply transformation: 'headlines' property not found in this node\n",
            "unable to apply transformation: 'headlines' property not found in this node\n",
            "unable to apply transformation: 'headlines' property not found in this node\n",
            "unable to apply transformation: 'headlines' property not found in this node\n",
            "unable to apply transformation: 'headlines' property not found in this node\n",
            "unable to apply transformation: 'headlines' property not found in this node\n",
            "unable to apply transformation: 'headlines' property not found in this node\n",
            "unable to apply transformation: 'headlines' property not found in this node\n",
            "Applying SummaryExtractor:  56%|█████▌    | 30/54 [00:06<00:04,  5.84it/s]Property 'summary' already exists in node '0fd291'. Skipping!\n",
            "Property 'summary' already exists in node 'dd8c65'. Skipping!\n",
            "Applying SummaryExtractor:  59%|█████▉    | 32/54 [00:07<00:03,  6.06it/s]Property 'summary' already exists in node 'c2d95a'. Skipping!\n",
            "Property 'summary' already exists in node '51629d'. Skipping!\n",
            "Applying SummaryExtractor:  63%|██████▎   | 34/54 [00:07<00:02,  7.07it/s]Property 'summary' already exists in node '55b0be'. Skipping!\n",
            "Applying SummaryExtractor:  65%|██████▍   | 35/54 [00:07<00:02,  6.52it/s]Property 'summary' already exists in node '8deea7'. Skipping!\n",
            "Applying SummaryExtractor:  67%|██████▋   | 36/54 [00:07<00:03,  5.29it/s]Property 'summary' already exists in node 'b09028'. Skipping!\n",
            "Applying SummaryExtractor:  69%|██████▊   | 37/54 [00:08<00:03,  4.98it/s]Property 'summary' already exists in node 'af51d6'. Skipping!\n",
            "Applying SummaryExtractor:  70%|███████   | 38/54 [00:08<00:04,  3.89it/s]Property 'summary' already exists in node '415437'. Skipping!\n",
            "Property 'summary' already exists in node '850fab'. Skipping!\n",
            "Applying SummaryExtractor:  74%|███████▍  | 40/54 [00:08<00:03,  4.37it/s]Property 'summary' already exists in node '7bfe66'. Skipping!\n",
            "Applying SummaryExtractor:  76%|███████▌  | 41/54 [00:09<00:03,  4.26it/s]Property 'summary' already exists in node '2027b1'. Skipping!\n",
            "Applying SummaryExtractor:  78%|███████▊  | 42/54 [00:09<00:03,  3.03it/s]Property 'summary' already exists in node '2632fd'. Skipping!\n",
            "Property 'summary' already exists in node '525f37'. Skipping!\n",
            "Applying SummaryExtractor:  81%|████████▏ | 44/54 [00:09<00:02,  4.63it/s]Property 'summary' already exists in node '7dce04'. Skipping!\n",
            "Applying SummaryExtractor:  83%|████████▎ | 45/54 [00:10<00:01,  4.85it/s]Property 'summary' already exists in node '96ee89'. Skipping!\n",
            "Property 'summary' already exists in node 'fe3ebe'. Skipping!\n",
            "Property 'summary' already exists in node 'bcfc14'. Skipping!\n",
            "Applying SummaryExtractor:  89%|████████▉ | 48/54 [00:10<00:00,  7.90it/s]Property 'summary' already exists in node '63e498'. Skipping!\n",
            "Property 'summary' already exists in node '8623fb'. Skipping!\n",
            "Property 'summary' already exists in node '873d66'. Skipping!\n",
            "Property 'summary' already exists in node '9ed563'. Skipping!\n",
            "Applying SummaryExtractor:  96%|█████████▋| 52/54 [00:10<00:00,  8.80it/s]Property 'summary' already exists in node '8899bb'. Skipping!\n",
            "Property 'summary' already exists in node 'ad350d'. Skipping!\n",
            "Applying [EmbeddingExtractor, ThemesExtractor, NERExtractor]:  28%|██▊       | 22/78 [00:00<00:01, 48.45it/s]Property 'summary_embedding' already exists in node 'dd8c65'. Skipping!\n",
            "Property 'summary_embedding' already exists in node '415437'. Skipping!\n",
            "Applying [EmbeddingExtractor, ThemesExtractor, NERExtractor]:  36%|███▌      | 28/78 [00:00<00:01, 41.32it/s]Property 'summary_embedding' already exists in node '55b0be'. Skipping!\n",
            "Property 'summary_embedding' already exists in node '7bfe66'. Skipping!\n",
            "Property 'summary_embedding' already exists in node '0fd291'. Skipping!\n",
            "Property 'summary_embedding' already exists in node '51629d'. Skipping!\n",
            "Property 'summary_embedding' already exists in node 'fe3ebe'. Skipping!\n",
            "Property 'summary_embedding' already exists in node '850fab'. Skipping!\n",
            "Applying [EmbeddingExtractor, ThemesExtractor, NERExtractor]:  44%|████▎     | 34/78 [00:00<00:01, 43.19it/s]Property 'summary_embedding' already exists in node 'b09028'. Skipping!\n",
            "Property 'summary_embedding' already exists in node '2632fd'. Skipping!\n",
            "Property 'summary_embedding' already exists in node 'af51d6'. Skipping!\n",
            "Property 'summary_embedding' already exists in node '8623fb'. Skipping!\n",
            "Applying [EmbeddingExtractor, ThemesExtractor, NERExtractor]:  53%|█████▎    | 41/78 [00:01<00:00, 47.54it/s]Property 'summary_embedding' already exists in node 'bcfc14'. Skipping!\n",
            "Property 'summary_embedding' already exists in node '63e498'. Skipping!\n",
            "Property 'summary_embedding' already exists in node '96ee89'. Skipping!\n",
            "Property 'summary_embedding' already exists in node 'c2d95a'. Skipping!\n",
            "Property 'summary_embedding' already exists in node '8deea7'. Skipping!\n",
            "Applying [EmbeddingExtractor, ThemesExtractor, NERExtractor]:  60%|██████    | 47/78 [00:01<00:00, 37.58it/s]Property 'summary_embedding' already exists in node 'ad350d'. Skipping!\n",
            "Property 'summary_embedding' already exists in node '873d66'. Skipping!\n",
            "Property 'summary_embedding' already exists in node '2027b1'. Skipping!\n",
            "Property 'summary_embedding' already exists in node '9ed563'. Skipping!\n",
            "Property 'summary_embedding' already exists in node '7dce04'. Skipping!\n",
            "Property 'summary_embedding' already exists in node '525f37'. Skipping!\n",
            "Applying [EmbeddingExtractor, ThemesExtractor, NERExtractor]:  69%|██████▉   | 54/78 [00:01<00:01, 19.45it/s]Property 'summary_embedding' already exists in node '8899bb'. Skipping!\n",
            "Generating personas: 100%|██████████| 3/3 [00:00<00:00,  3.81it/s]                                           \n",
            "Generating Scenarios: 100%|██████████| 3/3 [00:22<00:00,  7.41s/it]\n",
            "Generating Samples: 100%|██████████| 11/11 [00:02<00:00,  4.22it/s]\n"
          ]
        },
        {
          "name": "stdout",
          "output_type": "stream",
          "text": [
            "💰 Tokens used: 167482 | Cost: $0.0222\n"
          ]
        }
      ],
      "source": [
        "import random\n",
        "import pandas as pd\n",
        "from langchain_openai import ChatOpenAI, OpenAIEmbeddings\n",
        "from ragas.llms import LangchainLLMWrapper\n",
        "from ragas.embeddings import LangchainEmbeddingsWrapper\n",
        "from ragas.testset import TestsetGenerator\n",
        "from ragas.testset.synthesizers import (\n",
        "    SingleHopSpecificQuerySynthesizer,\n",
        "    MultiHopAbstractQuerySynthesizer,\n",
        "    MultiHopSpecificQuerySynthesizer,\n",
        ")\n",
        "from langchain.callbacks import get_openai_callback\n",
        "\n",
        "# Reproducibility\n",
        "random.seed(42)\n",
        "\n",
        "# LLM + embedding setup\n",
        "generator_llm = LangchainLLMWrapper(ChatOpenAI(model=\"gpt-4.1-nano\", temperature=0.7))\n",
        "generator_embeddings = LangchainEmbeddingsWrapper(OpenAIEmbeddings(model=\"text-embedding-3-small\"))\n",
        "\n",
        "# Query types\n",
        "query_distribution = [\n",
        "    (SingleHopSpecificQuerySynthesizer(llm=generator_llm), 0.5),\n",
        "    (MultiHopAbstractQuerySynthesizer(llm=generator_llm), 0.25),\n",
        "    (MultiHopSpecificQuerySynthesizer(llm=generator_llm), 0.25),\n",
        "]\n",
        "\n",
        "# Generator init\n",
        "generator = TestsetGenerator(llm=generator_llm, embedding_model=generator_embeddings)\n",
        "\n",
        "# Generate\n",
        "print(\"Generating synthetic dataset...\")\n",
        "with get_openai_callback() as cb:\n",
        "    dataset = generator.generate_with_langchain_docs(\n",
        "        historical_docs,\n",
        "        testset_size=10,\n",
        "        query_distribution=query_distribution,\n",
        "    )\n",
        "    print(f\"💰 Tokens used: {cb.total_tokens} | Cost: ${cb.total_cost:.4f}\")"
      ]
    },
    {
      "cell_type": "code",
      "execution_count": 52,
      "metadata": {},
      "outputs": [
        {
          "data": {
            "text/html": [
              "<div>\n",
              "<style scoped>\n",
              "    .dataframe tbody tr th:only-of-type {\n",
              "        vertical-align: middle;\n",
              "    }\n",
              "\n",
              "    .dataframe tbody tr th {\n",
              "        vertical-align: top;\n",
              "    }\n",
              "\n",
              "    .dataframe thead th {\n",
              "        text-align: right;\n",
              "    }\n",
              "</style>\n",
              "<table border=\"1\" class=\"dataframe\">\n",
              "  <thead>\n",
              "    <tr style=\"text-align: right;\">\n",
              "      <th></th>\n",
              "      <th>user_input</th>\n",
              "      <th>reference_contexts</th>\n",
              "      <th>reference</th>\n",
              "      <th>synthesizer_name</th>\n",
              "    </tr>\n",
              "  </thead>\n",
              "  <tbody>\n",
              "    <tr>\n",
              "      <th>0</th>\n",
              "      <td>Who was JAMES BLAINE WALKER and what was his role in relation to rapid wartime industrial mobilization?</td>\n",
              "      <td>[INTRODUCTION BY JAMES BLAINE WALKER Secretary Public Service Commission, 1st Dist. New York; Author of \"Fifty Years of Rapid Transit,\" etc. FOR MANY YEARS travelers on the Pennsylvania Railroad, between Philadelphia and Atlantic City, have viewed from the car windows apparently interminable str...</td>\n",
              "      <td>JAMES BLAINE WALKER was the Secretary of the Public Service Commission for the 1st District of New York and the author of \"Fifty Years of Rapid Transit.\"</td>\n",
              "      <td>single_hop_specifc_query_synthesizer</td>\n",
              "    </tr>\n",
              "    <tr>\n",
              "      <th>1</th>\n",
              "      <td>Who was Mr. Hammel and what role did he play in the context of wartime industrial development during World War I?</td>\n",
              "      <td>[In the following pages Mr. Hammel, the Company's Chief Engineer, and a Member of the American Society of Civil Engineers, has creditably presented an all-too-brief history of this great undertaking, which includes an interesting description of the plant and the town, their construction, operati...</td>\n",
              "      <td>Mr. Hammel was the Company's Chief Engineer and a Member of the American Society of Civil Engineers. He presented a history of a significant wartime industrial undertaking, including details about the plant, the town, their construction, operation, capacity, and the organization that made them p...</td>\n",
              "      <td>single_hop_specifc_query_synthesizer</td>\n",
              "    </tr>\n",
              "    <tr>\n",
              "      <th>2</th>\n",
              "      <td>Y. M. C. A. what is it?</td>\n",
              "      <td>[with drying apparatus, as well as a diet kitchen, infirmary and shower. It would, indeed, be difficult to design a building better suited to its purposes, comfortable in its construction and within its walls all the accessories for the proper housing of its occupants. This building, affording l...</td>\n",
              "      <td>The Y. M. C. A. is a projected group of buildings, some completed, others moving towards completion, that includes a swimming pool, gymnasium with stage, bowling alley, billiard rooms and refreshment and lounging rooms.</td>\n",
              "      <td>single_hop_specifc_query_synthesizer</td>\n",
              "    </tr>\n",
              "    <tr>\n",
              "      <th>3</th>\n",
              "      <td>What does the history say about American labor and their living conditions?</td>\n",
              "      <td>[Closing Reflection The history of this community has again demonstrated that American labor wants not merely to exist, but to live; that upon living conditions is dependent enthusiasm for work; that to house workmen in buildings that are not both attractive and comfortable is a fundamental error.]</td>\n",
              "      <td>The history of this community has demonstrated that American labor wants not merely to exist, but to live; that upon living conditions is dependent enthusiasm for work; that to house workmen in buildings that are not both attractive and comfortable is a fundamental error.</td>\n",
              "      <td>single_hop_specifc_query_synthesizer</td>\n",
              "    </tr>\n",
              "    <tr>\n",
              "      <th>4</th>\n",
              "      <td>So like when US declared war on Germany in 1917, they had to make lots of munitions and stuff, right, and that was a big deal for Germany too, right?</td>\n",
              "      <td>[SCOPE OF THE WORK In April, 1917, when the United States declared war on Germany, and began the work of enlarging the Army and Navy and providing for the needed supply of food, clothing and munitions, its greatest task was to provide for the manufacture of munitions. The needed men were here; i...</td>\n",
              "      <td>The context describes that in April 1917, when the United States declared war on Germany, its greatest task was to provide for the manufacture of munitions, including building new factories and transforming peacetime works into gun and shell producers. The focus was on enlarging the Army and Nav...</td>\n",
              "      <td>single_hop_specifc_query_synthesizer</td>\n",
              "    </tr>\n",
              "    <tr>\n",
              "      <th>5</th>\n",
              "      <td>How did the company town and community development of Amatol relate to its town planning and the safety measures implemented during its construction?</td>\n",
              "      <td>[&lt;1-hop&gt;\\n\\nAmatol: A former World War I munitions factory, located in Mullica Township, NJ The Book Shell Loading at Amatol, N.J. (150 scanned pages) is a rare, oversize book that documented the building of a bomb making facility at the tail end of World War I. Amatol was an extensive and attra...</td>\n",
              "      <td>Amatol was developed as an extensive 'company town' to support the ordnance facility, with careful town planning influenced by early 20th-century principles of planned communities and English Garden Cities. The town was designed to be attractive and stimulating for workers, incorporating element...</td>\n",
              "      <td>multi_hop_abstract_query_synthesizer</td>\n",
              "    </tr>\n",
              "    <tr>\n",
              "      <th>6</th>\n",
              "      <td>How did the wartime industrial production at amatol relate to the us involvement in WW1 and how did the town planning support the war effort?</td>\n",
              "      <td>[&lt;1-hop&gt;\\n\\nAmatol: A former World War I munitions factory, located in Mullica Township, NJ The Book Shell Loading at Amatol, N.J. (150 scanned pages) is a rare, oversize book that documented the building of a bomb making facility at the tail end of World War I. Amatol was an extensive and attra...</td>\n",
              "      <td>The industrial production at Amatol was directly connected to the US involvement in WW1, as the plant was constructed rapidly starting in March 1918 to support the war effort by loading shells and ordnance for American troops in France. The town built to support the plant was a planned community...</td>\n",
              "      <td>multi_hop_abstract_query_synthesizer</td>\n",
              "    </tr>\n",
              "    <tr>\n",
              "      <th>7</th>\n",
              "      <td>How did the co-ordination of labor and machinery for efficient production contribute to the construction and operation of the shell loading plant during WW1?</td>\n",
              "      <td>[&lt;1-hop&gt;\\n\\nINTRODUCTION BY JAMES BLAINE WALKER Secretary Public Service Commission, 1st Dist. New York; Author of \"Fifty Years of Rapid Transit,\" etc. FOR MANY YEARS travelers on the Pennsylvania Railroad, between Philadelphia and Atlantic City, have viewed from the car windows apparently inter...</td>\n",
              "      <td>The co-ordination of labor and machinery was essential in the rapid construction and operation of the shell loading plant in Amatol, New Jersey. The organization combined expert personnel, such as engineers and administrative leaders, with innovative methods like the power belt conveyor system, ...</td>\n",
              "      <td>multi_hop_abstract_query_synthesizer</td>\n",
              "    </tr>\n",
              "    <tr>\n",
              "      <th>8</th>\n",
              "      <td>Wht is the relashunship between New York City and the amatoal shell plant in New York?</td>\n",
              "      <td>[&lt;1-hop&gt;\\n\\nINTRODUCTION BY JAMES BLAINE WALKER Secretary Public Service Commission, 1st Dist. New York; Author of \"Fifty Years of Rapid Transit,\" etc. FOR MANY YEARS travelers on the Pennsylvania Railroad, between Philadelphia and Atlantic City, have viewed from the car windows apparently inter...</td>\n",
              "      <td>The context does not mention a shell plant in New York City, but it describes how a large tract of land in New Jersey near Hammonton was transformed into a shell-loading plant during wartime, with significant involvement from New York-based companies and organizations. The connection is that the...</td>\n",
              "      <td>multi_hop_specific_query_synthesizer</td>\n",
              "    </tr>\n",
              "    <tr>\n",
              "      <th>9</th>\n",
              "      <td>How did the development and subsequent disappearance of the Amatol munitions factory in New Jersey reflect the United States' wartime efforts during World War I, and what lasting impacts did this have on the local community and historical documentation?</td>\n",
              "      <td>[&lt;1-hop&gt;\\n\\nSCOPE OF THE WORK In April, 1917, when the United States declared war on Germany, and began the work of enlarging the Army and Navy and providing for the needed supply of food, clothing and munitions, its greatest task was to provide for the manufacture of munitions. The needed men w...</td>\n",
              "      <td>The Amatol munitions factory in Mullica Township, New Jersey, was built as part of the United States' extensive wartime effort following the declaration of war on Germany in April 1917, which required the rapid expansion of munitions manufacturing. Construction began in March 1918, and the facto...</td>\n",
              "      <td>multi_hop_specific_query_synthesizer</td>\n",
              "    </tr>\n",
              "    <tr>\n",
              "      <th>10</th>\n",
              "      <td>How did the Pennsylvania Railroad facilitate the rapid construction and operation of the shell loading plant near Hammonton, New Jersey, as described in the context of the Atlantic Loading Company’s activities during 1918?</td>\n",
              "      <td>[&lt;1-hop&gt;\\n\\nThe achievements of 1918 showed how well this work had been done in 1917. Once the lathes and the forges were working it became necessary to supply the high explosives with which to charge the shell they turned out, and to provide extensive machinery for doing the charging. Contracts...</td>\n",
              "      <td>The Pennsylvania Railroad played a crucial role in facilitating the rapid construction and operation of the shell loading plant near Hammonton, New Jersey, by providing important transportation facilities that allowed for the efficient movement of men and materials. The location of the plant was...</td>\n",
              "      <td>multi_hop_specific_query_synthesizer</td>\n",
              "    </tr>\n",
              "  </tbody>\n",
              "</table>\n",
              "</div>"
            ],
            "text/plain": [
              "                                                                                                                                                                                                                                                       user_input  \\\n",
              "0                                                                                                                                                         Who was JAMES BLAINE WALKER and what was his role in relation to rapid wartime industrial mobilization?   \n",
              "1                                                                                                                                               Who was Mr. Hammel and what role did he play in the context of wartime industrial development during World War I?   \n",
              "2                                                                                                                                                                                                                                         Y. M. C. A. what is it?   \n",
              "3                                                                                                                                                                                     What does the history say about American labor and their living conditions?   \n",
              "4                                                                                                           So like when US declared war on Germany in 1917, they had to make lots of munitions and stuff, right, and that was a big deal for Germany too, right?   \n",
              "5                                                                                                           How did the company town and community development of Amatol relate to its town planning and the safety measures implemented during its construction?   \n",
              "6                                                                                                                   How did the wartime industrial production at amatol relate to the us involvement in WW1 and how did the town planning support the war effort?   \n",
              "7                                                                                                   How did the co-ordination of labor and machinery for efficient production contribute to the construction and operation of the shell loading plant during WW1?   \n",
              "8                                                                                                                                                                          Wht is the relashunship between New York City and the amatoal shell plant in New York?   \n",
              "9   How did the development and subsequent disappearance of the Amatol munitions factory in New Jersey reflect the United States' wartime efforts during World War I, and what lasting impacts did this have on the local community and historical documentation?   \n",
              "10                                 How did the Pennsylvania Railroad facilitate the rapid construction and operation of the shell loading plant near Hammonton, New Jersey, as described in the context of the Atlantic Loading Company’s activities during 1918?   \n",
              "\n",
              "                                                                                                                                                                                                                                                                                             reference_contexts  \\\n",
              "0   [INTRODUCTION BY JAMES BLAINE WALKER Secretary Public Service Commission, 1st Dist. New York; Author of \"Fifty Years of Rapid Transit,\" etc. FOR MANY YEARS travelers on the Pennsylvania Railroad, between Philadelphia and Atlantic City, have viewed from the car windows apparently interminable str...   \n",
              "1   [In the following pages Mr. Hammel, the Company's Chief Engineer, and a Member of the American Society of Civil Engineers, has creditably presented an all-too-brief history of this great undertaking, which includes an interesting description of the plant and the town, their construction, operati...   \n",
              "2   [with drying apparatus, as well as a diet kitchen, infirmary and shower. It would, indeed, be difficult to design a building better suited to its purposes, comfortable in its construction and within its walls all the accessories for the proper housing of its occupants. This building, affording l...   \n",
              "3   [Closing Reflection The history of this community has again demonstrated that American labor wants not merely to exist, but to live; that upon living conditions is dependent enthusiasm for work; that to house workmen in buildings that are not both attractive and comfortable is a fundamental error.]   \n",
              "4   [SCOPE OF THE WORK In April, 1917, when the United States declared war on Germany, and began the work of enlarging the Army and Navy and providing for the needed supply of food, clothing and munitions, its greatest task was to provide for the manufacture of munitions. The needed men were here; i...   \n",
              "5   [<1-hop>\\n\\nAmatol: A former World War I munitions factory, located in Mullica Township, NJ The Book Shell Loading at Amatol, N.J. (150 scanned pages) is a rare, oversize book that documented the building of a bomb making facility at the tail end of World War I. Amatol was an extensive and attra...   \n",
              "6   [<1-hop>\\n\\nAmatol: A former World War I munitions factory, located in Mullica Township, NJ The Book Shell Loading at Amatol, N.J. (150 scanned pages) is a rare, oversize book that documented the building of a bomb making facility at the tail end of World War I. Amatol was an extensive and attra...   \n",
              "7   [<1-hop>\\n\\nINTRODUCTION BY JAMES BLAINE WALKER Secretary Public Service Commission, 1st Dist. New York; Author of \"Fifty Years of Rapid Transit,\" etc. FOR MANY YEARS travelers on the Pennsylvania Railroad, between Philadelphia and Atlantic City, have viewed from the car windows apparently inter...   \n",
              "8   [<1-hop>\\n\\nINTRODUCTION BY JAMES BLAINE WALKER Secretary Public Service Commission, 1st Dist. New York; Author of \"Fifty Years of Rapid Transit,\" etc. FOR MANY YEARS travelers on the Pennsylvania Railroad, between Philadelphia and Atlantic City, have viewed from the car windows apparently inter...   \n",
              "9   [<1-hop>\\n\\nSCOPE OF THE WORK In April, 1917, when the United States declared war on Germany, and began the work of enlarging the Army and Navy and providing for the needed supply of food, clothing and munitions, its greatest task was to provide for the manufacture of munitions. The needed men w...   \n",
              "10  [<1-hop>\\n\\nThe achievements of 1918 showed how well this work had been done in 1917. Once the lathes and the forges were working it became necessary to supply the high explosives with which to charge the shell they turned out, and to provide extensive machinery for doing the charging. Contracts...   \n",
              "\n",
              "                                                                                                                                                                                                                                                                                                      reference  \\\n",
              "0                                                                                                                                                     JAMES BLAINE WALKER was the Secretary of the Public Service Commission for the 1st District of New York and the author of \"Fifty Years of Rapid Transit.\"   \n",
              "1   Mr. Hammel was the Company's Chief Engineer and a Member of the American Society of Civil Engineers. He presented a history of a significant wartime industrial undertaking, including details about the plant, the town, their construction, operation, capacity, and the organization that made them p...   \n",
              "2                                                                                   The Y. M. C. A. is a projected group of buildings, some completed, others moving towards completion, that includes a swimming pool, gymnasium with stage, bowling alley, billiard rooms and refreshment and lounging rooms.   \n",
              "3                              The history of this community has demonstrated that American labor wants not merely to exist, but to live; that upon living conditions is dependent enthusiasm for work; that to house workmen in buildings that are not both attractive and comfortable is a fundamental error.   \n",
              "4   The context describes that in April 1917, when the United States declared war on Germany, its greatest task was to provide for the manufacture of munitions, including building new factories and transforming peacetime works into gun and shell producers. The focus was on enlarging the Army and Nav...   \n",
              "5   Amatol was developed as an extensive 'company town' to support the ordnance facility, with careful town planning influenced by early 20th-century principles of planned communities and English Garden Cities. The town was designed to be attractive and stimulating for workers, incorporating element...   \n",
              "6   The industrial production at Amatol was directly connected to the US involvement in WW1, as the plant was constructed rapidly starting in March 1918 to support the war effort by loading shells and ordnance for American troops in France. The town built to support the plant was a planned community...   \n",
              "7   The co-ordination of labor and machinery was essential in the rapid construction and operation of the shell loading plant in Amatol, New Jersey. The organization combined expert personnel, such as engineers and administrative leaders, with innovative methods like the power belt conveyor system, ...   \n",
              "8   The context does not mention a shell plant in New York City, but it describes how a large tract of land in New Jersey near Hammonton was transformed into a shell-loading plant during wartime, with significant involvement from New York-based companies and organizations. The connection is that the...   \n",
              "9   The Amatol munitions factory in Mullica Township, New Jersey, was built as part of the United States' extensive wartime effort following the declaration of war on Germany in April 1917, which required the rapid expansion of munitions manufacturing. Construction began in March 1918, and the facto...   \n",
              "10  The Pennsylvania Railroad played a crucial role in facilitating the rapid construction and operation of the shell loading plant near Hammonton, New Jersey, by providing important transportation facilities that allowed for the efficient movement of men and materials. The location of the plant was...   \n",
              "\n",
              "                        synthesizer_name  \n",
              "0   single_hop_specifc_query_synthesizer  \n",
              "1   single_hop_specifc_query_synthesizer  \n",
              "2   single_hop_specifc_query_synthesizer  \n",
              "3   single_hop_specifc_query_synthesizer  \n",
              "4   single_hop_specifc_query_synthesizer  \n",
              "5   multi_hop_abstract_query_synthesizer  \n",
              "6   multi_hop_abstract_query_synthesizer  \n",
              "7   multi_hop_abstract_query_synthesizer  \n",
              "8   multi_hop_specific_query_synthesizer  \n",
              "9   multi_hop_specific_query_synthesizer  \n",
              "10  multi_hop_specific_query_synthesizer  "
            ]
          },
          "metadata": {},
          "output_type": "display_data"
        }
      ],
      "source": [
        "import pandas as pd\n",
        "\n",
        "df = dataset.to_pandas()\n",
        "pd.set_option('display.max_colwidth', 300)\n",
        "display(df)"
      ]
    },
    {
      "cell_type": "code",
      "execution_count": 53,
      "metadata": {},
      "outputs": [
        {
          "name": "stdout",
          "output_type": "stream",
          "text": [
            "Test dataset saved to loan_test_dataset.csv\n"
          ]
        }
      ],
      "source": [
        "# Save the test dataset to avoid regenerating it\n",
        "dataset.to_pandas().to_csv(\"loan_test_dataset.csv\", index=False)\n",
        "print(\"Test dataset saved to loan_test_dataset.csv\")\n"
      ]
    },
    {
      "cell_type": "code",
      "execution_count": 56,
      "metadata": {},
      "outputs": [],
      "source": [
        "import os\n",
        "import time\n",
        "import copy\n",
        "import pandas as pd\n",
        "import json\n",
        "import numpy as np\n",
        "from ragas.evaluation import EvaluationDataset\n",
        "from ragas import evaluate, RunConfig\n",
        "from ragas.metrics import (\n",
        "    LLMContextRecall,\n",
        "    Faithfulness,\n",
        "    FactualCorrectness,\n",
        "    ResponseRelevancy,\n",
        "    ContextEntityRecall,\n",
        "    NoiseSensitivity,\n",
        ")\n",
        "from ragas.llms import LangchainLLMWrapper\n",
        "from langchain_openai import ChatOpenAI\n",
        "from langchain.callbacks import get_openai_callback\n",
        "\n",
        "def evaluation_result_to_dict(result):\n",
        "    \"\"\"\n",
        "    Convert EvaluationResult.scores (list of per-example dicts) to average metric values.\n",
        "    \"\"\"\n",
        "    scores_list = result.scores\n",
        "    if not scores_list or not isinstance(scores_list, list):\n",
        "        return {}\n",
        "\n",
        "    aggregated = {}\n",
        "    for key in scores_list[0].keys():\n",
        "        values = [s[key] for s in scores_list if s[key] is not None and not (isinstance(s[key], float) and np.isnan(s[key]))]\n",
        "        if values:\n",
        "            aggregated[key] = round(float(np.mean(values)), 4)\n",
        "\n",
        "    return aggregated\n",
        "\n",
        "\n",
        "def evaluate_retriever(name: str, pipeline, dataset):\n",
        "    print(f\"📊 Running evaluation for: {name}\")\n",
        "\n",
        "    test_dataset = copy.deepcopy(dataset)\n",
        "\n",
        "    latencies = []\n",
        "    total_tokens = 0\n",
        "    total_cost = 0\n",
        "    prompt_number = 1\n",
        "    prompt_logs = []\n",
        "\n",
        "    overall_start_time = time.time()\n",
        "\n",
        "    for test_row in test_dataset:\n",
        "        question = test_row.eval_sample.user_input\n",
        "        start_time = time.time()\n",
        "        with get_openai_callback() as cb:\n",
        "            response = pipeline.invoke({\"question\": question})\n",
        "        \n",
        "        latency = time.time() - start_time\n",
        "        latencies.append(latency)\n",
        "        total_tokens += cb.total_tokens\n",
        "        total_cost += cb.total_cost\n",
        "\n",
        "        test_row.eval_sample.response = str(response[\"response\"])\n",
        "        test_row.eval_sample.retrieved_contexts = [doc.page_content for doc in response[\"context\"]]\n",
        "\n",
        "        token_usage = {\n",
        "            \"completion_tokens\": response[\"response\"].response_metadata['token_usage'][\"completion_tokens\"],\n",
        "            \"prompt_tokens\": response[\"response\"].response_metadata['token_usage'][\"prompt_tokens\"],\n",
        "            \"total_tokens\": response[\"response\"].response_metadata['token_usage'][\"total_tokens\"]\n",
        "        }\n",
        "\n",
        "        model_name = response[\"response\"].response_metadata['model_name']\n",
        "\n",
        "        prompt_logs.append({\n",
        "            \"prompt_number\": prompt_number,\n",
        "            \"question\": question,\n",
        "            \"response\": response[\"response\"].content,\n",
        "            \"token_usage\": token_usage,\n",
        "            \"model_name\": model_name,\n",
        "            \"retrieved_contexts\": [doc.page_content for doc in response[\"context\"]],\n",
        "            \"retrieved_metadata\": [doc.metadata for doc in response[\"context\"]],\n",
        "            \"latency\": round(latency, 2),\n",
        "            \"tokens\": cb.total_tokens,\n",
        "            \"cost\": round(cb.total_cost, 6),\n",
        "            \"timestamp\": time.strftime('%Y-%m-%d %H:%M:%S', time.localtime(start_time))\n",
        "        })\n",
        "\n",
        "        print(f\"Prompt {prompt_number} | {response[\"response\"].content} |⏱️ {latency:.2f}s | Tokens {cb.total_tokens} | Cost {cb.total_cost:.6f}\")\n",
        "        prompt_number += 1\n",
        "\n",
        "    total_duration = time.time() - overall_start_time\n",
        "    avg_latency = sum(latencies) / len(latencies) if latencies else 0\n",
        "    avg_tokens_per_query = total_tokens / len(test_dataset)\n",
        "\n",
        "    print(f\"\\n📊 Summary for {name}:\")\n",
        "    print(f\"🔢 Total tokens: {total_tokens}\")\n",
        "    print(f\"⏱️ Avg latency: {avg_latency:.2f}s\")\n",
        "    print(f\"🔢 Avg tokens per query: {avg_tokens_per_query:.2f}\")\n",
        "    print(f\"⏱️ Total duration: {total_duration:.2f}s\")\n",
        "    print(f\"💰 Total cost: {total_cost:.6f}\")\n",
        "\n",
        "    evaluator_model = \"gpt-4.1-nano\"\n",
        "    evaluation_dataset = EvaluationDataset.from_pandas(test_dataset.to_pandas())\n",
        "    evaluator_llm = LangchainLLMWrapper(ChatOpenAI(model=evaluator_model, temperature=0))\n",
        "\n",
        "    with get_openai_callback() as cb:\n",
        "        result = evaluate(\n",
        "            experiment_name=name,\n",
        "            dataset=evaluation_dataset,\n",
        "            metrics=[\n",
        "                LLMContextRecall(),\n",
        "                Faithfulness(),\n",
        "                # FactualCorrectness(),\n",
        "                ResponseRelevancy(),\n",
        "                ContextEntityRecall(),\n",
        "                # NoiseSensitivity(),\n",
        "            ],\n",
        "            llm=evaluator_llm,\n",
        "            run_config=RunConfig(timeout=300)\n",
        "        )\n",
        "\n",
        "    evaluation_cost = cb.total_cost\n",
        "    evaluation_tokens = cb.total_tokens\n",
        "\n",
        "    print(f\"Evaluation LLM model: {evaluator_model}\")\n",
        "    print('Evaluation results:', result)\n",
        "    print('Evaluation tokens:', evaluation_tokens)\n",
        "    print(f'Evaluation cost: {evaluation_cost:.6f}')\n",
        "\n",
        "    evaluation_result_dict = evaluation_result_to_dict(result)\n",
        "\n",
        "    output_dir = \"historical_docs_retriever_logs\"\n",
        "    os.makedirs(output_dir, exist_ok=True)\n",
        "    log_filename = f'{name.lower().replace(\" \", \"_\")}_logs.json'\n",
        "    output_path = os.path.join(output_dir, log_filename)\n",
        "\n",
        "    full_output = {\n",
        "        \"name\": name,\n",
        "        \"summary\": {\n",
        "            \"total_runtime\": round(total_duration, 2),\n",
        "            \"avg_latency\": round(avg_latency, 2),\n",
        "            \"total_tokens\": int(total_tokens),\n",
        "            \"total_queries\": len(test_dataset),\n",
        "            \"total_cost\": round(total_cost, 6),\n",
        "            \"avg_tokens_per_query\": round(avg_tokens_per_query, 2),\n",
        "        },\n",
        "        \"latencies\": [round(lat, 2) for lat in latencies],\n",
        "        \"evaluation_result\": evaluation_result_dict,\n",
        "        \"evaluation_cost\": {\n",
        "            \"eval_model\": evaluator_model,\n",
        "            \"eval_tokens\": evaluation_tokens,\n",
        "            \"eval_cost\": round(evaluation_cost, 6),\n",
        "        },\n",
        "        \"prompt_logs_path\": output_path,\n",
        "        \"prompt_logs\": prompt_logs,\n",
        "    }\n",
        "\n",
        "    with open(output_path, \"w\", encoding=\"utf-8\") as f:\n",
        "        json.dump(full_output, f, indent=2, ensure_ascii=False)\n",
        "\n",
        "    print(f\"✅ Full result saved to: {output_path}\")\n",
        "\n",
        "    del full_output['prompt_logs']\n",
        "    return full_output"
      ]
    },
    {
      "cell_type": "code",
      "execution_count": 57,
      "metadata": {},
      "outputs": [
        {
          "name": "stdout",
          "output_type": "stream",
          "text": [
            "📊 Running evaluation for: naive_retriever_test\n",
            "Prompt 1 | James Blaine Walker was the Secretary of the Public Service Commission for the 1st District of New York and an author, notably of \"Fifty Years of Rapid Transit.\" In relation to rapid wartime industrial mobilization, he appears to have played a role as an example of an organized, official figure involved in infrastructure and public services during the period of increased industrial activity, such as in the context of war efforts. However, based on the provided context, there is no specific information indicating that he directly led or organized the wartime industrial mobilization efforts. |⏱️ 2.96s | Tokens 2692 | Cost 0.000303\n",
            "Prompt 2 | Mr. Hammel was the company's Chief Engineer and a member of the American Society of Civil Engineers. In the context of wartime industrial development during World War I, he played a significant role in documenting and presenting the history of the construction and operation of the shell-loading plant and the town of Amatol, New Jersey. His account provides an insightful description of the rapid and large-scale efforts involved in transforming land into a major munitions manufacturing site during the war, highlighting engineering achievements and the efficient organization behind the undertaking. |⏱️ 2.03s | Tokens 2943 | Cost 0.000326\n",
            "Prompt 3 | Y. M. C. A. stands for the Young Men's Christian Association. It is an organization that provides various recreational, educational, and social services, often including facilities like auditoriums, recreation halls, gyms, swimming pools, and other amenities for community members. In the context provided, the Y. M. C. A. is part of a large industrial town or complex, offering recreational and welfare services to workers and residents. |⏱️ 1.94s | Tokens 2175 | Cost 0.000244\n",
            "\n",
            "📊 Summary for naive_retriever_test:\n",
            "🔢 Total tokens: 7810\n",
            "⏱️ Avg latency: 2.31s\n",
            "🔢 Avg tokens per query: 2603.33\n",
            "⏱️ Total duration: 6.93s\n",
            "💰 Total cost: 0.000872\n"
          ]
        },
        {
          "name": "stderr",
          "output_type": "stream",
          "text": [
            "Evaluating: 100%|██████████| 12/12 [00:11<00:00,  1.06it/s]\n"
          ]
        },
        {
          "name": "stdout",
          "output_type": "stream",
          "text": [
            "Evaluation LLM model: gpt-4.1-nano\n",
            "Evaluation results: {'context_recall': 1.0000, 'faithfulness': 0.9333, 'answer_relevancy': 0.6237, 'context_entity_recall': 0.4583}\n",
            "Evaluation tokens: 35048\n",
            "Evaluation cost: 0.004515\n",
            "✅ Full result saved to: historical_docs_retriever_logs/naive_retriever_test_logs.json\n"
          ]
        },
        {
          "data": {
            "text/plain": [
              "{'name': 'naive_retriever_test',\n",
              " 'summary': {'total_runtime': 6.93,\n",
              "  'avg_latency': 2.31,\n",
              "  'total_tokens': 7810,\n",
              "  'total_queries': 3,\n",
              "  'total_cost': 0.000872,\n",
              "  'avg_tokens_per_query': 2603.33},\n",
              " 'latencies': [2.96, 2.03, 1.94],\n",
              " 'evaluation_result': {'context_recall': 1.0,\n",
              "  'faithfulness': 0.9333,\n",
              "  'answer_relevancy': 0.6237,\n",
              "  'context_entity_recall': 0.4583},\n",
              " 'evaluation_cost': {'eval_model': 'gpt-4.1-nano',\n",
              "  'eval_tokens': 35048,\n",
              "  'eval_cost': 0.004515},\n",
              " 'prompt_logs_path': 'historical_docs_retriever_logs/naive_retriever_test_logs.json'}"
            ]
          },
          "execution_count": 57,
          "metadata": {},
          "output_type": "execute_result"
        }
      ],
      "source": [
        "from ragas.testset import Testset\n",
        "\n",
        "subset = Testset(list(dataset)[:3])\n",
        "evaluate_retriever(\"naive_retriever_test\", naive_retrieval_chain, subset)\n"
      ]
    },
    {
      "cell_type": "code",
      "execution_count": 166,
      "metadata": {},
      "outputs": [],
      "source": [
        "# def run_all_retriever_evaluations(pipelines: dict, dataset):\n",
        "#     \"\"\"\n",
        "#     Runs evaluation across multiple retriever pipelines.\n",
        "\n",
        "#     Args:\n",
        "#         pipelines (dict): Dictionary where key is a pipeline name and value is the retriever chain.\n",
        "#         dataset: Ragas synthetic test set.\n",
        "\n",
        "#     Returns:\n",
        "#         dict: A dictionary of results per pipeline.\n",
        "#     \"\"\"\n",
        "#     results = {}\n",
        "#     for name, pipeline in pipelines.items():\n",
        "#         print(f\"\\n🚀 Starting evaluation for: {name}\")\n",
        "#         results[name] = evaluate_retriever(name, pipeline, dataset)\n",
        "#     return results\n"
      ]
    },
    {
      "cell_type": "code",
      "execution_count": null,
      "metadata": {},
      "outputs": [],
      "source": []
    },
    {
      "cell_type": "code",
      "execution_count": 58,
      "metadata": {},
      "outputs": [
        {
          "name": "stdout",
          "output_type": "stream",
          "text": [
            "📊 Running evaluation for: Naive\n",
            "Prompt 1 | James Blaine Walker was a public service official who served as the Secretary of the Public Service Commission for the 1st District of New York. He is also noted as the author of \"Fifty Years of Rapid Transit\" and other works. \n",
            "\n",
            "In relation to rapid wartime industrial mobilization, based on the provided context, his role appears to be primarily in a leadership or administrative capacity within the public service sector, overseeing or facilitating industrial efforts during wartime. However, the specific details of his direct involvement in wartime industrial mobilization are not explicitly mentioned in the provided documents.\n",
            "\n",
            "If you are seeking detailed information about his exact role in wartime mobilization efforts, I don't have enough information from the given context to provide a precise answer. |⏱️ 4.28s | Tokens 2729 | Cost 0.000135\n",
            "Prompt 2 | Mr. Hammel was the company's Chief Engineer and a member of the American Society of Civil Engineers. During World War I, he played a significant role in documenting and presenting the history of the construction and operation of the shell-loading plant and the town of Amatol, New Jersey. His account, known as the \"Amatol book,\" provides a detailed record of the rapid development and engineering achievements involved in transforming a wilderness into a major wartime industrial facility within a short period. His contributions helped to preserve the accomplishments of this large wartime undertaking. |⏱️ 1.64s | Tokens 2949 | Cost 0.000127\n",
            "Prompt 3 | Y. M. C. A. stands for the Young Men's Christian Association. It is an organization that provides various recreational, educational, and welfare services, including facilities like auditoriums, recreation halls, swimming pools, gymnasiums, bowling alleys, and lounge areas, as mentioned in the context. The Y. M. C. A. also played a role in community and patriotic activities, such as supporting labor celebrations and aiding in large projects like the construction of towns and plants during wartime. |⏱️ 2.40s | Tokens 2189 | Cost 0.000249\n",
            "Prompt 4 | The history indicates that American labor and their living conditions have evolved through a focus on providing attractive and comfortable housing, which improved workers' morale and productivity. Early construction and housing conditions were limited, resulting in high turnover, especially among female workers. As efforts were made to improve living standards—such as building organized dormitories, recreation, and entertainment facilities—employee morale increased. \n",
            "\n",
            "During major industrial and wartime efforts, like the construction of the Amatol plant during World War I, there was a significant emphasis on making work attractive to secure labor. Inducements and improved housing conditions were used to attract and retain workers, many of whom came from immigrant communities such as Irish and Polish populations. \n",
            "\n",
            "Moreover, the overall history shows that labor was not merely about employment but also about fostering a living environment conducive to stability and well-being, which in turn enhanced productivity and morale. After wartime operations ceased, many workers remained in the area, establishing families, suggesting a degree of community stability linked to improving living conditions. |⏱️ 3.17s | Tokens 2259 | Cost 0.000287\n",
            "Prompt 5 | Yes, when the US declared war on Germany in 1917, they had to ramp up the production of munitions and other war supplies. This was a significant effort that involved building new factories, transforming peacetime industries, and ensuring the supply of bomb shells, high explosives, and other ammunition needed for the war. It was a major challenge for the US to quickly increase manufacturing capacity to support the war effort. This increase in munitions production was also a big deal for Germany, as it meant Germany faced the challenge of countering the increased Allied supply and maintaining its own war efforts. |⏱️ 1.26s | Tokens 2776 | Cost 0.000314\n",
            "Prompt 6 | The community development and town planning of Amatol were closely related to its safety measures during construction, emphasizing speed, functionality, and worker welfare. The town was designed with careful consideration to create a well-organized, attractive, and stimulating environment for its residents, featuring residential housing, schools, churches, and recreational facilities such as a bowling alley, swimming pool, YMCA, and tennis courts. This comprehensive planning aimed to keep the population satisfied and support rapid industrial production.\n",
            "\n",
            "In terms of safety and efficient construction, extensive use of concrete and rapid development practices were employed. The construction was completed within a remarkably short timeframe—around nine months—using innovative urban planning principles and focusing on the speed and safety of construction. The land was mostly wooded and swampy, requiring significant clearing, which posed safety challenges that were addressed through quick, large-scale efforts and extensive planning.\n",
            "\n",
            "Furthermore, many of the buildings were designed to be temporary, reflecting safety considerations related to the urgency of the war effort and logistical constraints. This design choice facilitated swift construction and eventual dismantling after wartime needs diminished, which was a safety measure in itself—reducing long-term hazards and structural liabilities.\n",
            "\n",
            "Overall, the planning of Amatol was aimed at creating a safe, efficient, and attractive community that could rapidly support a large workforce during wartime, utilizing innovative construction techniques and comprehensive urban planning principles to ensure safety and functionality. |⏱️ 3.20s | Tokens 2524 | Cost 0.000335\n",
            "Prompt 7 | The wartime industrial production at Amatol was directly related to the United States' involvement in World War I. After the U.S. entered the war in 1917, there was a need to rapidly expand munitions supply. In response, the government purchased 6,000 acres of land in New Jersey in 1918 and built a large munitions plant called Amatol, which produced various types of munitions, including the explosive Amatol—an invented compound used to stretch TNT supplies.\n",
            "\n",
            "The construction of the plant and the accompanying town was a rapid and major urban planning effort, completed within nine months. The town was designed with modern amenities and infrastructure such as electric lights, sewage, water systems, schools, churches, entertainment facilities, and transportation links like the Amatol Railroad. Its purpose was to support a workforce estimated between 10,000 and 20,000 workers and their families, thereby supporting the war effort by ensuring a steady and efficient production of munitions.\n",
            "\n",
            "The town planning played a crucial role in the war effort by providing a well-organized, self-sufficient community capable of supporting rapid industrial production. The well-designed infrastructure ensured worker safety, efficient transportation, and motivation, which were vital for the swift manufacture of munitions necessary for the war effort. After the war ended in November 1918, the plant and town were quickly dismantled, but during its short period of operation, Amatol significantly contributed to the wartime industrial mobilization of the United States. |⏱️ 5.09s | Tokens 2766 | Cost 0.000369\n",
            "Prompt 8 | The coordination of labor and machinery was crucial for the efficient construction and operation of the shell loading plant during WW1. This was achieved through several key factors:\n",
            "\n",
            "1. **Organized Workforce of Experts**: The plant's organization included specialists with broad experience in large-scale shell loading and construction. They recruited professionals proven in similar high-risk work, ensuring skilled labor capable of handling hazardous tasks safely and efficiently.\n",
            "\n",
            "2. **Innovative Machinery and Methods**: The plant utilized advanced machinery, such as the belt conveyor system developed by the company's engineers, which allowed the continuous movement of shells through various production stages. This system maximized productivity, reduced physical exertion for workers, and minimized delays.\n",
            "\n",
            "3. **Specialized Machinery and Processes**: The introduction of machines like extruding machines for loading drop bombs and other automated production equipment facilitated rapid and economical production. These innovations allowed the plant to handle high output requirements swiftly.\n",
            "\n",
            "4. **Integration of Machinery and Labor into Continuous Processes**: The conveyor belt system and other mechanized processes enabled a seamless, continuous operation from receiving raw materials to final loading, reducing bottlenecks and optimizing labor and machinery interaction.\n",
            "\n",
            "5. **Rapid Construction and Scaling**: Despite wartime difficulties, the plant was constructed quickly, with engineers and construction workers working in unison to meet tight deadlines, facilitated by coordinated efforts between skilled labor and machinery.\n",
            "\n",
            "6. **Flexibility and Adaptation**: The layout's design allowed for quick adaptation, such as loading different shell types and bombs, demonstrating effective coordination between machinery capabilities and the workforce's ability to operate diverse equipment.\n",
            "\n",
            "In summary, the meticulous organization of skilled labor, innovative use of machinery, and an emphasis on continuous, automated processes enabled the shell loading plant to achieve rapid, safe, and economical production during WW1. |⏱️ 3.26s | Tokens 2785 | Cost 0.000386\n",
            "Prompt 9 | The relationship between New York City and the Amatol shell plant in New York is that the Atlantic Loading Company, which operated the Amatol shell loading plant, was formed in New York City. The company was responsible for building and operating the shell loading plant at Amatol, New Jersey, which was established during World War I to support wartime efforts. The plant was designed to load shells for the U.S. government, and its operations were closely associated with the company's headquarters in New York City. |⏱️ 1.88s | Tokens 2397 | Cost 0.000270\n",
            "Prompt 10 | The development and subsequent disappearance of the Amatol munitions factory in New Jersey reflected the United States' vigorous wartime efforts during World War I by exemplifying the rapid industrial mobilization and community planning necessary to support the war effort. In response to America's entry into the war in 1917, the U.S. government quickly purchased 6,000 acres of land to construct a large-scale munitions plant and a supporting town, known as Amatol. This rapid construction—completed in just nine months—demonstrated the urgency and scale of the wartime industrial response, with the facility capable of producing various types of munitions to meet the military demands.\n",
            "\n",
            "The factory's establishment created an \"army\" of workers and a well-planned community, including residential housing and amenities, to efficiently serve the needs of the workforce. The town was strategically located two miles from the plant to enhance safety. Its existence was a concrete example of the U.S. government’s mobilization effort, utilizing urban planning and industrial infrastructure to bolster war supplies.\n",
            "\n",
            "However, with the end of World War I on November 11, 1918, the Amatol plant was quickly shut down, and its buildings dismantled or fell into ruin. The rapid disassembly of the facility and the town's swift disappearance reflected the war's end and the reduced need for such extensive munitions production. Many of the laborers, mostly Irish and Polish from Philadelphia, stayed in the area, contributing to the local community, but the town of Amatol itself became a ghost town.\n",
            "\n",
            "The lasting impacts included a documented history of this brief but significant wartime effort, exemplified by the detailed records maintained by the company that built it. Locally, the remnants of Amatol served as a historical reminder of the community's role in national wartime efforts. Although the town itself is now largely deserted, recent efforts and historical documentation continue to preserve its story, and its site has transitioned through various uses, including the operation of the Atlantic City Speedway in the 1920s.\n",
            "\n",
            "In summary, Amatol’s rise and fall encapsulate the immense mobilization for wartime production in the U.S., the rapid development driven by urgent military needs, and the transient nature of wartime communities that vanish once their purpose is fulfilled. Its history remains a testament to the scale of American industrial efforts during World War I and has left a lasting imprint on local historical records and community memory. |⏱️ 8.27s | Tokens 2970 | Cost 0.000446\n",
            "Prompt 11 | The Pennsylvania Railroad facilitated the rapid construction and operation of the shell loading plant near Hammonton, New Jersey, primarily by providing essential transportation infrastructure. The plant was located adjacent to and north of the Pennsylvania and the Reading railroads, which offered ample transportation facilities for men and materials. This strategic location on important railroad lines allowed for efficient movement of supplies, equipment, and workforce, enabling the quick transformation of the site into a major wartime industry within a few months. The railroad's infrastructure was crucial in supporting the swift development of the plant, town, and production capabilities during 1918. |⏱️ 4.11s | Tokens 2817 | Cost 0.000317\n",
            "\n",
            "📊 Summary for Naive:\n",
            "🔢 Total tokens: 29161\n",
            "⏱️ Avg latency: 3.51s\n",
            "🔢 Avg tokens per query: 2651.00\n",
            "⏱️ Total duration: 38.57s\n",
            "💰 Total cost: 0.003235\n"
          ]
        },
        {
          "name": "stderr",
          "output_type": "stream",
          "text": [
            "Evaluating: 100%|██████████| 44/44 [00:35<00:00,  1.24it/s]\n"
          ]
        },
        {
          "name": "stdout",
          "output_type": "stream",
          "text": [
            "Evaluation LLM model: gpt-4.1-nano\n",
            "Evaluation results: {'context_recall': 0.9848, 'faithfulness': 0.9109, 'answer_relevancy': 0.8404, 'context_entity_recall': 0.3707}\n",
            "Evaluation tokens: 142369\n",
            "Evaluation cost: 0.019528\n",
            "✅ Full result saved to: historical_docs_retriever_logs/naive_logs.json\n"
          ]
        }
      ],
      "source": [
        "naive_evaluation = evaluate_retriever(\"Naive\", naive_retrieval_chain, dataset)"
      ]
    },
    {
      "cell_type": "code",
      "execution_count": 59,
      "metadata": {},
      "outputs": [
        {
          "name": "stdout",
          "output_type": "stream",
          "text": [
            "📊 Running evaluation for: BM25\n",
            "Prompt 1 | James Blaine Walker was the Secretary of the Public Service Commission for the 1st District of New York and an author known for works such as \"Fifty Years of Rapid Transit.\" Based on the provided context, there is no direct information linking him specifically to the role of rapid wartime industrial mobilization or detailing his contributions in that area. The excerpts focus more on industrial organization and the rapid construction of military-related facilities, such as shell loading plants and associated towns, rather than on Walker's personal involvement in mobilization efforts.\n",
            "\n",
            "Therefore, I do not have enough information to state what his role was in relation to rapid wartime industrial mobilization. |⏱️ 1.45s | Tokens 585 | Cost 0.000098\n",
            "Prompt 2 | Based on the provided context, there is no information about a person named Mr. Hammel or his role in wartime industrial development during World War I. Therefore, I do not know who Mr. Hammel was or what role he played in that context. |⏱️ 0.83s | Tokens 665 | Cost 0.000082\n",
            "Prompt 3 | Y. M. C. A. stands for the Young Men's Christian Association. It is an organization that provides community support, recreational facilities, and welfare services, often including activities like gyms, swimming pools, and recreation halls, as mentioned in the context. |⏱️ 1.00s | Tokens 575 | Cost 0.000073\n",
            "Prompt 4 | The history indicates that American laborers have a strong desire not just to survive but to live well. Their living conditions are closely linked to their enthusiasm for work; when workers are housed in attractive and comfortable buildings, their motivation and productivity are improved. Conversely, housing workmen in subpar conditions is seen as a fundamental error. Overall, the historical perspective emphasizes the importance of decent living conditions for laborers as a crucial factor in their well-being and the success of large-scale projects. |⏱️ 1.52s | Tokens 536 | Cost 0.000082\n",
            "Prompt 5 | Yes, when the United States declared war on Germany in April 1917, there was a significant effort to ramp up the production of munitions to support the war effort. This involved building new factories, including large-scale munitions plants like the one at Amatol, and establishing towns to house the workers. This rapid expansion of munitions manufacturing was indeed a big deal for Germany, as it helped the Allies strengthen their military capabilities and maintain an advantage in the war. |⏱️ 1.34s | Tokens 798 | Cost 0.000109\n",
            "Prompt 6 | The company town and community development of Amatol were closely related to its town planning and safety measures. The planners of Amatol aimed to create a well-designed, attractive community that was more than just a collection of buildings; they incorporated principles of town planning used by major architects to ensure the town was both functional and visually appealing. For example, they adopted a consistent and thoughtful layout, such as maintaining a rule of about twelve houses per net acre, which allowed for ample gardens, prevented crowding, and contributed to the overall aesthetic and livability of the town.\n",
            "\n",
            "In terms of safety and operational efficiency, the development involved careful selection of sites for barracks and other structures to accommodate workers during construction, indicating an organized approach to community management and safety. The town was planned not only to house its residents comfortably but also to support rapid industrial production while maintaining a high quality of living. Overall, Amatol’s development integrated town planning principles aimed at creating a functional, attractive, and safe environment conducive to both worker satisfaction and industrial efficiency during its construction period. |⏱️ 3.37s | Tokens 736 | Cost 0.000137\n",
            "Prompt 7 | The wartime industrial production at Amatol was strongly connected to the United States' involvement in World War I. The plant at Amatol exemplified the emerging discipline of industrial organization, focusing on \"perfect organization, methods and equipment\" to maximize record-breaking production of munitions, such as bombs and grenades. The development of various facilities like the 4.7-inch, 6-inch, 8-inch plants, as well as grenade and booster plants, highlights efforts to rapidly scale up the manufacturing of explosive devices, which was critical to supporting the war effort.\n",
            "\n",
            "Town planning played a significant supportive role in facilitating this massive industrial effort. To accommodate the workforce and ensure efficient operations, the government and industry constructed extensive housing, infrastructure, and amenities—such as sewerage, waterworks, roads, and entertainment facilities like picture shows. These developments aimed to create self-sufficient communities at each plant, ensuring workers could live comfortably and efficiently close to their workplaces. Even knowing that some of these towns would be abandoned after the war, the investment in infrastructure was justified by the urgent need for rapid industrial output, demonstrating a strategic approach to mobilize and sustain wartime production seamlessly.\n",
            "\n",
            "In summary, wartime industrial production at Amatol was directly linked to the US's mobilization efforts during WWI, emphasizing efficiency and organization, while town planning facilitated the rapid deployment, housing, and organization of the workforce essential for maximizing production and supporting the overall war effort. |⏱️ 3.88s | Tokens 999 | Cost 0.000188\n",
            "Prompt 8 | The coordination of labor and machinery was crucial in ensuring the efficient production and operation of the shell loading plant during WW1. By integrating advanced machinery, such as belt conveyors, the plant was able to create a continuous and streamlined process for loading shells, significantly reducing time and labor costs. This conveyor system allowed shells to move seamlessly through different stages of production, enabling large-scale and economical manufacturing—up to 16,000 shells per day in an eight-hour period.\n",
            "\n",
            "Furthermore, effective planning and organization facilitated the flexible layout of the plant, allowing it to adapt to government requirements, such as loading different types of shells (e.g., 75 mm shells and aerial bombs). The development and use of specialized machinery, like the extruding machine for loading drop bombs with Amatol, exemplified the innovative coordination between labor efforts and machinery to meet diverse production needs.\n",
            "\n",
            "Overall, the strategic synchronization of skilled labor with advanced machinery and thoughtful layout design maximized productivity, contributed to large-scale wartime ammunition supply, and supported the rapid construction and operation of the shell loading plant during WW1. |⏱️ 2.55s | Tokens 774 | Cost 0.000142\n",
            "Prompt 9 | The relationship between New York City and the Atlantic Shell Plant in New York appears to be indirect. The Atlantic Loading Company, which was formed in New York City, was contracted by the U.S. Government to build and operate the shell loading plant. Although the company originated in New York City, the actual shell loading plant was constructed in southern New Jersey, not within New York City itself. The plant was established to support wartime efforts by manufacturing shells and grenades, and while the company's origins are tied to New York City, the plant's physical location was in New Jersey. |⏱️ 2.37s | Tokens 689 | Cost 0.000103\n",
            "Prompt 10 | The development of the Amatol munitions factory in New Jersey reflected the United States' urgent wartime efforts during World War I by showcasing rapid industrial mobilization to produce essential explosives, specifically Amatol, which was invented to conserve TNT supplies. The government quickly established a large-scale plant and an associated community on 6,000 acres of land in the Pine Barrens shortly after the U.S. entered the war in 1918. This project demonstrated the nation's commitment to ramping up wartime production through innovative construction techniques, such as extensive use of concrete, and swift urban planning to support a sizable workforce and their families.\n",
            "\n",
            "However, with the war ending in the same year the factory was operational, the Amatol plant and the accompanying town faced immediate disuse. The town was deserted and the factory was dismantled because the urgent need for such munitions diminished. As most buildings were designed to be temporary, little remained of the original structures, and they were eventually demolished.\n",
            "\n",
            "The effects on the local community included the creation of a short-lived, transient town that was quickly abandoned, making it a ghost town today. This history reflects the broader pattern of wartime industrial efforts that spike during a conflict and disappear afterwards, leaving behind only ruins and historical records.\n",
            "\n",
            "In terms of lasting impact and historical documentation, the site of Amatol is now a point of historical interest, with ruins and remnants that serve as a reminder of the wartime effort and rapid industrial mobilization. Its brief existence and subsequent disappearance highlight the magnitude and fleeting nature of wartime infrastructure projects, contributing to local historical narratives and serving as a physical testament to America’s wartime response during World War I. |⏱️ 4.40s | Tokens 887 | Cost 0.000190\n",
            "Prompt 11 | The Pennsylvania Railroad facilitated the rapid construction and operation of the shell loading plant near Hammonton, New Jersey, primarily by providing transportation advantages that supported the logistics and movement of materials and personnel. The plant was located adjacent to and north of the Pennsylvania and Reading railroads, which likely allowed for efficient transportation of raw materials to the plant and finished shells to various destinations. Additionally, the company’s engineers implemented innovative continuous processing systems, such as belt conveyors, to ensure efficient, large-scale production. The proximity to major railroads was a crucial factor in enabling the plant to operate swiftly and effectively during 1918. |⏱️ 1.25s | Tokens 800 | Cost 0.000116\n",
            "\n",
            "📊 Summary for BM25:\n",
            "🔢 Total tokens: 8044\n",
            "⏱️ Avg latency: 2.18s\n",
            "🔢 Avg tokens per query: 731.27\n",
            "⏱️ Total duration: 23.96s\n",
            "💰 Total cost: 0.001321\n"
          ]
        },
        {
          "name": "stderr",
          "output_type": "stream",
          "text": [
            "Evaluating: 100%|██████████| 44/44 [00:28<00:00,  1.52it/s]\n"
          ]
        },
        {
          "name": "stdout",
          "output_type": "stream",
          "text": [
            "Evaluation LLM model: gpt-4.1-nano\n",
            "Evaluation results: {'context_recall': 0.9394, 'faithfulness': 0.9318, 'answer_relevancy': 0.7560, 'context_entity_recall': 0.2320}\n",
            "Evaluation tokens: 99736\n",
            "Evaluation cost: 0.014843\n",
            "✅ Full result saved to: historical_docs_retriever_logs/bm25_logs.json\n"
          ]
        }
      ],
      "source": [
        "bm25_evaluation = evaluate_retriever(\"BM25\", bm25_retrieval_chain, dataset)"
      ]
    },
    {
      "cell_type": "code",
      "execution_count": 60,
      "metadata": {},
      "outputs": [
        {
          "name": "stdout",
          "output_type": "stream",
          "text": [
            "📊 Running evaluation for: Multi-Query\n",
            "Prompt 1 | James Blaine Walker was the Secretary of the Public Service Commission for the 1st District of New York. He is also noted as the author of \"Fifty Years of Rapid Transit.\" However, based on the context provided, there is no specific information indicating his direct role in relation to rapid wartime industrial mobilization. |⏱️ 3.83s | Tokens 3815 | Cost 0.000427\n",
            "Prompt 2 | Mr. Hammel was the Company's Chief Engineer and a member of the American Society of Civil Engineers. During World War I, he played a significant role in presenting a history of a major wartime industrial undertaking, specifically the construction and operation of an all-encompassing munitions plant near Hammonton, New Jersey, known as Amatol. His contributions included providing a creditable overview of the plant, the town, their rapid construction, capacity, and the organization that made the project possible. His leadership and engineering expertise were instrumental in accomplishing this enormous wartime industrial effort, which was a remarkable achievement in American engineering and industrial development during the war. |⏱️ 3.31s | Tokens 3910 | Cost 0.000456\n",
            "Prompt 3 | A Y.M.C.A. (Young Men's Christian Association) is an organization that provides community, recreational, educational, and welfare services. In the context of the Amatol community during World War I, the Y.M.C.A. built facilities such as buildings, swimming pools, gymnasiums, billiard rooms, and lounges to serve the workers and residents, offering recreation and support for their well-being. |⏱️ 3.92s | Tokens 3621 | Cost 0.000401\n",
            "Prompt 4 | The history indicates that American labor historically desired more than mere existence; they sought good living conditions and attractive, comfortable housing. Providing such housing and welfare facilities improved morale, reduced turnover, and increased productivity among workers. Efforts to make work attractive and to improve living standards, including building suitable residential accommodations, were considered fundamental to successful industrial and wartime efforts. Overall, improved living conditions are shown to have positively impacted workers' morale and the efficiency of labor in American history. |⏱️ 2.98s | Tokens 2800 | Cost 0.000328\n",
            "Prompt 5 | Yes, when the United States declared war on Germany in 1917, there was a significant effort to produce munitions and other war supplies. The U.S. needed to build new factories and transform existing ones to produce large quantities of shells, bombs, and explosives, which was a major part of their wartime support. This also had a big impact on Germany, as the increased American production of munitions meant greater pressure on German forces and war resources. The rapid expansion of munitions manufacturing in the U.S. was indeed a big deal during that period and was crucial to supporting the Allied war effort. |⏱️ 4.12s | Tokens 5087 | Cost 0.000574\n",
            "Prompt 6 | The company town and community development of Amatol were closely integrated with its town planning and safety measures during its construction. The planning process was characterized by a focus on speed, simplicity, and results, emphasizing rapid construction of a well-organized community designed to accommodate a large workforce. The town was laid out in a grid pattern with residential streets and worker housing, constructed with materials and designs aimed at resistance to weather and swift assembly, often utilizing temporary structures that could be dismantled if necessary.\n",
            "\n",
            "Safety was a paramount consideration in the town's development. The town was situated approximately two miles from the munitions plant to ensure residents' safety from potential accidents, such as explosions. The layout of the plant and town was designed for safety and redundancy, with the plant itself planned to minimize risk through its configuration. The entire project, including both the town and plant, was completed within nine months, reflecting a focus on rapid deployment while maintaining safety protocols.\n",
            "\n",
            "Additionally, the town’s infrastructure—including water, sewage, electric systems, and amenities—was modern and designed to provide a comfortable living environment, which helped in keeping the population satisfied and productive. Many buildings in Amatol were designed with temporary construction in mind due to the urgent wartime needs, and only a few structures remain today. Overall, the development of Amatol exemplifies a community planned with an emphasis on efficiency, safety, and suitable living conditions for its rapid creation during a critical wartime period. |⏱️ 4.54s | Tokens 3972 | Cost 0.000510\n",
            "Prompt 7 | The wartime industrial production at Amatol was directly related to the United States' involvement in World War I. After the US entered the war in April 1917, there was an urgent need to expand munitions manufacturing to support the war effort. Consequently, the government purchased 6,000 acres of land in New Jersey to quickly construct a large munitions plant called Amatol, along with a nearby town to house the thousands of workers needed. \n",
            "\n",
            "The construction of Amatol was a remarkable feat of urban planning, completed in just nine months, and included residential housing, schools, and various facilities to support a large workforce. The town was carefully designed with modern amenities such as electric lighting, sewage systems, water plants, entertainment facilities, and transportation infrastructure like the Amatol Railroad. Its spatial separation from the plant—about two miles—was a safety measure to protect residents from potential accidents at the munitions factory.\n",
            "\n",
            "The industrial output at Amatol was vital for supplying munitions, including shells and other explosive materials, which were crucial for the war effort. The rapid development and efficient organization of the plant demonstrated the strategic mobilization of resources and industrial capacity in support of the US military during WWI. \n",
            "\n",
            "In summary, Amatol’s industrial production was a pivotal element of America’s wartime efforts, with town planning supporting the war effort by enabling the swift and efficient assembly of a large workforce housed in a well-planned community that facilitated rapid industrial output and logistical support for WWI. |⏱️ 6.29s | Tokens 5198 | Cost 0.000646\n",
            "Prompt 8 | The coordination of labor and machinery was crucial for the efficient construction and operation of the shell loading plant during WW1. The plant was designed to maximize rapid and economical production of ammunition, which required careful organization of both human resources and mechanical systems. \n",
            "\n",
            "Key contributions included:\n",
            "- The use of advanced engineering methods developed by the company's engineers, such as a power belt conveyor system, which enabled continuous movement of shells through various production stages. This system minimized time and labor costs, allowing for large-scale, rapid processing.\n",
            "- The organization of a highly skilled team of experts, including specialists recruited quickly to ensure safety and efficiency in handling high explosives and loading operations.\n",
            "- Rapid construction efforts, despite the challenges posed by wartime demand and material shortages, resulted in the plant reaching operational status within a few months of site selection and construction start.\n",
            "- Effective transportation logistics, facilitated by the plant’s proximity to important railroad lines, enabled timely delivery of materials and movement of finished shells.\n",
            "- The integration of machinery and labor created a synchronized process where shells moved seamlessly from receiving, cleaning, assembly, to final loading, greatly enhancing productivity.\n",
            "\n",
            "This coordinated effort between mechanization and skilled labor enabled the plant to load over 9 million rounds of ammunition and greatly contribute to the wartime logistical needs. |⏱️ 3.59s | Tokens 3715 | Cost 0.000470\n",
            "Prompt 9 | The relationship between New York City and the ammonal shell plant in New York is that the shell loading plant was associated with a larger industrial operation managed by a company based in New York City, specifically the Atlantic Loading Company. The plant itself was located in Amatol, New Jersey, but the company that built and operated the shell loading plant was a New York City-based corporation. The plant was part of a wartime effort during World War I to produce munitions, and its construction and operation were directly linked to the city's industrial activities and corporate presence. |⏱️ 4.61s | Tokens 3901 | Cost 0.000447\n",
            "Prompt 10 | The development of the Amatol munitions factory in New Jersey was a significant reflection of the United States' wartime efforts during World War I. Built rapidly in 1918, just a year after the U.S. entered the war, the facility exemplified the nation's urgent need to boost its military manufacturing capabilities. The government contracted the Atlantic Loading Company to construct and operate a large munition plant that could produce large quantities of shells and grenades to support the war effort. The plant and the associated town, built in record time—within nine months—highlighted the intensive mobilization of industrial resources and labor, with the town housing between 10,000 and 20,000 workers and their families, and embodying a significant urban planning achievement of the period.\n",
            "\n",
            "The plant's existence was closely tied to the wartime imperative to quickly produce armaments; it loaded over 9 million rounds and various munitions in its operational period. However, once World War I ended in November 1918, the need for such massive wartime production diminished abruptly. The Amatol plant was shut down shortly after the war, with the government auctioning off equipment and dismantling the infrastructure by 1919-1924. The town itself rapidly disappeared, with only remnants like a former police barracks and one house remaining today, and the site largely returning to forest.\n",
            "\n",
            "This rapid development and subsequent abandonment had lasting impacts on the local community and historical documentation. Many of the laborers, who were mostly Irish and Polish from nearby Philadelphia, remained in the area and started families, contributing to the local demographic fabric. The story of Amatol has become a part of local history, showcasing the intense but transient nature of wartime industrial communities. Its rapid rise and fall have been thoroughly documented in photographs, books, and reports, preserving the memory of this brief but significant chapter in American wartime industrial efforts.\n",
            "\n",
            "In summary, the Amatol factory's development reflected the U.S. mobilization and industrial acceleration during WWI, and its quick disappearance underscored the war’s sudden end and the shifting economic landscape. The site’s history continues to influence local historical narratives and environmental considerations, serving as a reminder of wartime exigencies and their lasting footprint on communities and historical record-keeping. |⏱️ 7.72s | Tokens 4899 | Cost 0.000672\n",
            "Prompt 11 | The Pennsylvania Railroad facilitated the rapid construction and operation of the shell loading plant near Hammonton, New Jersey, by providing essential transportation infrastructure. The plant was situated adjacent to and north of the Pennsylvania and the Reading railroads, which offered ample transportation facilities for men and materials. The existence of thirty-five miles of railroad trackage connected with the Pennsylvania Railroad main line between Camden and Atlantic City, enabling efficient movement of workers, equipment, and raw materials. This strategic location and transportation support allowed the Atlantic Loading Company to quickly clear the land, build a new town, and set up the enormous plant within a few months, transforming the wilderness into an industrial hub in a remarkably short period. |⏱️ 4.23s | Tokens 3687 | Cost 0.000447\n",
            "\n",
            "📊 Summary for Multi-Query:\n",
            "🔢 Total tokens: 44605\n",
            "⏱️ Avg latency: 4.47s\n",
            "🔢 Avg tokens per query: 4055.00\n",
            "⏱️ Total duration: 49.15s\n",
            "💰 Total cost: 0.005378\n"
          ]
        },
        {
          "name": "stderr",
          "output_type": "stream",
          "text": [
            "Evaluating:  98%|█████████▊| 43/44 [00:23<00:01,  1.99s/it]Exception raised in Job[39]: TimeoutError()\n",
            "Evaluating: 100%|██████████| 44/44 [05:07<00:00,  6.99s/it]\n"
          ]
        },
        {
          "name": "stdout",
          "output_type": "stream",
          "text": [
            "Evaluation LLM model: gpt-4.1-nano\n",
            "Evaluation results: {'context_recall': 1.0000, 'faithfulness': 0.9343, 'answer_relevancy': 0.8293, 'context_entity_recall': 0.3242}\n",
            "Evaluation tokens: 160050\n",
            "Evaluation cost: 0.021490\n",
            "✅ Full result saved to: historical_docs_retriever_logs/multi-query_logs.json\n"
          ]
        }
      ],
      "source": [
        "multi_query_evaluation = evaluate_retriever(\"Multi-Query\", multi_query_retrieval_chain, dataset)"
      ]
    },
    {
      "cell_type": "code",
      "execution_count": 61,
      "metadata": {},
      "outputs": [
        {
          "name": "stdout",
          "output_type": "stream",
          "text": [
            "📊 Running evaluation for: Contextual Compression\n",
            "Prompt 1 | James Blaine Walker was the Secretary of the Public Service Commission for the 1st District of New York. He was also the author of \"Fifty Years of Rapid Transit\" and played a role related to public service and transportation. \n",
            "\n",
            "Based on the provided context, there is no direct information indicating that he was involved specifically in the rapid wartime industrial mobilization effort during World War I. The context discusses the general needs of mobilization, such as building factories and stimulating production, but does not explicitly connect James Blaine Walker to these activities.\n",
            "\n",
            "Therefore, I do not know his specific role in relation to rapid wartime industrial mobilization. |⏱️ 3.37s | Tokens 632 | Cost 0.000102\n",
            "Prompt 2 | Mr. Victor F. Hammel was the Chief Engineer of the company involved in the construction and operation of the shell-loading plant and the town of Amatol, New Jersey, during World War I. His role included providing a detailed account of the entire construction process, including the development of the manufacturing plant and the town, their capacity, and the organization that made the project successful.\n",
            "\n",
            "In the broader context of wartime industrial development, Mr. Hammel's contributions highlight the rapid and efficient industrial mobilization undertaken during the war. His recorded work describes how a previously wooded and swampy area was transformed into a large-scale industrial site and town in a remarkably short period—starting construction on March 4, 1918, and quickly establishing a significant shell-loading facility. This exemplifies the aggressive wartime effort to expand industrial capacity and develop essential military supplies, showcasing American engineering achievement during this period. |⏱️ 2.81s | Tokens 797 | Cost 0.000134\n",
            "Prompt 3 | The Y. M. C. A. stands for the Young Men's Christian Association. It is an organization that provides various facilities and services such as sports, recreation, and community support. In the context provided, it is associated with buildings that include a swimming pool, gymnasium, billiard rooms, and other amenities, indicating it also serves as a recreational and community center. |⏱️ 1.56s | Tokens 578 | Cost 0.000080\n",
            "Prompt 4 | The history indicates that American labor has historically prioritized not just survival but a decent quality of life. Good living conditions, including attractive and comfortable housing, are seen as essential for maintaining enthusiasm for work and boosting morale. Improvements in living and housing conditions have been associated with increased productivity and job satisfaction, highlighting their fundamental importance in the well-being and effectiveness of workers. |⏱️ 1.92s | Tokens 454 | Cost 0.000067\n",
            "Prompt 5 | Yes, that's correct. When the US declared war on Germany in 1917, there was a significant effort to increase the production of munitions, including building new factories and transforming existing works to produce shells, explosives, and other war supplies. This was a major undertaking to supply the military forces. Germany, meanwhile, would have been affected by this increased demand for munitions and the associated industrial efforts, as it impacted global supply chains and the overall intensity of the war. |⏱️ 1.12s | Tokens 743 | Cost 0.000103\n",
            "Prompt 6 | The company town and community development of Amatol were closely related to its town planning and safety measures during construction. The development aimed to create an attractive and functional environment for workers, reflecting principles of good town planning that emphasized both practicality and appeal. Designers of Amatol drew upon established town planning concepts, seeking to incorporate the best features of town and country to make the community stimulating for residents.\n",
            "\n",
            "In terms of safety, the rapid construction process involved extensive use of concrete and was a significant urban planning achievement, aimed at ensuring a secure and durable environment for the large workforce and their families. The quick building of housing, dormitories, and other facilities within nine months indicates that safety and efficiency were priorities during construction, likely informed by the need to protect workers in a highly secure industrial setting related to munitions manufacturing for the war effort.\n",
            "\n",
            "Overall, Amatol’s town planning focused on creating a well-designed, attractive community that balanced safety, functionality, and worker welfare during its rapid development in wartime. |⏱️ 2.82s | Tokens 786 | Cost 0.000139\n",
            "Prompt 7 | The wartime industrial production at Amatol was directly linked to the United States' involvement in World War I. After the US entered the war in 1917, the government responded by rapidly establishing a major munitions facility, the Amatol plant, to supply artillery shells and other munitions for the war effort. The plant was constructed on a 6,000-acre site purchased specifically for this purpose, highlighting its strategic importance. The development was remarkably swift; within just nine months, the construction of the plant and a supporting town for workers and their families was completed, with the town housing between 10,000 and 20,000 residents.\n",
            "\n",
            "Town planning at Amatol was a significant achievement, reflecting careful planning to support wartime needs and safety. The town was built approximately two miles away from the plant to protect residents in case of accidents, demonstrating foresight in urban planning for safety considerations. The infrastructure included houses, dormitories, bunk houses, schools, and other facilities to efficiently accommodate and support a large workforce and their families during the war, thereby underpinning the overall war effort by ensuring a stable and well-supported industrial workforce. |⏱️ 3.46s | Tokens 894 | Cost 0.000159\n",
            "Prompt 8 | The coordination of labor and machinery was essential for the efficient construction and operation of the shell loading plant during WW1. According to the provided context, once the machinery such as lathes and forges was operational, it became necessary to supply high explosives and to have extensive machinery for charging the shells. Contracts were made for the large-scale production of explosives like trinitrotoluol (TNT) and for constructing plants capable of loading shells as fast as the mills produced them. This indicates that careful planning and synchronization of labor efforts with advanced machinery allowed for rapid and efficient production processes, enabling the plant to meet wartime demands effectively. |⏱️ 1.51s | Tokens 711 | Cost 0.000109\n",
            "Prompt 9 | The relationship between New York City and the ammonal shell plant in New York is that the plant was powered by a shell loading operation, and the Atlantic Loading Company, a corporation formed in New York City, was involved in constructing and operating the shell loading plant for the government. This suggests that New York City played a role through the company that managed or facilitated the plant's operations, highlighting a connection between the city and the war production activities at the plant. |⏱️ 1.45s | Tokens 634 | Cost 0.000091\n",
            "Prompt 10 | The development of the Amatol munitions factory in New Jersey during World War I was a significant reflection of the United States' wartime efforts. The factory was constructed rapidly by the Atlantic Shell Loading Company to meet the urgent demand for munitions, specifically shells loaded with Amatol, an explosive mixture. This effort demonstrated the nation's swift industrial mobilization and commitment to supporting the war through domestic manufacturing capabilities. The factory also led to the creation of an extensive company town that supported the workforce, embodying the wartime drive to produce vital war materials efficiently.\n",
            "\n",
            "However, the factory's subsequent disappearance was equally rapid; after the end of World War I on November 11, 1918, the facility was dismantled swiftly, with buildings dismantled or falling into ruin. Many of the workers, mostly Irish and Polish laborers from Philadelphia, remained in the area and started families, contributing to the local community's post-war demographic continuity.\n",
            "\n",
            "The lasting impacts on the local community included the transformation of the immediate area from a bustling wartime industrial site to a quiet landscape, with remnants of the factory eventually falling to ruin or being scrapped. The community’s history is well-documented due to the detailed records kept by the company during the factory’s brief existence. This documentation provides valuable insights into wartime industrial efforts, the town’s rapid development and decline, and the social history of the laborers involved.\n",
            "\n",
            "In summary, the Amatol factory exemplified the United States' wartime industrial mobilization, and its quick dismantling after the war highlights the transient nature of many wartime facilities. Its legacy persists in the local history, community stories, and the detailed documentation that offers a lasting record of this significant, yet temporary, chapter in American wartime efforts. |⏱️ 5.11s | Tokens 984 | Cost 0.000205\n",
            "Prompt 11 | The Pennsylvania Railroad facilitated the rapid construction and operation of the shell loading plant near Hammonton, New Jersey, by providing essential transportation and logistical support that enabled quick development of the facility. As described in the context, the Atlantic Loading Company acquired a large tract of land in early 1918 and swiftly undertook land clearing, town planning, and plant construction. While the specific role of the Pennsylvania Railroad is not explicitly detailed in the provided texts, it is known that railroads like the Pennsylvania Railroad played a crucial role during wartime by transporting materials, equipment, and workers efficiently, thereby enabling rapid industrialization and operational readiness. Their involvement would have helped the company to quickly mobilize resources, deliver machinery, and ensure the smooth operation of the plant, transforming the wilderness into a productive wartime facility within a few months. |⏱️ 1.89s | Tokens 833 | Cost 0.000132\n",
            "\n",
            "📊 Summary for Contextual Compression:\n",
            "🔢 Total tokens: 8046\n",
            "⏱️ Avg latency: 2.45s\n",
            "🔢 Avg tokens per query: 731.45\n",
            "⏱️ Total duration: 27.01s\n",
            "💰 Total cost: 0.001321\n"
          ]
        },
        {
          "name": "stderr",
          "output_type": "stream",
          "text": [
            "Evaluating: 100%|██████████| 44/44 [00:37<00:00,  1.17it/s]\n"
          ]
        },
        {
          "name": "stdout",
          "output_type": "stream",
          "text": [
            "Evaluation LLM model: gpt-4.1-nano\n",
            "Evaluation results: {'context_recall': 0.9697, 'faithfulness': 0.8788, 'answer_relevancy': 0.7561, 'context_entity_recall': 0.3677}\n",
            "Evaluation tokens: 95553\n",
            "Evaluation cost: 0.014207\n",
            "✅ Full result saved to: historical_docs_retriever_logs/contextual_compression_logs.json\n"
          ]
        }
      ],
      "source": [
        "contextual_compression_evaluation = evaluate_retriever(\"Contextual Compression\", contextual_compression_retrieval_chain, dataset)"
      ]
    },
    {
      "cell_type": "code",
      "execution_count": 62,
      "metadata": {},
      "outputs": [
        {
          "name": "stdout",
          "output_type": "stream",
          "text": [
            "📊 Running evaluation for: Semantic\n",
            "Prompt 1 | JAMES BLAINE WALKER was not mentioned in the provided context, and there is no information indicating his identity or specific role related to rapid wartime industrial mobilization. Therefore, I do not know who he was or what his role might have been in that context. |⏱️ 1.35s | Tokens 4021 | Cost 0.000419\n",
            "Prompt 2 | Mr. Hammel was the Chief Engineer of the Atlantic Loading Company during World War I. In the context of wartime industrial development, he played a significant role in the construction and organization of one of the largest shell-loading munitions plants in the United States, located at Amatol, New Jersey. He is credited with providing a detailed history of this major industrial undertaking, which included describing the plant, the town, and the efficient organization that made rapid and successful production possible during the war effort. His contributions exemplify the critical role of engineering leadership in rapidly developing large-scale military industrial facilities to support the war effort. |⏱️ 1.94s | Tokens 4934 | Cost 0.000531\n",
            "Prompt 3 | Y. M. C. A. stands for the Young Men's Christian Association. |⏱️ 0.56s | Tokens 2244 | Cost 0.000229\n",
            "Prompt 4 | The history indicates that American labor historically sought not just to work but to live in conditions that were attractive and comfortable. During wartime efforts at facilities like Amatol and other munition plants, significant efforts were made to improve living conditions, including building adequate housing, providing recreation facilities, and ensuring staff morale through welfare and entertainment programs. \n",
            "\n",
            "For example, at the Amatol community, the construction of housing quarters and recreational facilities such as swimming pools, gymnasiums, theatres, and lounges was aimed at meeting these standards. The records show that when housing conditions were limited initially, employee turnover among women was higher, but it improved markedly once proper dormitories and welfare services were established, leading to higher morale and increased productivity.\n",
            "\n",
            "Moreover, workers required high wages and attractive accommodations to be incentivized to work in these wartime industries, especially given the dangers involved. Workers, including soldiers and civilians, were paid well and provided with attractive working and living environments to maintain efficiency and enthusiasm.\n",
            "\n",
            "Overall, the historical narrative demonstrates that improving living and working conditions was viewed as essential to maintaining labor productivity, morale, and enthusiasm, reinforcing the idea that American laborers valued not just employment but a quality of life that supported their well-being. |⏱️ 3.74s | Tokens 4636 | Cost 0.000537\n",
            "Prompt 5 | Yes, when the United States declared war on Germany in 1917, there was a significant effort to produce munitions and other war materials quickly and in large quantities. This was a major industrial undertaking that involved transforming existing factories and building new ones, such as the large shell loading plants in Amatol, New Jersey. These factories supplied the necessary ammunition for the war effort, and their establishment was considered a remarkable achievement in American engineering and industrial organization.\n",
            "\n",
            "For Germany, the escalation of American munitions production during this period was indeed a concern, as it meant increased supply and resources for the Allies, which could impact the overall war effort. So, the surge in manufacturing by the US was a big deal for Germany and the Central Powers because it contributed to the Allied advantage in equipped forces and supplies. |⏱️ 1.98s | Tokens 4387 | Cost 0.000487\n",
            "Prompt 6 | The company town and community development of Amatol were closely related to its town planning and safety measures during construction, emphasizing both efficiency and protection. The planning was meticulous, aiming for a well-structured and attractive environment that balanced quick construction with safety and comfort. For example, the town was designed on the basis of a possible population of 25,000, with houses built for rapid assembly yet resistant to weather, and the industrial and residential sections were strategically organized.\n",
            "\n",
            "Safety was a primary concern in the town’s planning. The town was located about two miles from the munitions plant to serve as a significant safety zone in case of accidents at the explosive manufacturing facility. The layout of the plant itself was designed to minimize risks, with buildings arranged so that explosions would move upward rather than outward, and some operations were duplicated in separate buildings to ensure continuity if a part of the plant was damaged. Additionally, construction materials and methods focused on safety, with steel-frame buildings and special barricades to protect against potential blasts.\n",
            "\n",
            "Overall, the development of Amatol reflected a comprehensive approach where town planning integrated safety measures to protect residents from the hazards of the munitions factory, while the community layout was designed for efficiency, attractiveness, and rapid housing of workers, all underpinning the wartime urgency and safety considerations. |⏱️ 4.18s | Tokens 5669 | Cost 0.000646\n",
            "Prompt 7 | The wartime industrial production at Amatol was closely related to the United States' involvement in World War I. When the US entered the war in 1917, there was a critical need to ramp up munitions production to support military efforts. In response, a large munitions plant was constructed in 1918 on a 6,000-acre site near Hammonton, NJ, dedicated to loading shells and producing various ammunition types. Amatol, a mixture of ammonium nitrate and T.N.T., served as the main explosive charge in shells, supplementing the shortage of T.N.T. and enabling increased munitions output, with the plant capable of loading over 9 million rounds of ammunition during its operational period.\n",
            "\n",
            "The rapid industrial development was a significant contribution to the war effort, providing essential munitions for Allied forces. The plant’s construction was swift, completing in just nine months, and employed thousands of workers, including a peak workforce of over 5,000 construction workers, and hosted a town designed to accommodate up to 25,000 residents with extensive amenities to support the workforce.\n",
            "\n",
            "Town planning played a vital role in supporting the war effort by ensuring safety, efficiency, and worker welfare. The town of Amatol was deliberately built two miles away from the plant to protect residents from potential explosions—a crucial safety measure given the hazardous nature of explosive manufacturing. It was well-planned with residential areas, schools, churches, entertainment facilities (such as a theater, swimming pools, YMCA), and infrastructure like water, electric, and sewage systems, creating a comfortable living environment for workers and their families. The town's design emphasized speed of construction and safety, with buildings constructed swiftly yet to withstand weather and, where necessary, featuring protective soil barricades.\n",
            "\n",
            "In summary, the wartime industrial production at Amatol was a direct response to US involvement in WWI, significantly boosting munitions output, while the town’s meticulous planning supported this effort by providing a safe, efficient, and worker-friendly environment that helped sustain the war-driven industrial demand. |⏱️ 5.33s | Tokens 5790 | Cost 0.000704\n",
            "Prompt 8 | The coordination of labor and machinery was crucial for ensuring the efficient construction and operation of the shell loading plant during WW1. This was achieved through meticulous organization, standardization, and the use of innovative methods and equipment. For example, the plant utilized assembly-line principles, with conveyor systems carrying shells through various stages of processing in a continuous and streamlined manner. The layout of the plant included separate buildings for different operations, such as shell reception, loading, and packing, connected by conveyor lines and rail transport, which minimized handling time and enhanced safety.\n",
            "\n",
            "Furthermore, the plant employed prefabricated steel structures and modular units, allowing rapid erection and flexibility for future modifications or conversions. The use of standardized components, like bolted steel units, sped up construction, while redundant and duplicate buildings for hazardous operations increased safety and ensured uninterrupted production even if one building was compromised. The integration of machinery—such as belt conveyors, melting kettles with safety features, and continuous processing lines—optimized production flow, significantly reducing time and labor costs.\n",
            "\n",
            "This tight coordination of skilled labor, advanced machinery, and organized layout enabled the plant to rapidly transform a difficult site into a high-capacity ammunition factory and town in record time. It exemplifies how strategic planning in labor and machinery, emphasizing speed, safety, and standardization, contributed directly to the plant's successful and efficient operation during wartime. |⏱️ 2.86s | Tokens 5724 | Cost 0.000654\n",
            "Prompt 9 | The relationship between New York City and the Amatoal shell plant in New York is that the Atlantic Loading Company, which was formed in New York City, was contracted to build and operate a shell loading plant in New Jersey during World War I. While the plant itself was located in New Jersey (near Hammonton and Amatol), the company’s origins trace back to New York City, and the plant served the U.S. war effort by producing shells and ammunition. The company’s operations were closely linked to New York through its corporate foundation and management, and its activities contributed to wartime industrial efforts in the region. |⏱️ 1.90s | Tokens 5023 | Cost 0.000540\n",
            "Prompt 10 | The development and subsequent disappearance of the Amatol munitions factory in New Jersey vividly reflect the United States' wartime efforts during World War I. During the war, there was an urgent need to produce vast quantities of munitions to support Allied forces. Amatol was constructed rapidly—within nine months—to meet this demand, serving as a major shell-loading plant capable of producing millions of rounds. The factory town built to support this effort was an exemplary planned community, equipped with modern amenities, housing over 10,000 workers and their families, and functioning as a vital logistical hub. Its construction represented the mobilization of American industrial capacity, technological innovation, and organization to support the war effort.\n",
            "\n",
            "However, with the end of World War I and the signing of the armistice in November 1918, the urgency for such massive munitions production evaporated. Consequently, the Amatol plant was swiftly closed by 1919, and the town was abandoned just as quickly as it was built. This rapid deconstruction underscores how the community was essentially a wartime construct, designed solely for the duration of the conflict.\n",
            "\n",
            "The lasting impacts on the local community included the departure of many of its laborers, who mostly stayed in the region and started families, contributing to local population and economic stabilization in some cases. Yet, physically, little remains of Amatol today—only a few remnants like the abandoned State Police barracks and a relocated house—highlighting how ephemeral wartime-driven communities can be.\n",
            "\n",
            "In terms of historical documentation, Amatol's story has been well-preserved through photographs, detailed books, and postcards. These records provide a rare and comprehensive glimpse into the scale of wartime industrial mobilization and urban planning. They serve as enduring testaments to America's capacity for rapid industrial development during wartime, even if the communities themselves were transient and largely erased by time and nature. \n",
            "\n",
            "Overall, Amatol exemplifies how wartime efforts can catalyze rapid urbanization and industrial growth, leaving a legacy of technological achievement and community planning, which is often short-lived but historically significant. |⏱️ 4.56s | Tokens 5948 | Cost 0.000723\n",
            "Prompt 11 | The Pennsylvania Railroad facilitated the rapid construction and operation of the shell loading plant near Hammonton, New Jersey, primarily by providing important transportation facilities that allowed easy access to the site for men and materials. The plant was situated along the main line of the Pennsylvania Railroad, which offered a railroad frontage of more than five miles. This strategic location enabled efficient transportation of steel components, machinery, and supplies necessary for the plant's swift development and operation. The railroad's important network likely helped in speeding up the delivery of construction materials and machinery, supporting the project’s ambitious timeline, with work beginning on March 4, 1918, and the plant being operational by July of the same year. |⏱️ 1.59s | Tokens 4954 | Cost 0.000536\n",
            "\n",
            "📊 Summary for Semantic:\n",
            "🔢 Total tokens: 53330\n",
            "⏱️ Avg latency: 2.73s\n",
            "🔢 Avg tokens per query: 4848.18\n",
            "⏱️ Total duration: 30.00s\n",
            "💰 Total cost: 0.006005\n"
          ]
        },
        {
          "name": "stderr",
          "output_type": "stream",
          "text": [
            "Evaluating:  95%|█████████▌| 42/44 [00:33<00:05,  2.71s/it]Exception raised in Job[15]: TimeoutError()\n",
            "Evaluating:  98%|█████████▊| 43/44 [05:00<01:20, 80.41s/it]Exception raised in Job[35]: TimeoutError()\n",
            "Evaluating: 100%|██████████| 44/44 [05:08<00:00,  7.01s/it]\n"
          ]
        },
        {
          "name": "stdout",
          "output_type": "stream",
          "text": [
            "Evaluation LLM model: gpt-4.1-nano\n",
            "Evaluation results: {'context_recall': 0.9091, 'faithfulness': 0.9545, 'answer_relevancy': 0.8457, 'context_entity_recall': 0.2980}\n",
            "Evaluation tokens: 212764\n",
            "Evaluation cost: 0.026711\n",
            "✅ Full result saved to: historical_docs_retriever_logs/semantic_logs.json\n"
          ]
        }
      ],
      "source": [
        "semantic_evaluation = evaluate_retriever(\"Semantic\", semantic_retrieval_chain, dataset)"
      ]
    },
    {
      "cell_type": "code",
      "execution_count": 63,
      "metadata": {},
      "outputs": [
        {
          "name": "stdout",
          "output_type": "stream",
          "text": [
            "📊 Running evaluation for: Ensemble\n",
            "Prompt 1 | James Blaine Walker was the Secretary of the Public Service Commission for the 1st District of New York and an author known for works like \"Fifty Years of Rapid Transit.\" In relation to rapid wartime industrial mobilization, his role was primarily as an official overseeing public services, which likely included coordinating and facilitating efficient industrial and infrastructural efforts necessary for rapid production and mobilization during wartime. |⏱️ 7.02s | Tokens 8338 | Cost 0.000883\n",
            "Prompt 2 | Mr. Hammel was the Chief Engineer of the Atlantic Loading Company during World War I. In the context of wartime industrial development, he played a key role in overseeing the construction and operation of the large-scale shell-loading plant and the associated workers' town at Amatol, New Jersey. He provided a credited and competent presentation of the plant's history, including its construction, organization, capacity, and technical details. His leadership contributed to the rapid and efficient organization of this major industrial undertaking, which was a significant achievement in American wartime engineering and industrial production, enabling the United States to meet urgent military needs for munitions during the war. |⏱️ 3.62s | Tokens 9749 | Cost 0.001037\n",
            "Prompt 3 | Y. M. C. A. stands for the Young Men's Christian Association. It is an organization that provides various facilities and services such as recreation, welfare, and community support. In the context provided, the Y. M. C. A. is a building that includes amenities like a swimming pool, gymnasium with a stage, bowling alley, billiard rooms, and lounges, and it is part of the community infrastructure in the town of Amatol to support the well-being of workers and residents. |⏱️ 6.86s | Tokens 6166 | Cost 0.000670\n",
            "Prompt 4 | The history indicates that American labor, particularly during times of national crisis such as World War I, sought more than mere existence; they desired a decent quality of life. Efforts to attract and retain workers included providing attractive and comfortable housing, recreational facilities, and welfare services. The development of well-designed, comfortable, and healthful living conditions was recognized as crucial to maintaining high morale, enthusiasm for work, and productivity. Building amenities like dormitories, residences, social and recreational facilities, and ensuring proper living standards were fundamental to motivating workers. Moreover, making work environments and housing appealing was effective in reducing turnover and improving morale. Overall, the historical record shows that improving the living conditions of American labor was a key factor in mobilizing and maintaining a productive workforce during significant periods like wartime. |⏱️ 4.16s | Tokens 8022 | Cost 0.000869\n",
            "Prompt 5 | Yes, when the United States declared war on Germany in 1917, there was a huge effort to produce munitions and support the war effort. The context shows that the U.S. rapidly built new factories and transformed existing ones to produce shells, bombs, and other military supplies. For example, a large shell-loading plant and a town called Amatol were constructed in New Jersey within a short period—around nine months—to support the war. This work was indeed a significant and urgent national undertaking, and it had a considerable impact on Germany as well, since increasing American munitions production helped bolster the Allies' capabilities against Germany during the war. |⏱️ 5.08s | Tokens 9047 | Cost 0.000969\n",
            "Prompt 6 | The development of Amatol as a company town was closely related to its town planning and safety measures during construction. The town was intentionally designed to be not just a collection of workers' housing but a well-planned community aimed at attractiveness, comfort, and efficiency. Architects and planners applied principles of modern town planning, ensuring the town was attractive, orderly, and safe. \n",
            "\n",
            "Specifically, the town was laid out on a basis that allowed for rapid construction—houses and amenities were designed for quick building while also resisting weather, with an ideal spacing to prevent crowding and allow for gardens, making the community pleasant for residents. The industrial and residential sections were carefully arranged; the industrial section was a narrow block to facilitate transportation and operations, while the residential area was on a natural eminence, with trees such as pines and oaks left standing to promote healthfulness and aesthetic appeal.\n",
            "\n",
            "Safety measures were a key part of the planning. The town was built approximately two miles from the munitions plant to serve as a safety buffer in case of explosions, a critical concern given the hazardous nature of the explosives manufactured there. The plant’s layout was designed for safety and redundancy, with structures arranged so that an explosion in one building would not damage others, often with soil-filled barricades and buildings built to direct potential blast effects upward rather than outward. The use of temporary, easily dismantled buildings also reflected a focus on safety, allowing for quick deconstruction if needed.\n",
            "\n",
            "Overall, the town’s planning reflected a dual focus: creating a pleasant, efficient living environment for workers and their families, and implementing safety measures to protect inhabitants from industrial hazards. These principles contributed to the community’s rapid development during wartime and influenced its temporary but well-organized nature during its peak operation period. |⏱️ 8.08s | Tokens 9191 | Cost 0.001054\n",
            "Prompt 7 | The wartime industrial production at Amatol was directly related to the United States' involvement in World War I. After the U.S. entered the war in 1917, there was an urgent need to produce munitions rapidly to support the Allied war effort. To meet this demand, a large munitions plant and supportive town were established in 1918 on a 6,000-acre site near Hammonton, New Jersey. The plant specialized in loading shells and various explosive devices, primarily using Amatol—a mixture of ammonium nitrate and T.N.T.—to maximize explosive power amidst shortages of other explosives like T.N.T. The rapid construction—completed in just nine months—allowed the U.S. to significantly increase its munitions output, including over 9 million rounds of ammunition of various types during its operation. This industrial effort was crucial in enabling the U.S. to supply its military forces with the needed armaments.\n",
            "\n",
            "Regarding town planning, the construction of Amatol was notably well-organized and designed to support the war effort efficiently. The town was planned to quickly and economically house the thousands of workers needed for the plant, with a residential area comprising houses, dormitories, schools, and churches. The industrial section was equipped with water, electric, and sewage systems, along with amenities such as theaters, YMCA facilities, bowling alleys, and recreational spaces. The town's infrastructure, including roads and the Amatol Railroad, was built swiftly to facilitate transportation and logistical support for the plant. This comprehensive town planning not only ensured a productive workforce but also aimed to maintain morale and safety, exemplifying the \"perfect organization, methods, and equipment\" emphasized during wartime industrial efforts.\n",
            "\n",
            "In summary, the industrial production at Amatol was a vital component of the U.S. war effort during WWI, enabling rapid munitions manufacturing, while the town's meticulous planning supported this industrial goal by providing a well-equipped, efficient, and attractive environment for thousands of war-related workers. |⏱️ 8.39s | Tokens 9965 | Cost 0.001153\n",
            "Prompt 8 | The co-ordination of labor and machinery was crucial for the efficient construction and operation of the shell loading plant during WW1. This coordination involved meticulous organization and the strategic use of engineering techniques to ensure rapid and safe production.\n",
            "\n",
            "Key contributions included:\n",
            "- **Optimal Organization**: The plant was staffed with a team of experts drafted from large construction and industrial enterprises, ensuring that skilled personnel managed the complex, hazardous loading processes.\n",
            "- **Innovative Machinery and Layout**: The use of belt conveyors allowed for continuous movement of shells through different stages of loading, significantly saving time and reducing physical exertion for workers. The plant was arranged in separate buildings for each process, connected by conveyor systems, enabling safe, flexible, and efficient operations.\n",
            "- **Speed and Safety in Construction**: During construction, the company adopted rapid building techniques, utilizing prefabricated steel structures and standardized units, which facilitated quick assembly and adaptation. This rapid construction was vital to meet wartime demands.\n",
            "- **Effective Use of Machinery**: The implementation of conveyor belts, water-jacketed kettles for safe explosive melting, and segregated buildings for hazardous operations enhanced both productivity and safety.\n",
            "- **Coordination of Labor with Machinery**: The systematic layout and machinery enabled a highly organized workflow where shells moved automatically along conveyor lines from receiving, cleaning, and filling, to packing—minimizing delays and maximizing output.\n",
            "\n",
            "Overall, this close coordination of skilled labor and innovative machinery allowed the plant to produce large quantities of shells swiftly and safely, making it one of the most efficient wartime munitions plants. |⏱️ 8.46s | Tokens 9016 | Cost 0.001022\n",
            "Prompt 9 | The relationship between New York City and the ammonal shell plant in New York is primarily through the Atlantic Loading Company, which was formed in New York City. This company was contracted by the U.S. Government during World War I to build and operate a shell loading plant as its agent. The company played a key role in establishing the plant and the associated town of Amatol in New Jersey. \n",
            "\n",
            "Although the plant itself was located in New Jersey, the company's headquarters and organizational control were based in New York City. The company was responsible for the construction, operation, and management of the shell loading facilities, and its officers actively coordinated with government authorities to set up the plant. \n",
            "\n",
            "In summary, New York City served as the business and organizational hub for the Atlantic Loading Company, which built and managed the shell plant in New Jersey, establishing a direct organizational and operational relationship between the city (as the company's origin and control point) and the shell plant site. |⏱️ 7.01s | Tokens 9618 | Cost 0.001043\n",
            "Prompt 10 | The development of the Amatol munitions factory in New Jersey was a significant reflection of the United States' wartime efforts during World War I. It exemplified the rapid mobilization and industrial organization required to support the war, with the government contracting private companies like the Atlantic Loading Company to swiftly construct large-scale military facilities. Built on 6,000 acres of land in just nine months, the plant and the adjacent company town were designed to produce munitions efficiently and safely, showcasing American ingenuity and dedication to the war effort. The town, housing between 10,000 and 20,000 workers, was equipped with modern amenities, schools, and recreational facilities, emphasizing the scale and sophistication of wartime industrial projects.\n",
            "\n",
            "However, the factory and the town had a very short lifespan. After the war ended in 1918, the plant was quickly shut down, and the town was abandoned within a few years. Little remains today, with most buildings dismantled or fallen into ruin, leaving only sparse physical traces and historical documentation such as photographs and written records. The rapid rise and fall of Amatol highlight the temporary yet impactful nature of wartime industrial efforts.\n",
            "\n",
            "The lasting impacts on the local community include the fact that many laborers, primarily Irish and Polish immigrants from Philadelphia, stayed in the area and started families, contributing to the demographic makeup of the region despite the town’s disappearance. Environmentally, the site was almost entirely reclaimed by nature, with concerns over environmental impacts halting plans to convert it into a landfill in the 1980s. \n",
            "\n",
            "Historically, Amatol has been well documented through books, photographs, and post cards, which preserve the memory of this once-thriving wartime community. Its story offers insight into the scale, speed, and temporary nature of wartime production facilities in the U.S., as well as the ephemeral communities that arose around them, leaving behind a ghost town that continues to fascinate historians and local residents alike. |⏱️ 9.49s | Tokens 9762 | Cost 0.001136\n",
            "Prompt 11 | The Pennsylvania Railroad facilitated the rapid construction and operation of the shell loading plant near Hammonton, New Jersey, primarily by providing essential transportation facilities. The site for the Atlantic Loading Company’s plant was chosen because it was adjacent to and north of the Pennsylvania Railroad, ensuring ample access for the movement of men, materials, and equipment. The railroad's strategic location and the availability of rail frontage—more than five miles—allowed for efficient distribution of steel components and other supplies necessary for the plant’s rapid build-up and continuous operation. Moreover, the railroad enabled a swift mobilization of workers and resources, contributing significantly to the short nine-month timeframe in which the plant and the associated workers’ town were constructed and made operational. This logistical support was a crucial factor in transforming a wooded area into a major wartime industrial complex in such a brief period. |⏱️ 10.56s | Tokens 8548 | Cost 0.000944\n",
            "\n",
            "📊 Summary for Ensemble:\n",
            "🔢 Total tokens: 97422\n",
            "⏱️ Avg latency: 7.16s\n",
            "🔢 Avg tokens per query: 8856.55\n",
            "⏱️ Total duration: 78.74s\n",
            "💰 Total cost: 0.010780\n"
          ]
        },
        {
          "name": "stderr",
          "output_type": "stream",
          "text": [
            "Evaluating:  95%|█████████▌| 42/44 [00:53<00:10,  5.48s/it]Exception raised in Job[15]: TimeoutError()\n",
            "Evaluating:  98%|█████████▊| 43/44 [05:00<01:16, 76.74s/it]Exception raised in Job[31]: TimeoutError()\n",
            "Evaluating: 100%|██████████| 44/44 [05:09<00:00,  7.04s/it]\n"
          ]
        },
        {
          "name": "stdout",
          "output_type": "stream",
          "text": [
            "Evaluation LLM model: gpt-4.1-nano\n",
            "Evaluation results: {'context_recall': 1.0000, 'faithfulness': 0.9740, 'answer_relevancy': 0.9333, 'context_entity_recall': 0.3213}\n",
            "Evaluation tokens: 291997\n",
            "Evaluation cost: 0.035488\n",
            "✅ Full result saved to: historical_docs_retriever_logs/ensemble_logs.json\n"
          ]
        }
      ],
      "source": [
        "ensemble_evaluation = evaluate_retriever(\"Ensemble\", ensemble_retrieval_chain, dataset)"
      ]
    },
    {
      "cell_type": "code",
      "execution_count": 64,
      "metadata": {},
      "outputs": [
        {
          "name": "stdout",
          "output_type": "stream",
          "text": [
            "📊 Running evaluation for: EnsembleCompressed\n",
            "Prompt 1 | James Blaine Walker was the Secretary of the Public Service Commission for the 1st District of New York. He was also an author, known for writing \"Fifty Years of Rapid Transit,\" among other works. \n",
            "\n",
            "Based on the provided context, there is no specific information indicating that James Blaine Walker played a direct role in rapid wartime industrial mobilization. The context discusses the industrial efforts during wartime, such as the construction of shell loading plants and the rapid development of factories, but it does not link these activities to Walker himself. \n",
            "\n",
            "Therefore, I do not know if James Blaine Walker had any direct involvement in the wartime industrial mobilization efforts. |⏱️ 6.50s | Tokens 1025 | Cost 0.000169\n",
            "Prompt 2 | Mr. Hammel was the Chief Engineer of the company responsible for the construction and operation of the shell loading plant at Amatol, New Jersey, during World War I. He was a member of the American Society of Civil Engineers. In the context of wartime industrial development, Mr. Hammel played a key role in documenting and overseeing the building and functioning of this large-scale military manufacturing facility. He provided a detailed history of the undertaking, including descriptions of the plant and town construction, their capacity, and the organization that enabled such a significant and rapid wartime industrial effort. His work contributed to a permanent record of this important wartime industrial achievement. |⏱️ 4.36s | Tokens 1235 | Cost 0.000191\n",
            "Prompt 3 | The Y. M. C. A. stands for the Young Men's Christian Association. It is an organization that provides recreational facilities, community services, and support for young men and others. In the context provided, the Y. M. C. A. includes a building with amenities such as a swimming pool, gymnasium with a stage, bowling alley, billiard rooms, and refreshment and lounging rooms. |⏱️ 2.87s | Tokens 668 | Cost 0.000106\n",
            "Prompt 4 | The history indicates that American laborers' living conditions have had a significant impact on their overall well-being and productivity. When workers were housed in unattractive and uncomfortable buildings, their morale and enthusiasm for work declined. Conversely, improving living conditions—making housing attractive and comfortable—led to higher morale, increased enthusiasm, and even faster production. This demonstrates that American labor values decent and adequate living conditions, and efforts to improve housing for workers have historically boosted their morale and work performance. |⏱️ 6.45s | Tokens 1150 | Cost 0.000164\n",
            "Prompt 5 | Yes, when the United States declared war on Germany in 1917, they had to significantly ramp up the production of munitions, including building new factories and transforming peacetime industries into weapon manufacturing centers. This was a major effort to ensure enough ammunition and explosive supplies for the war. Germany would have been affected by this increased production capacity of the US, as it meant the Allies, including the US, could supply more munitions and potentially have a strategic advantage. So, producing large quantities of munitions was a big deal both for the US and in terms of its impact on Germany's war efforts. |⏱️ 4.60s | Tokens 1622 | Cost 0.000226\n",
            "Prompt 6 | The company town and community development of Amatol were closely related to its town planning and safety measures during construction. The town was deliberately planned to be attractive, efficient, and safe for its residents and workers. It was built on a 6,000-acre site with careful consideration of safety, including a substantial safety zone around the munitions plant, which was part of the planning process to minimize risk to the population. The town was designed with quick yet weather-resistant housing, aiming to accommodate a large population (up to 25,000) while ensuring comfort and protection. Additionally, the town's layout included an industrial section, residential areas, and amenities, reflecting an overall focus on rapid construction, safety, and livability to support the intensive munitions manufacturing in a secure environment during World War I. |⏱️ 4.02s | Tokens 2053 | Cost 0.000281\n",
            "Prompt 7 | The wartime industrial production at Amatol was directly related to the United States' involvement in World War I, which began in April 1917. Following the U.S. entry into the war, there was an increased demand for munitions and military supplies. In response, the U.S. government contracted the Atlantic Loading Company to rapidly construct a large munitions plant and a surrounding town to support the war effort.\n",
            "\n",
            "The Amatol plant was built in 1918 to produce various types of shells, including smaller artillery shells like 75 mm projectiles and larger ones such as 8-inch shells and booster plants. The plant's design emphasized safety and efficiency, with buildings arranged to minimize damage from potential explosions, and redundant operational facilities to maintain continuous production even in case of accidents. This large-scale industrial effort contributed significantly to the war by supplying the necessary munitions for U.S. and Allied forces.\n",
            "\n",
            "Supporting the war effort through town planning, the community of Amatol was carefully designed to accommodate up to 20,000 workers. The town included residential areas with homes, dormitories, schools, and churches, as well as entertainment and recreational facilities like a YMCA, swimming pool, and movie theater. Infrastructure such as water, electricity, and sewage systems were developed to support the residents. The town's location two miles from the plant provided a safety buffer to protect workers and their families from accidental explosions at the plant.\n",
            "\n",
            "Overall, the industrial production at Amatol was a key component of the U.S. war effort in WWI, facilitated by strategic town planning that prioritized safety, efficiency, and worker welfare to ensure sustained munitions production. |⏱️ 9.44s | Tokens 2653 | Cost 0.000402\n",
            "Prompt 8 | The coordination of labor and machinery was crucial for the efficient production at the shell loading plant during WW1. This was achieved through the application of the emerging principles of industrial organization, which emphasized \"perfect organization, methods and equipment.\" The plant was designed with safety, redundancy, and efficiency in mind, ensuring that each part of the operation functioned smoothly. The layout included separate facilities for different shell sizes and types, with rail and conveyor connections optimized for rapid movement of components, allowing for seamless processing.\n",
            "\n",
            "Furthermore, the operation of the plant utilized conveyor belts to transport shells through various stages, with workmen stationed at specific points to handle each shell efficiently. This setup minimized physical exertion and time wastage, enabling high throughputs. The entire process was carefully organized to divide tasks, implement standardized procedures, and utilize suitable machinery, which collectively contributed to the plant’s record-breaking production capacity and quick turnaround times in wartime conditions.\n",
            "\n",
            "In summary, the meticulous coordination of labor skills with specialized machinery, supported by organized workflows and plant layout, was instrumental in enabling the construction and operation of the shell loading plant during WW1, ultimately facilitating rapid and safe munitions production to meet military demands. |⏱️ 7.24s | Tokens 2831 | Cost 0.000381\n",
            "Prompt 9 | Based on the provided information, the relationship between New York City and the Amatol shell plant in New York appears to be indirect, as the main focus of the documents is on the plant located near Elwood, New Jersey, and its operations. The Amatol shell plant was a significant military facility established during World War I, capable of producing large quantities of shells, grenades, and other munitions. It included a model town designed to house thousands of workers and had specialized transportation arrangements, such as a special train service for employees.\n",
            "\n",
            "The specific connection to New York City is not explicitly detailed in the provided context. However, since the documents mention employees residing between Atlantic City and the plant, and given New York City’s proximity and importance as a transportation hub, it is possible that some employees or supply chains related to the plant had links to New York City.\n",
            "\n",
            "In summary, the Amatol shell plant was a major wartime munitions facility located near Elwood, New Jersey, with connections to nearby regions, potentially including New York City, mainly through employee commutes and logistics, but no direct relationship or operational link is specified in the provided context. |⏱️ 5.72s | Tokens 1200 | Cost 0.000212\n",
            "Prompt 10 | The development and subsequent disappearance of the Amatol munitions factory in New Jersey reflect the United States' rapid and intensive wartime efforts during World War I. Built swiftly in just nine months, the factory and supporting town were emblematic of the urgent mobilization for war, showcasing large-scale industrial production of munitions such as shells, grenades, and other explosives essential for the war effort. The town of Amatol was a meticulously planned community with modern amenities, designed to support over 10,000 residents and thousands of workers and soldiers, highlighting the scale and organization behind America's wartime manufacturing.\n",
            "\n",
            "However, after the war ended and the armistice was signed, the factory's operational lifespan was short-lived. The plant closed by 1919, and the town rapidly vanished, becoming virtually a memory within a few years. This quick rise and fall underscored how wartime production was often a temporary surge driven by immediate military needs, with communities and infrastructures built solely for war effort purposes that were abandoned once the conflict concluded.\n",
            "\n",
            "The impact on the local community was significant: a bustling, well-equipped town appeared and then disappeared in a matter of years, leaving behind only traces such as concrete remnants and a single building now used as a police barracks. The site’s brief revival in 1926 as a speedway marked a short-lived attempt to repurpose the area, but it too faded away.\n",
            "\n",
            "In terms of historical documentation, Amatol is notably well-preserved through photographs, books, and records, such as the detailed \"Shell Loading at Amatol, N.J.\". This thorough documentation has allowed modern historians and local residents to remember and study this fleeting chapter of wartime production and community life. The site’s environmental preservation efforts in 2017 and its mention in various historical accounts also ensure that the story of Amatol remains a part of the broader history of America’s wartime industrial efforts.\n",
            "\n",
            "Overall, Amatol’s story reflects the immense industrial mobilization during World War I, the ephemeral nature of wartime communities, and the importance of historical documentation in preserving these fleeting but significant episodes in American history. |⏱️ 12.56s | Tokens 2962 | Cost 0.000470\n",
            "Prompt 11 | The Pennsylvania Railroad facilitated the rapid construction and operation of the shell loading plant near Hammonton, New Jersey, primarily by providing essential transportation infrastructure. The plant site was located adjacent to and north of the Pennsylvania Railroad lines, which offered ample and efficient transportation facilities for moving men and materials to and from the site. This strategic location enabled swift delivery of construction supplies, machinery, and personnel, significantly accelerating the building process. The easy accessibility by railroad lines played a crucial role in the quick transformation of the wilderness into an operational plant and a supporting town within a few months during 1918. |⏱️ 4.69s | Tokens 2662 | Cost 0.000338\n",
            "\n",
            "📊 Summary for EnsembleCompressed:\n",
            "🔢 Total tokens: 20061\n",
            "⏱️ Avg latency: 6.22s\n",
            "🔢 Avg tokens per query: 1823.73\n",
            "⏱️ Total duration: 68.46s\n",
            "💰 Total cost: 0.002938\n"
          ]
        },
        {
          "name": "stderr",
          "output_type": "stream",
          "text": [
            "Evaluating: 100%|██████████| 44/44 [00:37<00:00,  1.18it/s]\n"
          ]
        },
        {
          "name": "stdout",
          "output_type": "stream",
          "text": [
            "Evaluation LLM model: gpt-4.1-nano\n",
            "Evaluation results: {'context_recall': 0.9848, 'faithfulness': 0.9221, 'answer_relevancy': 0.7592, 'context_entity_recall': 0.3523}\n",
            "Evaluation tokens: 129435\n",
            "Evaluation cost: 0.018441\n",
            "✅ Full result saved to: historical_docs_retriever_logs/ensemblecompressed_logs.json\n"
          ]
        }
      ],
      "source": [
        "ensemble_compressed_evaluation = evaluate_retriever(\"EnsembleCompressed\", ensemble_compressed_chain, dataset)"
      ]
    },
    {
      "cell_type": "code",
      "execution_count": 65,
      "metadata": {},
      "outputs": [],
      "source": [
        "all_results = {\n",
        "    \"Naive\": naive_evaluation,\n",
        "    \"BM25\": bm25_evaluation,\n",
        "    \"Multi-Query\": multi_query_evaluation,\n",
        "    \"Contextual Compression\": contextual_compression_evaluation,\n",
        "    \"Semantic\": semantic_evaluation,\n",
        "    \"Ensemble\": ensemble_evaluation,\n",
        "    \"EnsembleCompressed\": ensemble_compressed_evaluation\n",
        "}\n"
      ]
    },
    {
      "cell_type": "code",
      "execution_count": 66,
      "metadata": {},
      "outputs": [],
      "source": [
        "import pandas as pd\n",
        "from IPython.display import display\n",
        "\n",
        "def display_summary_table(results: dict):\n",
        "    \"\"\"\n",
        "    Displays a summary table comparing retriever pipelines with averaged RAGAS metrics.\n",
        "    \n",
        "    Args:\n",
        "        results (dict): A dictionary of evaluation results from evaluate_retriever().\n",
        "    \"\"\"\n",
        "    summary_data = []\n",
        "\n",
        "    for _, result in results.items():\n",
        "        eval_scores = result[\"evaluation_result\"]\n",
        "\n",
        "        row = {\n",
        "            \"Pipeline\": result[\"name\"],\n",
        "            **result[\"summary\"],\n",
        "            \"ContextRecall\": eval_scores.get(\"context_recall\"),\n",
        "            \"Faithfulness\": eval_scores.get(\"faithfulness\"),\n",
        "            # \"FactualCorrectness\": eval_scores.get(\"factual_correctness(mode=f1)\"),\n",
        "            \"AnswerRelevancy\": eval_scores.get(\"answer_relevancy\"),\n",
        "            \"ContextEntityRecall\": eval_scores.get(\"context_entity_recall\"),\n",
        "            # \"NoiseSensitivity\": eval_scores.get(\"noise_sensitivity(mode=relevant)\"),\n",
        "        }\n",
        "\n",
        "        summary_data.append(row)\n",
        "\n",
        "    df = pd.DataFrame(summary_data)\n",
        "    display(df.sort_values(by=\"ContextRecall\", ascending=False).reset_index(drop=True))\n"
      ]
    },
    {
      "cell_type": "code",
      "execution_count": 71,
      "metadata": {},
      "outputs": [
        {
          "name": "stdout",
          "output_type": "stream",
          "text": [
            "📊 Running evaluation for: Contextual Compression Rerun\n",
            "Prompt 1 | James Blaine Walker was the Secretary of the Public Service Commission for the 1st District of New York and the author of \"Fifty Years of Rapid Transit.\" While the provided context does not explicitly detail his direct role in wartime industrial mobilization during World War I, it mentions his introduction to a related subject. The context highlights the challenges faced by the United States in rapidly increasing the production of munitions, food, clothing, and other war supplies after entering the war in 1917. \n",
            "\n",
            "Given his position and expertise, it is likely that James Blaine Walker contributed to or was involved in efforts related to managing or coordinating public service and transportation infrastructure, which are critical components of mobilization during wartime. However, based solely on the provided information, I cannot specify his exact role in relation to rapid wartime industrial mobilization.\n",
            "\n",
            "If more detailed information is needed, additional context or sources would be required. |⏱️ 4.49s | Tokens 688 | Cost 0.000124\n",
            "Prompt 2 | Mr. Victor F. Hammel was the Chief Engineer of the company involved in the construction and operation of a shell loading plant and the associated town of Amatol, New Jersey, during World War I. He documented the detailed construction process and development of the plant and town, highlighting the impressive engineering efforts undertaken to convert wilderness into an industrial site in a remarkably short period. His work provides valuable historical insight into the wartime industrial development efforts that supported the war effort by rapidly establishing vital manufacturing facilities for munitions. |⏱️ 1.68s | Tokens 721 | Cost 0.000103\n",
            "Prompt 3 | Y. M. C. A. stands for the Young Men's Christian Association. It is an organization that provides community services such as recreational facilities, educational programs, and support for health and well-being. In the context provided, it includes facilities like a swimming pool, gymnasium, billiard rooms, and other recreational amenities. |⏱️ 1.89s | Tokens 568 | Cost 0.000076\n",
            "Prompt 4 | The history indicates that American labor has historically valued not just employment but also good living conditions. Improving housing and living environments for workers has been seen as essential for boosting morale, enthusiasm for work, and overall productivity. Efforts to provide attractive and comfortable housing for workers have contributed to higher morale and better work outcomes, suggesting that decent living conditions are closely linked to worker satisfaction and industrial success. |⏱️ 1.29s | Tokens 460 | Cost 0.000069\n",
            "Prompt 5 | Yes, that's correct. When the US declared war on Germany in 1917, there was a significant effort to produce large quantities of munitions and supplies needed for the war effort. This involved building new factories, transforming existing ones for gun and shell production, and producing explosive materials like trinitrotoluol (TNT). The increase in munitions production was a major part of supporting the military activities, and it was also a big deal for Germany because it meant that Germany's enemies, including the United States, were ramping up their war supplies. |⏱️ 1.42s | Tokens 760 | Cost 0.000110\n",
            "Prompt 6 | The company town and community development of Amatol were closely related to its town planning and safety measures during construction. The development aimed to create an attractive and stimulating environment for workers, integrating principles of town planning that were recognized by major architects of the time. Great care was taken to incorporate features that would make the town appealing, which reflects a deliberate effort to promote a safe and healthy living environment for its residents.\n",
            "\n",
            "Additionally, the construction of Amatol featured extensive use of concrete and rapid development techniques to facilitate the swift build of housing, dormitories, schools, and other facilities within nine months. This quick yet careful construction was a significant urban planning achievement, designed to efficiently accommodate a large workforce while ensuring safety and functionality. The selection of the location and the design considerations also suggest that safety measures were a priority, especially given the context of wartime, where protecting workers and minimizing hazards in a munitions plant was crucial.\n",
            "\n",
            "Overall, Amatol’s town planning incorporated safety-conscious design principles, aimed at both efficiency and the well-being of its inhabitants, thereby integrating community development with safety measures during its rapid construction phase. |⏱️ 2.91s | Tokens 809 | Cost 0.000148\n",
            "Prompt 7 | The wartime industrial production at Amatol was directly related to the United States' involvement in World War I. After the U.S. entered the war in 1917, the government rapidly expanded its industrial base to support the war effort. In 1918, the government purchased 6,000 acres of land to build a munitions plant called Amatol, which was designed to produce various types of munitions to supply the armed forces. The construction of the plant and the associated town was completed extremely quickly—within nine months—and was a major urban planning achievement. The town was strategically located two miles from the plant to ensure safety in case of accidents. The development of Amatol supported the war effort by providing a large-scale, efficiently planned facility for munitions production and by housing thousands of workers and their families, thereby contributing significantly to the industrial mobilization during World War I. |⏱️ 3.52s | Tokens 844 | Cost 0.000139\n",
            "Prompt 8 | The co-ordination of labor and machinery was crucial for efficient production in the construction and operation of the shell loading plant during WW1. According to the provided context, the Atlantic Loading Company organized and constructed the plant rapidly, starting on March 4, 1918, and beginning operations by July of the same year. This swift development was made possible by effective organization, which ensured that the machinery—such as lathes and forges—was quickly set up and brought into productive use. \n",
            "\n",
            "Furthermore, the company established contracts for large-scale production of high explosives like trinitrotoluol (TNT) and extensive machinery for charging shells, indicating a coordinated effort to align labor efforts with the machinery required for mass production. The synchronization of skilled labor with complex machinery allowed for rapid manufacturing and loading of shells, ensuring that production kept pace with the demands of the war effort. This coordination minimized delays and maximized output, demonstrating a well-organized approach to wartime industrial production. |⏱️ 2.44s | Tokens 781 | Cost 0.000137\n",
            "Prompt 9 | The relationship between New York City and the Amatol shell plant in New York is primarily through the Atlantic Loading Company, a corporation formed in New York City. This company was contracted by the government to build and operate the shell loading plant, which was located in Amatol, New Jersey. The company’s involvement indicates that New York City played a significant role in establishing and supporting the shell plant's operations during that time. |⏱️ 2.07s | Tokens 628 | Cost 0.000088\n",
            "Prompt 10 | The development and subsequent disappearance of the Amatol munitions factory in New Jersey vividly reflect the United States' wartime efforts during World War I. The factory was built as part of the nation's mobilization to produce military ordnance rapidly, serving as a significant site for shell loading and munitions manufacturing. Its construction represented a concerted effort to enhance wartime production capacity and support the war effort at a critical time.\n",
            "\n",
            "The factory and its associated company town, which supported a population of around 10,000, exemplify how wartime industries were often rapidly established and developed to meet urgent military needs. However, following the end of World War I on November 11, 1918, and with the armistice, the demand for munitions plummeted. As a result, the Amatol facility was quickly shuttered, its buildings dismantled, and the town vanished almost as swiftly as it had appeared. The swift dismantling of the facility highlights how wartime industries were often transient, constructed primarily for the duration of the conflict.\n",
            "\n",
            "The lasting impacts on the local community included the resettlement of many workers—primarily Irish and Polish laborers—who stayed in the area and started families. The site’s history has been thoroughly documented, especially given that it was fully recorded by the company that built it. Today, while the original site is abandoned, it is remembered through historical documentation and remains a symbol of wartime industrial efforts and their fleeting yet significant presence in local history.\n",
            "\n",
            "Overall, the Amatol factory's rise and fall demonstrate how wartime production efforts can profoundly influence local communities and leave a lasting legacy through historical records, even long after the facilities have disappeared. |⏱️ 5.58s | Tokens 972 | Cost 0.000200\n",
            "Prompt 11 | The Pennsylvania Railroad facilitated the rapid construction and operation of the shell loading plant near Hammonton, New Jersey, by providing efficient transportation and logistical support that enabled the quick transformation of the land and the establishment of the plant. According to the historical accounts, the Atlantic Loading Company began work on March 4, 1918, and within a few months had cleared the land, built a new town, and erected a large manufacturing plant. The railroad's infrastructure likely played a key role in delivering materials, machinery, and workers to the site, thereby supporting the quick development and operational readiness of the plant during 1918. |⏱️ 1.47s | Tokens 793 | Cost 0.000116\n",
            "\n",
            "📊 Summary for Contextual Compression Rerun:\n",
            "🔢 Total tokens: 8024\n",
            "⏱️ Avg latency: 2.62s\n",
            "🔢 Avg tokens per query: 729.45\n",
            "⏱️ Total duration: 28.79s\n",
            "💰 Total cost: 0.001312\n"
          ]
        },
        {
          "name": "stderr",
          "output_type": "stream",
          "text": [
            "Evaluating: 100%|██████████| 44/44 [00:30<00:00,  1.47it/s]\n"
          ]
        },
        {
          "name": "stdout",
          "output_type": "stream",
          "text": [
            "Evaluation LLM model: gpt-4.1-nano\n",
            "Evaluation results: {'context_recall': 1.0000, 'faithfulness': 0.8874, 'answer_relevancy': 0.8484, 'context_entity_recall': 0.4032}\n",
            "Evaluation tokens: 95342\n",
            "Evaluation cost: 0.014162\n",
            "✅ Full result saved to: historical_docs_retriever_logs/contextual_compression_rerun_logs.json\n"
          ]
        }
      ],
      "source": [
        "contextual_compression_evaluation = evaluate_retriever(\"Contextual Compression Rerun\", contextual_compression_retrieval_chain, dataset)"
      ]
    },
    {
      "cell_type": "code",
      "execution_count": 72,
      "metadata": {},
      "outputs": [
        {
          "data": {
            "text/html": [
              "<div>\n",
              "<style scoped>\n",
              "    .dataframe tbody tr th:only-of-type {\n",
              "        vertical-align: middle;\n",
              "    }\n",
              "\n",
              "    .dataframe tbody tr th {\n",
              "        vertical-align: top;\n",
              "    }\n",
              "\n",
              "    .dataframe thead th {\n",
              "        text-align: right;\n",
              "    }\n",
              "</style>\n",
              "<table border=\"1\" class=\"dataframe\">\n",
              "  <thead>\n",
              "    <tr style=\"text-align: right;\">\n",
              "      <th></th>\n",
              "      <th>Pipeline</th>\n",
              "      <th>total_runtime</th>\n",
              "      <th>avg_latency</th>\n",
              "      <th>total_tokens</th>\n",
              "      <th>total_queries</th>\n",
              "      <th>total_cost</th>\n",
              "      <th>avg_tokens_per_query</th>\n",
              "      <th>ContextRecall</th>\n",
              "      <th>Faithfulness</th>\n",
              "      <th>AnswerRelevancy</th>\n",
              "      <th>ContextEntityRecall</th>\n",
              "    </tr>\n",
              "  </thead>\n",
              "  <tbody>\n",
              "    <tr>\n",
              "      <th>0</th>\n",
              "      <td>Multi-Query</td>\n",
              "      <td>49.15</td>\n",
              "      <td>4.47</td>\n",
              "      <td>44605</td>\n",
              "      <td>11</td>\n",
              "      <td>0.005378</td>\n",
              "      <td>4055.00</td>\n",
              "      <td>1.0000</td>\n",
              "      <td>0.9343</td>\n",
              "      <td>0.8293</td>\n",
              "      <td>0.3242</td>\n",
              "    </tr>\n",
              "    <tr>\n",
              "      <th>1</th>\n",
              "      <td>Ensemble</td>\n",
              "      <td>78.74</td>\n",
              "      <td>7.16</td>\n",
              "      <td>97422</td>\n",
              "      <td>11</td>\n",
              "      <td>0.010780</td>\n",
              "      <td>8856.55</td>\n",
              "      <td>1.0000</td>\n",
              "      <td>0.9740</td>\n",
              "      <td>0.9333</td>\n",
              "      <td>0.3213</td>\n",
              "    </tr>\n",
              "    <tr>\n",
              "      <th>2</th>\n",
              "      <td>Naive</td>\n",
              "      <td>38.57</td>\n",
              "      <td>3.51</td>\n",
              "      <td>29161</td>\n",
              "      <td>11</td>\n",
              "      <td>0.003235</td>\n",
              "      <td>2651.00</td>\n",
              "      <td>0.9848</td>\n",
              "      <td>0.9109</td>\n",
              "      <td>0.8404</td>\n",
              "      <td>0.3707</td>\n",
              "    </tr>\n",
              "    <tr>\n",
              "      <th>3</th>\n",
              "      <td>EnsembleCompressed</td>\n",
              "      <td>68.46</td>\n",
              "      <td>6.22</td>\n",
              "      <td>20061</td>\n",
              "      <td>11</td>\n",
              "      <td>0.002938</td>\n",
              "      <td>1823.73</td>\n",
              "      <td>0.9848</td>\n",
              "      <td>0.9221</td>\n",
              "      <td>0.7592</td>\n",
              "      <td>0.3523</td>\n",
              "    </tr>\n",
              "    <tr>\n",
              "      <th>4</th>\n",
              "      <td>Contextual Compression</td>\n",
              "      <td>27.01</td>\n",
              "      <td>2.45</td>\n",
              "      <td>8046</td>\n",
              "      <td>11</td>\n",
              "      <td>0.001321</td>\n",
              "      <td>731.45</td>\n",
              "      <td>0.9697</td>\n",
              "      <td>0.8788</td>\n",
              "      <td>0.7561</td>\n",
              "      <td>0.3677</td>\n",
              "    </tr>\n",
              "    <tr>\n",
              "      <th>5</th>\n",
              "      <td>BM25</td>\n",
              "      <td>23.96</td>\n",
              "      <td>2.18</td>\n",
              "      <td>8044</td>\n",
              "      <td>11</td>\n",
              "      <td>0.001321</td>\n",
              "      <td>731.27</td>\n",
              "      <td>0.9394</td>\n",
              "      <td>0.9318</td>\n",
              "      <td>0.7560</td>\n",
              "      <td>0.2320</td>\n",
              "    </tr>\n",
              "    <tr>\n",
              "      <th>6</th>\n",
              "      <td>Semantic</td>\n",
              "      <td>30.00</td>\n",
              "      <td>2.73</td>\n",
              "      <td>53330</td>\n",
              "      <td>11</td>\n",
              "      <td>0.006005</td>\n",
              "      <td>4848.18</td>\n",
              "      <td>0.9091</td>\n",
              "      <td>0.9545</td>\n",
              "      <td>0.8457</td>\n",
              "      <td>0.2980</td>\n",
              "    </tr>\n",
              "  </tbody>\n",
              "</table>\n",
              "</div>"
            ],
            "text/plain": [
              "                 Pipeline  total_runtime  avg_latency  total_tokens  \\\n",
              "0             Multi-Query          49.15         4.47         44605   \n",
              "1                Ensemble          78.74         7.16         97422   \n",
              "2                   Naive          38.57         3.51         29161   \n",
              "3      EnsembleCompressed          68.46         6.22         20061   \n",
              "4  Contextual Compression          27.01         2.45          8046   \n",
              "5                    BM25          23.96         2.18          8044   \n",
              "6                Semantic          30.00         2.73         53330   \n",
              "\n",
              "   total_queries  total_cost  avg_tokens_per_query  ContextRecall  \\\n",
              "0             11    0.005378               4055.00         1.0000   \n",
              "1             11    0.010780               8856.55         1.0000   \n",
              "2             11    0.003235               2651.00         0.9848   \n",
              "3             11    0.002938               1823.73         0.9848   \n",
              "4             11    0.001321                731.45         0.9697   \n",
              "5             11    0.001321                731.27         0.9394   \n",
              "6             11    0.006005               4848.18         0.9091   \n",
              "\n",
              "   Faithfulness  AnswerRelevancy  ContextEntityRecall  \n",
              "0        0.9343           0.8293               0.3242  \n",
              "1        0.9740           0.9333               0.3213  \n",
              "2        0.9109           0.8404               0.3707  \n",
              "3        0.9221           0.7592               0.3523  \n",
              "4        0.8788           0.7561               0.3677  \n",
              "5        0.9318           0.7560               0.2320  \n",
              "6        0.9545           0.8457               0.2980  "
            ]
          },
          "metadata": {},
          "output_type": "display_data"
        }
      ],
      "source": [
        "display_summary_table(all_results)\n"
      ]
    },
    {
      "cell_type": "markdown",
      "metadata": {},
      "source": [
        "| Pipeline               | Total Runtime | Avg Latency | Total Tokens | Total Queries | Total Cost | Avg Tokens/Query | ContextRecall                         | Faithfulness                         | AnswerRelevancy                      | ContextEntityRecall                  |\n",
        "|------------------------|---------------|-------------|---------------|----------------|-------------|--------------------|----------------------------------------|--------------------------------------|--------------------------------------|--------------------------------------|\n",
        "| Naive                  | 38.57         | 3.51        | 29161         | 11             | 0.003235    | 2651.00            | 0.9848                                 | 0.9109                               | 0.8404                               | <span style=\"background-color:#c8e6c9\">0.3707</span> |\n",
        "| BM25                   | 23.96         | 2.18        | <span style=\"background-color:#c8e6c9\">8044</span>          | 11             | <span style=\"background-color:#c8e6c9\">0.001321</span>    | <span style=\"background-color:#c8e6c9\">731.27</span>            | 0.9394                                 | 0.9318                               | 0.7560                               | ❌ <span style=\"background-color:#ffcdd2\">0.2320</span> |\n",
        "| Multi-Query            | <span style=\"background-color:#c8e6c9\">49.15</span>         | <span style=\"background-color:#c8e6c9\">4.47</span>        | 44605         | 11             | 0.005378    | 4055.00            | <span style=\"background-color:#c8e6c9\">1.0000</span>              | 0.9343                               | 0.8293                               | 0.3242                               |\n",
        "| Contextual Compression | <span style=\"background-color:#c8e6c9\">27.01</span>         | <span style=\"background-color:#c8e6c9\">2.45</span>        | 8046          | 11             | <span style=\"background-color:#c8e6c9\">0.001321</span>    | <span style=\"background-color:#c8e6c9\">731.45</span>            | 0.9697                                 | 0.8788                               | 0.7561                               | 0.3677                               |\n",
        "| Semantic               | 30.00         | 2.73        | 53330         | 11             | 0.006005    | 4848.18            | ❌ <span style=\"background-color:#ffcdd2\">0.9091</span>              | 0.9545                               | 0.8457                               | 0.2980                               |\n",
        "| Ensemble               | ❌ <span style=\"background-color:#ffcdd2\">78.74</span>         | ❌ <span style=\"background-color:#ffcdd2\">7.16</span>        | ❌ <span style=\"background-color:#ffcdd2\">97422</span>         | 11             | ❌ <span style=\"background-color:#ffcdd2\">0.010780</span>    | ❌ <span style=\"background-color:#ffcdd2\">8856.55</span>           | <span style=\"background-color:#c8e6c9\">1.0000</span>              | <span style=\"background-color:#c8e6c9\">0.9740</span>       | <span style=\"background-color:#c8e6c9\">0.9333</span>       | 0.3213                               |\n",
        "| EnsembleCompressed     | 68.46         | 6.22        | 20061         | 11             | 0.002938    | 1823.73            | 0.9848                                 | 0.9221                               | 0.7592                               | 0.3523                               |\n"
      ]
    },
    {
      "cell_type": "markdown",
      "metadata": {},
      "source": [
        "| Pipeline               | Total Runtime | Avg Latency | Total Tokens | Total Cost | Avg Tokens/Query | ContextRecall | Faithfulness | AnswerRelevancy | ContextEntityRecall |\n",
        "|------------------------|---------------|-------------|---------------|-------------|--------------------|----------------|---------------|------------------|-----------------------|\n",
        "| Naive                  | 🟡 38.57       | 🟡 3.51      | 🟡 29161       | 🟡 0.003235  | 🟡 2651.00          | 🟡 0.9848      | 🟡 0.9109     | 🟢 0.8404         | 🟢 0.3707              |\n",
        "| BM25                   | 🟢 23.96       | 🟢 2.18      | 🟢 8044        | 🟢 0.001321  | 🟢 731.27           | 🔴 0.9394      | 🟡 0.9318     | 🔴 0.7560         | 🔴 0.2320              |\n",
        "| Multi-Query            | 🟡 49.15       | 🟡 4.47      | 🟡 44605       | 🟡 0.005378  | 🟡 4055.00          | 🟢 1.0000      | 🟡 0.9343     | 🟢 0.8293         | 🟡 0.3242              |\n",
        "| Contextual Compression | 🟢 27.01       | 🟢 2.45      | 🟢 8046        | 🟢 0.001321  | 🟢 731.45           | 🟡 0.9697      | 🔴 0.8788     | 🔴 0.7561         | 🟢 0.3677              |\n",
        "| Semantic               | 🟡 30.00       | 🟡 2.73      | 🔴 53330       | 🔴 0.006005  | 🔴 4848.18          | 🔴 0.9091      | 🟢 0.9545     | 🟢 0.8457         | 🔴 0.2980              |\n",
        "| Ensemble               | 🔴 78.74       | 🔴 7.16      | 🔴 97422       | 🔴 0.010780  | 🔴 8856.55          | 🟢 1.0000      | 🟢 0.9740     | 🟢 0.9333         | 🟡 0.3213              |\n",
        "| EnsembleCompressed     | 🔴 68.46       | 🔴 6.22      | 🟡 20061       | 🟡 0.002938  | 🟡 1823.73          | 🟡 0.9848      | 🟡 0.9221     | 🔴 0.7592         | 🟢 0.3523              |\n"
      ]
    }
  ],
  "metadata": {
    "colab": {
      "provenance": [],
      "toc_visible": true
    },
    "kernelspec": {
      "display_name": ".venv",
      "language": "python",
      "name": "python3"
    },
    "language_info": {
      "codemirror_mode": {
        "name": "ipython",
        "version": 3
      },
      "file_extension": ".py",
      "mimetype": "text/x-python",
      "name": "python",
      "nbconvert_exporter": "python",
      "pygments_lexer": "ipython3",
      "version": "3.12.11"
    }
  },
  "nbformat": 4,
  "nbformat_minor": 0
}

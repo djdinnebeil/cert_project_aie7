{
 "cells": [
  {
   "cell_type": "code",
   "execution_count": 2,
   "id": "bf26944f",
   "metadata": {},
   "outputs": [],
   "source": [
    "import os\n",
    "import getpass\n",
    "\n",
    "os.environ[\"OPENAI_API_KEY\"] = getpass.getpass(\"Enter your OpenAI API Key:\")"
   ]
  },
  {
   "cell_type": "code",
   "execution_count": 6,
   "id": "18c7f0b0",
   "metadata": {},
   "outputs": [
    {
     "name": "stdout",
     "output_type": "stream",
     "text": [
      "\n",
      "🔎 Top 5 Chunks for Query: 'When did construction begin at Amatol, NJ?'\n",
      "\n",
      "Result 1:\n",
      "----------------------------------------\n",
      "Amatol, New Jersey\n",
      "January, 1919\n",
      "[metadata] {'source': 'amatol_book/p-07.txt', '_id': 'fe6099ef-27bd-4f1c-8d3f-24c09f6dfd0d', '_collection_name': 'historical_docs'}\n",
      "\n",
      "Result 2:\n",
      "----------------------------------------\n",
      "Amatol, New Jersey, was built on 6,000 acres of land in the Pine Barrens. The planned community was short lived: After World War I ended that same year, Amatol became a vacant town. The homes were deserted and the plant shut down. Because most of the buildings were built to be temporary, they were dismantled and little was left behind. The factory was eventually demolished.\n",
      "[metadata] {'source': 'amatol_misc/2018-10-16_amatol_article.txt', '_id': 'ecd648f9-13a3-4e79-acd5-895c68710ff6', '_collection_name': 'historical_docs'}\n",
      "\n",
      "Result 3:\n",
      "----------------------------------------\n",
      "All Aboard for Amatol, NJ\n",
      "[metadata] {'source': 'amatol_sojourn/amatol_sojourn_article.txt', '_id': '6b9563a5-e93b-4ee8-b28c-70405f4c9df2', '_collection_name': 'historical_docs'}\n",
      "\n",
      "Result 4:\n",
      "----------------------------------------\n",
      "The history of Amatol begins in December 1917 with the incorporation of the Atlantic Loading Company. Acting as an agent of the United States Government, the Atlantic Loading Company was contracted to construct a large munitions plant and an accompanying town to house the workers. In early 1918, the Atlantic Loading Company planned to build the munitions plant and town near Camp Dix, but because of concerns over water pollution, another location had to be selected. In addition, there were also\n",
      "[metadata] {'source': 'amatol_sojourn/amatol_sojourn_article.txt', '_id': '44e432db-a84b-4069-b82f-4bd99ad6544e', '_collection_name': 'historical_docs'}\n",
      "\n",
      "Result 5:\n",
      "----------------------------------------\n",
      "As a result of America’s entry into World War I, Atlantic County received a great expansion of its industrial economic base. The largest result of this expansion was the construction of Amatol, a planned shell-loading munitions plant and workers’ village that once occupied a tract of 6,000 acres between East Hammonton and Elwood. What is fascinating about Amatol and other planned communities is the speed in which they were completed. In just nine months’ time, the new town and manufactory were\n",
      "[metadata] {'source': 'amatol_sojourn/amatol_sojourn_article.txt', '_id': '7a44628d-5d25-4e29-b1f8-b9573a899ec3', '_collection_name': 'historical_docs'}\n",
      "\n"
     ]
    }
   ],
   "source": [
    "from langchain.vectorstores import Qdrant\n",
    "from langchain.embeddings import OpenAIEmbeddings\n",
    "from qdrant_client import QdrantClient\n",
    "\n",
    "# --- Config ---\n",
    "COLLECTION_NAME = \"historical_docs\"\n",
    "QUERY = \"When did construction begin at Amatol, NJ?\"\n",
    "K = 5\n",
    "\n",
    "# --- Create embedding function ---\n",
    "embedding_fn = OpenAIEmbeddings()\n",
    "\n",
    "# --- Connect to running Qdrant instance ---\n",
    "client = QdrantClient(host=\"localhost\", port=6333)\n",
    "\n",
    "# --- Initialize vector store with client ---\n",
    "vectorstore = Qdrant(\n",
    "    client=client,\n",
    "    collection_name=COLLECTION_NAME,\n",
    "    embeddings=embedding_fn\n",
    ")\n",
    "\n",
    "# --- Perform retrieval ---\n",
    "results = vectorstore.similarity_search(query=QUERY, k=K)\n",
    "\n",
    "# --- Display results ---\n",
    "print(f\"\\n🔎 Top {K} Chunks for Query: '{QUERY}'\\n\")\n",
    "for i, doc in enumerate(results, 1):\n",
    "    print(f\"Result {i}:\")\n",
    "    print(\"-\" * 40)\n",
    "    print(doc.page_content.strip()[:500])\n",
    "    print(f\"[metadata] {doc.metadata}\")\n",
    "    print()\n"
   ]
  },
  {
   "cell_type": "code",
   "execution_count": null,
   "id": "19183813",
   "metadata": {},
   "outputs": [],
   "source": []
  }
 ],
 "metadata": {
  "kernelspec": {
   "display_name": ".venv",
   "language": "python",
   "name": "python3"
  },
  "language_info": {
   "codemirror_mode": {
    "name": "ipython",
    "version": 3
   },
   "file_extension": ".py",
   "mimetype": "text/x-python",
   "name": "python",
   "nbconvert_exporter": "python",
   "pygments_lexer": "ipython3",
   "version": "3.12.11"
  }
 },
 "nbformat": 4,
 "nbformat_minor": 5
}
